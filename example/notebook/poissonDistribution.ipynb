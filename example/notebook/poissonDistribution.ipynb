{
  "nbformat": 4,
  "nbformat_minor": 0,
  "metadata": {
    "colab": {
      "name": "poissonDistribution",
      "provenance": [],
      "authorship_tag": "ABX9TyPdmRA58LXNMjCeaucEflW4"
    },
    "kernelspec": {
      "name": "python3",
      "display_name": "Python 3"
    },
    "language_info": {
      "name": "python"
    }
  },
  "cells": [
    {
      "cell_type": "code",
      "metadata": {
        "id": "P-Ax56wrxKRI"
      },
      "source": [
        "\"\"\"\n",
        "General Distribution\n",
        "(General parent class for to act as a base class)\n",
        "\"\"\"\n",
        "# Author: Ashwin Raj <rajashwin733@gmail.com>\n",
        "# License: GNU General Public License v3.0\n",
        "\n",
        "class Distribution:\n",
        "\t\"\"\"\n",
        "\tGeneric Distribution class for calculating probability distribution\n",
        "\tAttributes:\n",
        "\t\t1. mean\n",
        "\t\t2. stdev\n",
        "\t\t3. data\n",
        "\t\"\"\"\n",
        "\tdef __init__(self,mu=0,sigma=1):\n",
        "\t\t#Mean value of the distribution\n",
        "\t\tself.mean = mu\n",
        "\t\t#Sandard deviation of the distribution\n",
        "\t\tself.stdev = sigma\n",
        "\t\t#List of floats extracted from input file\n",
        "\t\tself.data = []\n",
        "\n",
        "\t\n",
        "\tdef read_data_file(self,file_name):\n",
        "\t\t\"\"\"\n",
        "\t\tMethod to read data from a txt file(file_name) and store in self.data.\n",
        "\t\tThe txt file should have one number (float) per line.\n",
        "\n",
        "\t\tArgs:\n",
        "\t\t\tName of the file to read data from.\n",
        "\n",
        "\t\tReturns:\n",
        "\t\t\tNo return value\n",
        "\t\t\"\"\"\n",
        "\t\twith open(file_name) as file:\n",
        "\t\t#file_name: name of the txt file to read data from\n",
        "\t\t\tdata_list = []\n",
        "\t\t\t#Returns one line from the file\n",
        "\t\t\tline = file.readline()\n",
        "\n",
        "\t\t\twhile line:\n",
        "\t\t\t\t#Add data to the list\n",
        "\t\t\t\tdata_list.append(int(line))\n",
        "\t\t\t\tline = file.readline()\n",
        "\n",
        "\t\t#Close the file\n",
        "\t\tfile.close()\n",
        "\t\t#store the data in the class attribute\n",
        "\t\tself.data = data_list"
      ],
      "execution_count": 1,
      "outputs": []
    },
    {
      "cell_type": "code",
      "metadata": {
        "id": "E0_BuFRaxNdE"
      },
      "source": [
        "\"\"\"\n",
        "Poisson Distribution\n",
        "\"\"\"\n",
        "# Author: Ashwin Raj <rajashwin733@gmail.com>\n",
        "# License: GNU General Public License v3.0\n",
        "\n",
        "import math\n",
        "\n",
        "class Poisson(Distribution):\n",
        "\t\"\"\"\n",
        "\tPoisson distribution class for calculating poisson distribution\n",
        "\tPoisson class inherits from distribution class of generalDistribution.py module\n",
        "\n",
        "\tNotation:\n",
        "\t\tX ~ Pois(μ)\n",
        "\n",
        "\tAttributes:\n",
        "\t\t1. mu (rate parameter)\n",
        "\n",
        "\tParameters:\n",
        "\t\tμ ∈ (0,∞) (rate)\n",
        "\n",
        "\tSupport:\n",
        "\t\tk ∈ ℕ0 (Natural numbers starting from 0)\n",
        "\t\"\"\"\n",
        "\tdef __init__(self,rateParameter=0.5):\n",
        "\t\t#Default value of mu = 0.5\n",
        "\t\tself.mu = rateParameter\n",
        "\n",
        "\t\tDistribution.__init__(self,self.calculate_mean(),self.calculate_stdev())\n",
        "\n",
        "\tdef calculate_mean(self):\n",
        "\t\t\"\"\"\n",
        "\t\tMethod to calculate the mean\n",
        "        \n",
        "\t\tArgs: \n",
        "\t\t\tnone\n",
        "        \n",
        "\t\tReturns: \n",
        "\t\t\tself.mean(float): Mean of the data set\n",
        "\t\t\"\"\"\n",
        "\t\tself.mean = self.mu\n",
        "\t\t#Mean = μ\n",
        "\t\treturn self.mean\n",
        "\n",
        "\tdef calculate_stdev(self):\n",
        "\t\t\"\"\"\n",
        "\t\tMethod to calculate the standard deviation\n",
        "        \n",
        "\t\tArgs: \n",
        "\t\t\tnone\n",
        "        \n",
        "\t\tReturns: \n",
        "\t\t\tself.stdev(float): Standard deviation of the data set\n",
        "\t\t\"\"\"\n",
        "\t\tvariance = self.mu\n",
        "\n",
        "\t\t#Standard deviation = sqrt(variance)\n",
        "\t\tself.stdev = math.sqrt(variance)\n",
        "\t\treturn self.stdev\n",
        "\n",
        "\tdef calculate_mu(self,lamda,t):\n",
        "\t\t\"\"\"\n",
        "\t\tMethod to calculate rate parameter from event rate and time interval\n",
        "        \n",
        "\t\tArgs:\n",
        "\t\t\tlamda(float): Event Rate\n",
        "\t\t\tt(float): Time Interval\n",
        "\n",
        "\t\tReturns:\n",
        "\t\t\tself.mu(float): Rate Parameter\n",
        "\t\t\"\"\"\n",
        "\t\tself.mu = lamda * t\n",
        "\t\treturn self.mu\n",
        "\n",
        "\n",
        "\tdef pdf(self,x):\n",
        "\t\t\"\"\"\n",
        "\t\tMethod to calculate probability density function for poisson distribution\n",
        "        \n",
        "\t\tArgs:\n",
        "\t\t\tx(float): Random variable\n",
        "\n",
        "\t\tReturns:\n",
        "\t\t\tpdf(float): Probability density function for poisson distribution\n",
        "\t\t\"\"\"\n",
        "\t\tpdf = (self.mu ** x) / ((self.mu ** x) * (math.exp(self.mu)))\n",
        "\t\t\"\"\"\n",
        "\t\t\t (e^(-μ) μ(x))\n",
        "\t\tf(x;μ) = ---------------\n",
        "\t\t\t       x!\n",
        "\t\t\"\"\"\n",
        "\t\treturn pdf\n",
        "\n",
        "\tdef __add__(self,other):\n",
        "\t\t\"\"\"\n",
        "\t\tMethod to add together two poisson distributions with equal p\n",
        "        \n",
        "\t\tArgs:\n",
        "\t\t\tother(poisson distribution): Poisson instance\n",
        "            \n",
        "\t\tReturns:\n",
        "\t\t\tresult(poisson distribution): Sum of poisson distribution\n",
        "\t\t\"\"\"\n",
        "\t\tresult = Poisson()\n",
        "\n",
        "\t\t#Calculate the sum of the rate parameter of the two poisson instances\n",
        "\t\tresult.mu = self.mu + other.mu\n",
        "\n",
        "\t\t#Calculate the mean and standard deviation of the result\n",
        "\t\tresult.calculate_mean()\n",
        "\t\tresult.calculate_stdev()\n",
        "\n",
        "\t\treturn result\n",
        "\n",
        "\tdef __repr__(self):\n",
        "\t\t\"\"\"\n",
        "\t\tMethod to output the characteristics of the poisson instance\n",
        "        \n",
        "\t\tArgs:\n",
        "\t\t\tnone\n",
        "        \n",
        "\t\tReturns:\n",
        "\t\t\toutput(string): Characteristics of the distribution\n",
        "\t\t\"\"\"\n",
        "\t\treturn \"mu: {}, mean: {}, standard deviation: {}\".format(self.mu,self.mean,self.stdev)"
      ],
      "execution_count": 2,
      "outputs": []
    },
    {
      "cell_type": "code",
      "metadata": {
        "id": "qnJrGWixygBq"
      },
      "source": [
        "poissonTest = Poisson(0.7)"
      ],
      "execution_count": 3,
      "outputs": []
    },
    {
      "cell_type": "code",
      "metadata": {
        "colab": {
          "base_uri": "https://localhost:8080/"
        },
        "id": "u6Bw_sl7ykY8",
        "outputId": "2a809ee8-5fed-4b53-9072-b261bed3c14d"
      },
      "source": [
        "poissonTest"
      ],
      "execution_count": 4,
      "outputs": [
        {
          "output_type": "execute_result",
          "data": {
            "text/plain": [
              "mu: 0.7, mean: 0.7, standard deviation: 0.8366600265340756"
            ]
          },
          "metadata": {
            "tags": []
          },
          "execution_count": 4
        }
      ]
    },
    {
      "cell_type": "code",
      "metadata": {
        "colab": {
          "base_uri": "https://localhost:8080/"
        },
        "id": "igcqODICymj9",
        "outputId": "a727472a-ccf4-49a6-bc7a-57bfb460ffa0"
      },
      "source": [
        "poissonTest.pdf(3)"
      ],
      "execution_count": 5,
      "outputs": [
        {
          "output_type": "execute_result",
          "data": {
            "text/plain": [
              "0.49658530379140947"
            ]
          },
          "metadata": {
            "tags": []
          },
          "execution_count": 5
        }
      ]
    }
  ]
}