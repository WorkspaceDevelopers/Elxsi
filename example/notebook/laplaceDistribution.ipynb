{
  "nbformat": 4,
  "nbformat_minor": 0,
  "metadata": {
    "colab": {
      "name": "laplaceDistribution",
      "provenance": [],
      "authorship_tag": "ABX9TyMTCHf6vBK3p/02qBwQi9Lf"
    },
    "kernelspec": {
      "name": "python3",
      "display_name": "Python 3"
    },
    "language_info": {
      "name": "python"
    }
  },
  "cells": [
    {
      "cell_type": "code",
      "metadata": {
        "id": "0u8b2zUeratv"
      },
      "source": [
        "\"\"\"\n",
        "General Distribution\n",
        "(General parent class for to act as a base class)\n",
        "\"\"\"\n",
        "# Author: Ashwin Raj <rajashwin733@gmail.com>\n",
        "# License: GNU General Public License v3.0\n",
        "\n",
        "class Distribution:\n",
        "\t\"\"\"\n",
        "\tGeneric Distribution class for calculating probability distribution\n",
        "\tAttributes:\n",
        "\t\t1. mean\n",
        "\t\t2. stdev\n",
        "\t\t3. data\n",
        "\t\"\"\"\n",
        "\tdef __init__(self,mu=0,sigma=1):\n",
        "\t\t#Mean value of the distribution\n",
        "\t\tself.mean = mu\n",
        "\t\t#Sandard deviation of the distribution\n",
        "\t\tself.stdev = sigma\n",
        "\t\t#List of floats extracted from input file\n",
        "\t\tself.data = []\n",
        "\n",
        "\t\n",
        "\tdef read_data_file(self,file_name):\n",
        "\t\t\"\"\"\n",
        "\t\tMethod to read data from a txt file(file_name) and store in self.data.\n",
        "\t\tThe txt file should have one number (float) per line.\n",
        "\n",
        "\t\tArgs:\n",
        "\t\t\tName of the file to read data from.\n",
        "\n",
        "\t\tReturns:\n",
        "\t\t\tNo return value\n",
        "\t\t\"\"\"\n",
        "\t\twith open(file_name) as file:\n",
        "\t\t#file_name: name of the txt file to read data from\n",
        "\t\t\tdata_list = []\n",
        "\t\t\t#Returns one line from the file\n",
        "\t\t\tline = file.readline()\n",
        "\n",
        "\t\t\twhile line:\n",
        "\t\t\t\t#Add data to the list\n",
        "\t\t\t\tdata_list.append(int(line))\n",
        "\t\t\t\tline = file.readline()\n",
        "\n",
        "\t\t#Close the file\n",
        "\t\tfile.close()\n",
        "\t\t#store the data in the class attribute\n",
        "\t\tself.data = data_list"
      ],
      "execution_count": 1,
      "outputs": []
    },
    {
      "cell_type": "code",
      "metadata": {
        "id": "kI3pPBf6rcaE"
      },
      "source": [
        "\"\"\"\n",
        "Laplace Distribution\n",
        "(Also known as Double Exponential Distribution)\n",
        "\"\"\"\n",
        "# Author: Ashwin Raj <rajashwin733@gmail.com>\n",
        "# License: GNU General Public License v3.0\n",
        "\n",
        "import math\n",
        "\n",
        "class Laplace(Distribution):\n",
        "\t\"\"\"\n",
        "\tLaplace distribution class for calculating laplace distribution\n",
        "\tLaplace class inherits from distribution class of generalDistribution.py module\n",
        "\n",
        "\tNotation:\n",
        "\t\tX ∼ Laplace(μ,β)\n",
        "\n",
        "\tAttributes:\n",
        "\t\t1. mu (location parameter)\n",
        "\t\t2. b (scale parameter)\n",
        "\n",
        "\tParameters:\n",
        "\t\tμ location (real)\n",
        "\t\tβ > 0 scale (real)\n",
        "\n",
        "\tSupport:\n",
        "\t\tℝ\n",
        "\t\"\"\"\n",
        "\tdef __init__(self,locationParameter=0,scaleParameter=1):\n",
        "\t\t#Default value of mu = 0\n",
        "\t\tself.mu = locationParameter\n",
        "\t\t#Default value of b = 1\n",
        "\t\tself.b = scaleParameter\n",
        "\n",
        "\t\tDistribution.__init__(self,self.calculate_mean(),self.calculate_stdev())\n",
        "\n",
        "\tdef calculate_mean(self):\n",
        "\t\t\"\"\"\n",
        "\t\tMethod to calculate the mean\n",
        "\t\t\n",
        "\t\tArgs:\n",
        "\t\t\tnone\n",
        "\n",
        "\t\tReturns:\n",
        "\t\t\tself.mean(float): Mean of the input dataset\n",
        "\t\t\"\"\"\n",
        "\t\t#Mean value = location parameter\n",
        "\t\tself.mean = self.mu\n",
        "\t\treturn self.mean\n",
        "\n",
        "\tdef calculate_stdev(self):\n",
        "\t\t\"\"\"\n",
        "\t\tMethod to calculate the standard deviation\n",
        "        \n",
        "\t\tArgs: \n",
        "\t\t\tnone\n",
        "        \n",
        "\t\tReturns: \n",
        "\t\t\tself.stdev(float): Standard deviation of the data set\n",
        "\t\t\"\"\"\n",
        "\t\t#Variance = 2β^(2)\n",
        "\t\tvariance = 2 * (self.b)**2\n",
        "\t\t#Standard deviation = sqrt(variance)\n",
        "\t\tself.stdev = math.sqrt(variance)\n",
        "\t\treturn self.stdev\n",
        "\n",
        "\tdef pdf(self,x):\n",
        "\t\t\"\"\"\n",
        "\t\tMethod to calculate probability density function for laplace distribution\n",
        "        \n",
        "\t\tArgs:\n",
        "\t\t\tx(float): Random variable\n",
        "\n",
        "\t\tReturns:\n",
        "\t\t\tpdf(float): Probability density function for laplace distribution\n",
        "\n",
        "\t\tRaises:\n",
        "\t\t\tZeroDivisionError(string): Raised when division by zero\n",
        "\t\t\tValueError(string): Raised when value error occurs\n",
        "\t\t\"\"\"\n",
        "\t\ttry:\n",
        "\t\t\tnumDifference = x - self.mu\n",
        "\n",
        "\t\t\t#Upadte value of numDifference = |x - μ|\n",
        "\t\t\tif(numDifference < 0):\n",
        "\t\t\t\tnumDifference = -1 * numDifference\n",
        "\n",
        "\t\t\t#powE = -|x-μ| / β\n",
        "\t\t\tpowE = (-1 * numDifference) / self.b\n",
        "\t\t\t\"\"\"\n",
        "\t\t\t\t     1\t -|x-μ| / β\n",
        "\t\t\tf(x;μ,β) = ----- e\n",
        "\t\t\t\t    2 β\n",
        "\t\t\t\"\"\"\n",
        "\t\t\t#Numerator of the pdf expression\n",
        "\t\t\tpdfNumerator = math.exp(powE)\n",
        "\t\t\t#Denominator of the pdf expression\n",
        "\t\t\tpdfDenominator = 2 * self.b\n",
        "\n",
        "\t\t\treturn pdfNumerator / pdfDenominator\n",
        "\n",
        "\t\t#If division by zero occurs, raise an error\n",
        "\t\texcept ZeroDivisionError as error:\t\n",
        "\t\t\traise\n",
        "\n",
        "\t\t#If value error occurs, raise an error\n",
        "\t\texcept ValueError as error:\n",
        "\t\t\traise\n",
        "\n",
        "\tdef __add__(self,other):\n",
        "\t\t\"\"\"\n",
        "\t\tMethod to add together two laplace distributions with equal p\n",
        "        \n",
        "\t\tArgs:\n",
        "\t\t\tother(laplace distribution): Laplace instance\n",
        "            \n",
        "\t\tReturns:\n",
        "\t\t\tresult(laplace distribution): Sum of laplace distribution\n",
        "\t\t\"\"\"\n",
        "\t\tresult = Laplace()\n",
        "\t\t#Calculate the location parameter of the sum of two instances\n",
        "\t\tresult.mu = self.mu + other.mu\n",
        "\t\t#Calculate the scale parameter of the sum of two instances\n",
        "\t\tresult.b = self.b + other.b\n",
        "\n",
        "\t\t#Calculate the mean of the two laplace instances\n",
        "\t\tresult.calculate_mean()\n",
        "\t\t#Calculate the standard deviation of the two laplace instances\n",
        "\t\tresult.calculate_stdev()\n",
        "\t\treturn result\n",
        "\n",
        "\tdef __repr__(self):\n",
        "\t\t\"\"\"\n",
        "\t\tMethod to output the characteristics of the laplace instance\n",
        "        \n",
        "\t\tArgs:\n",
        "\t\t\tnone\n",
        "        \n",
        "\t\tReturns:\n",
        "\t\t\toutput(string): Characteristics of the distribution\n",
        "\t\t\"\"\"\n",
        "\t\treturn \"μ: {}, β: {}, Mean: {}, Standard Deviation: {}\".format(self.mu,self.b,self.mean,self.stdev)"
      ],
      "execution_count": 2,
      "outputs": []
    },
    {
      "cell_type": "code",
      "metadata": {
        "id": "zumqtVW8sTl9"
      },
      "source": [
        "laplaceTest = Laplace(2,3)"
      ],
      "execution_count": 3,
      "outputs": []
    },
    {
      "cell_type": "code",
      "metadata": {
        "colab": {
          "base_uri": "https://localhost:8080/"
        },
        "id": "AcMM-L2fsi_n",
        "outputId": "72940de4-404e-48f9-b1f9-bb97e48199dc"
      },
      "source": [
        "laplaceTest"
      ],
      "execution_count": 4,
      "outputs": [
        {
          "output_type": "execute_result",
          "data": {
            "text/plain": [
              "μ: 2, β: 3, Mean: 2, Standard Deviation: 4.242640687119285"
            ]
          },
          "metadata": {
            "tags": []
          },
          "execution_count": 4
        }
      ]
    },
    {
      "cell_type": "code",
      "metadata": {
        "colab": {
          "base_uri": "https://localhost:8080/"
        },
        "id": "OAR8lNmosoXA",
        "outputId": "76e86343-d957-482e-876d-0e76c0d9f5ba"
      },
      "source": [
        "laplaceTest.pdf(3)"
      ],
      "execution_count": 5,
      "outputs": [
        {
          "output_type": "execute_result",
          "data": {
            "text/plain": [
              "0.11942188509563155"
            ]
          },
          "metadata": {
            "tags": []
          },
          "execution_count": 5
        }
      ]
    }
  ]
}