{
  "nbformat": 4,
  "nbformat_minor": 0,
  "metadata": {
    "colab": {
      "name": "logLogisticDistribution",
      "provenance": [],
      "authorship_tag": "ABX9TyPMekBpBOjA3Wynj6EBxLif"
    },
    "kernelspec": {
      "name": "python3",
      "display_name": "Python 3"
    },
    "language_info": {
      "name": "python"
    }
  },
  "cells": [
    {
      "cell_type": "code",
      "metadata": {
        "id": "GMhtan50vQuG"
      },
      "source": [
        "\"\"\"\n",
        "General Distribution\n",
        "(General parent class for to act as a base class)\n",
        "\"\"\"\n",
        "# Author: Ashwin Raj <rajashwin733@gmail.com>\n",
        "# License: GNU General Public License v3.0\n",
        "\n",
        "class Distribution:\n",
        "\t\"\"\"\n",
        "\tGeneric Distribution class for calculating probability distribution\n",
        "\tAttributes:\n",
        "\t\t1. mean\n",
        "\t\t2. stdev\n",
        "\t\t3. data\n",
        "\t\"\"\"\n",
        "\tdef __init__(self,mu=0,sigma=1):\n",
        "\t\t#Mean value of the distribution\n",
        "\t\tself.mean = mu\n",
        "\t\t#Sandard deviation of the distribution\n",
        "\t\tself.stdev = sigma\n",
        "\t\t#List of floats extracted from input file\n",
        "\t\tself.data = []\n",
        "\n",
        "\t\n",
        "\tdef read_data_file(self,file_name):\n",
        "\t\t\"\"\"\n",
        "\t\tMethod to read data from a txt file(file_name) and store in self.data.\n",
        "\t\tThe txt file should have one number (float) per line.\n",
        "\n",
        "\t\tArgs:\n",
        "\t\t\tName of the file to read data from.\n",
        "\n",
        "\t\tReturns:\n",
        "\t\t\tNo return value\n",
        "\t\t\"\"\"\n",
        "\t\twith open(file_name) as file:\n",
        "\t\t#file_name: name of the txt file to read data from\n",
        "\t\t\tdata_list = []\n",
        "\t\t\t#Returns one line from the file\n",
        "\t\t\tline = file.readline()\n",
        "\n",
        "\t\t\twhile line:\n",
        "\t\t\t\t#Add data to the list\n",
        "\t\t\t\tdata_list.append(int(line))\n",
        "\t\t\t\tline = file.readline()\n",
        "\n",
        "\t\t#Close the file\n",
        "\t\tfile.close()\n",
        "\t\t#store the data in the class attribute\n",
        "\t\tself.data = data_list"
      ],
      "execution_count": 2,
      "outputs": []
    },
    {
      "cell_type": "code",
      "metadata": {
        "id": "BjIDtH7qvR3u"
      },
      "source": [
        "\"\"\"\n",
        "Log Logistic Distribution\n",
        "(Also known as Fisk Distribution)\n",
        "\"\"\"\n",
        "# Author: Ashwin Raj <rajashwin733@gmail.com>\n",
        "# License: GNU General Public License v3.0\n",
        "\n",
        "import math\n",
        "from numpy import sin\t#Import sin() method from Numpy module\n",
        "\n",
        "class LogLogistic(Distribution):\n",
        "\t\"\"\"\n",
        "\tLog logistic distribution class for calculating log logistic distribution\n",
        "\tLog logistic class inherits from distribution class of generalDistribution.py module\n",
        "\n",
        "\tNotation:\n",
        "\t\tX ∼ LogLogistic(α,β)\n",
        "\n",
        "\tAttributes:\n",
        "\t\t1. a (scale parameter, a>0)\n",
        "\t\t2. b (shape parameter, b>0)\n",
        "\n",
        "\tParameters:\n",
        "\t\tα > 0 location\n",
        "\t\tβ > 0 scale\n",
        "\n",
        "\tSupport:\n",
        "\t\tx ∈ [0,∞)\n",
        "\t\"\"\"\n",
        "\tdef __init__(self,scaleParameter=1,shapeParameter=1):\n",
        "\t\t#Default value of a = 1\n",
        "\t\tself.a = scaleParameter\n",
        "\t\t#Default value of b = 1\n",
        "\t\tself.b = shapeParameter\n",
        "\n",
        "\t\tDistribution.__init__(self,self.calculate_mean(),self.calculate_stdev())\n",
        "\n",
        "\tdef calculate_mean(self):\n",
        "\t\t\"\"\"\n",
        "\t\tMethod to calculate the mean\n",
        "\t\t\n",
        "\t\tArgs:\n",
        "\t\t\tnone\n",
        "\n",
        "\t\tReturns:\n",
        "\t\t\tself.mean(float): Mean of the input dataset\n",
        "\n",
        "\t\tRaises:\n",
        "\t\t\tZeroDivisionError(string): Raised when division by zero\n",
        "\t\t\tValueError(string): Raised when value error occurs\n",
        "\t\t\"\"\"\n",
        "\t\t#Numerator of the mean\n",
        "\t\tavgNumerator = (self.a * math.pi) / self.b\n",
        "\t\t#Denominator of the mean\n",
        "\t\tavgDenominator = sin(math.pi / self.b)\n",
        "\n",
        "\t\ttry:\n",
        "\t\t\tif (self.b > 1):\n",
        "\t\t\t\t\"\"\"\n",
        "\t\t\t\t\t  απ / β\n",
        "\t\t\t\tMean = ------------, if β>1, else undefined\n",
        "\t\t\t\t\t sin(π/β)\n",
        "\t\t\t\t\"\"\"\n",
        "\t\t\t\tself.mean = avgNumerator / avgDenominator\n",
        "\t\t\t\treturn self.mean\n",
        "\n",
        "\t\t\telse:\n",
        "\t\t\t\treturn \"Undefined\"\n",
        "\n",
        "\t\t#If division by zero occurs, raise an error\n",
        "\t\texcept ZeroDivisionError as error:\t\n",
        "\t\t\traise\n",
        "\n",
        "\t\t#If value error occurs, raise an error\n",
        "\t\texcept ValueError as error:\n",
        "\t\t\traise\n",
        "\n",
        "\tdef calculate_stdev(self):\n",
        "\t\t\"\"\"\n",
        "\t\tMethod to calculate the standard deviation\n",
        "        \n",
        "\t\tArgs: \n",
        "\t\t\tnone\n",
        "        \n",
        "\t\tReturns: \n",
        "\t\t\tself.stdev(float): Standard deviation of the data set\n",
        "\n",
        "\t\tRaises:\n",
        "\t\t\tZeroDivisionError(string): Raised when division by zero\n",
        "\t\t\tValueError(string): Raised when value error occurs\n",
        "\t\t\"\"\"\n",
        "\t\ttry:\n",
        "\t\t\tif(self.b > 2):\n",
        "\t\t\t\t#Using p = π/β for convenience\n",
        "\t\t\t\tp = math.pi / self.b\n",
        "\n",
        "\t\t\t\t#Variance = α^2(2β/sin2β - β^2/sin^2(β)), β >2\n",
        "\t\t\t\tvariance = (self.a ** 2) * ((2 * p) / sin(2 * p) - (p ** 2) / (sin(p) ** 2))\n",
        "\n",
        "\t\t\t\t#Standard deviation = sqrt(variance)\n",
        "\t\t\t\tself.stdev = math.sqrt(variance)\n",
        "\t\t\t\treturn self.stdev\n",
        "\n",
        "\t\t\telse:\n",
        "\t\t\t\treturn \"Undefined\"\n",
        "\n",
        "\t\t#If division by zero occurs, raise an error\n",
        "\t\texcept ZeroDivisionError as error:\t\n",
        "\t\t\traise\n",
        "\n",
        "\t\t#If value error occurs, raise an error\n",
        "\t\texcept ValueError as error:\n",
        "\t\t\traise\n",
        "\n",
        "\tdef pdf(self,x):\n",
        "\t\t\"\"\"\n",
        "\t\tMethod to calculate probability density function for log logistic distribution\n",
        "        \n",
        "\t\tArgs:\n",
        "\t\t\tx(float): Random variable\n",
        "\n",
        "\t\tReturns:\n",
        "\t\t\tpdf(float): Probability density function for log logistic distribution\n",
        "\n",
        "\t\tRaises:\n",
        "\t\t\tZeroDivisionError(string): Raised when division by zero\n",
        "\t\t\tValueError(string): Raised when value error occurs\n",
        "\t\t\"\"\"\n",
        "\t\ttry:\n",
        "\t\t\t#Numerator of the pdf expression\n",
        "\t\t\tpdfNumerator = (self.b / self.a) * ((x / self.a)**(self.b - 1))\n",
        "\t\t\t#Denominator of the pdf expression\n",
        "\t\t\tpdfDenominator = (1 + ((x / self.a) ** self.b)) ** 2\n",
        "\t\t\t\"\"\"\t\t\t\t  \n",
        "\t\t\t\t    (β/α) (x/α)^(β-1)\n",
        "\t\t\tf(x;α,β) = -------------------\n",
        "\t\t\t\t    ((1 + (x/α)^β)^2)\n",
        "\t\t\t\"\"\"\n",
        "\t\t\treturn pdfNumerator / pdfDenominator\n",
        "\n",
        "\t\t#If division by zero occurs, raise an error\n",
        "\t\texcept ZeroDivisionError as error:\t\n",
        "\t\t\traise\n",
        "\n",
        "\t\t#If value error occurs, raise an error\n",
        "\t\texcept ValueError as error:\n",
        "\t\t\traise\n",
        "\n",
        "\tdef __repr__(self):\n",
        "\t\t\"\"\"\n",
        "\t\tMethod to output the characteristics of the log logistic instance\n",
        "        \n",
        "\t\tArgs:\n",
        "\t\t\tnone\n",
        "        \n",
        "\t\tReturns:\n",
        "\t\t\toutput(string): Characteristics of the distribution\n",
        "\t\t\"\"\"\n",
        "\t\treturn \"α: {}, β: {}, Mean: {}, Standard Deviation: {}\".format(self.a,self.b,self.mean,self.stdev)"
      ],
      "execution_count": 3,
      "outputs": []
    },
    {
      "cell_type": "code",
      "metadata": {
        "id": "ax0i4qYgwtiq"
      },
      "source": [
        "logLogisticTest = LogLogistic(2,3)"
      ],
      "execution_count": 4,
      "outputs": []
    },
    {
      "cell_type": "code",
      "metadata": {
        "colab": {
          "base_uri": "https://localhost:8080/"
        },
        "id": "6ArMK1VEw0AZ",
        "outputId": "07cbe8a8-23fa-4f76-c00f-f65f08d0fdac"
      },
      "source": [
        "logLogisticTest"
      ],
      "execution_count": 5,
      "outputs": [
        {
          "output_type": "execute_result",
          "data": {
            "text/plain": [
              "α: 2, β: 3, Mean: 2.4183991523122903, Standard Deviation: 1.9557459316957186"
            ]
          },
          "metadata": {
            "tags": []
          },
          "execution_count": 5
        }
      ]
    },
    {
      "cell_type": "code",
      "metadata": {
        "colab": {
          "base_uri": "https://localhost:8080/"
        },
        "id": "qte4YWyAw52P",
        "outputId": "2a5a4c95-249f-4f54-daee-39f97f0136a0"
      },
      "source": [
        "logLogisticTest.pdf(3)"
      ],
      "execution_count": 6,
      "outputs": [
        {
          "output_type": "execute_result",
          "data": {
            "text/plain": [
              "0.1763265306122449"
            ]
          },
          "metadata": {
            "tags": []
          },
          "execution_count": 6
        }
      ]
    }
  ]
}