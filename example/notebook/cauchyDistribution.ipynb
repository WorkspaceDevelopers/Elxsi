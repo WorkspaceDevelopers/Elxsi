{
  "nbformat": 4,
  "nbformat_minor": 0,
  "metadata": {
    "colab": {
      "name": "cauchyDistribution",
      "provenance": [],
      "authorship_tag": "ABX9TyOYnZnLTt9hALTKe64ZY2WO"
    },
    "kernelspec": {
      "name": "python3",
      "display_name": "Python 3"
    },
    "language_info": {
      "name": "python"
    }
  },
  "cells": [
    {
      "cell_type": "code",
      "metadata": {
        "id": "SVmpe5pUR4jz"
      },
      "source": [
        "\"\"\"\n",
        "General Distribution\n",
        "(General parent class for to act as a base class)\n",
        "\"\"\"\n",
        "# Author: Ashwin Raj <rajashwin733@gmail.com>\n",
        "# License: GNU General Public License v3.0\n",
        "\n",
        "class Distribution:\n",
        "\t\"\"\"\n",
        "\tGeneric Distribution class for calculating probability distribution\n",
        "\tAttributes:\n",
        "\t\t1. mean\n",
        "\t\t2. stdev\n",
        "\t\t3. data\n",
        "\t\"\"\"\n",
        "\tdef __init__(self,mu=0,sigma=1):\n",
        "\t\t#Mean value of the distribution\n",
        "\t\tself.mean = mu\n",
        "\t\t#Sandard deviation of the distribution\n",
        "\t\tself.stdev = sigma\n",
        "\t\t#List of floats extracted from input file\n",
        "\t\tself.data = []\n",
        "\n",
        "\t\n",
        "\tdef read_data_file(self,file_name):\n",
        "\t\t\"\"\"\n",
        "\t\tMethod to read data from a txt file(file_name) and store in self.data.\n",
        "\t\tThe txt file should have one number (float) per line.\n",
        "\n",
        "\t\tArgs:\n",
        "\t\t\tName of the file to read data from.\n",
        "\n",
        "\t\tReturns:\n",
        "\t\t\tNo return value\n",
        "\t\t\"\"\"\n",
        "\t\twith open(file_name) as file:\n",
        "\t\t#file_name: name of the txt file to read data from\n",
        "\t\t\tdata_list = []\n",
        "\t\t\t#Returns one line from the file\n",
        "\t\t\tline = file.readline()\n",
        "\n",
        "\t\t\twhile line:\n",
        "\t\t\t\t#Add data to the list\n",
        "\t\t\t\tdata_list.append(int(line))\n",
        "\t\t\t\tline = file.readline()\n",
        "\n",
        "\t\t#Close the file\n",
        "\t\tfile.close()\n",
        "\t\t#store the data in the class attribute\n",
        "\t\tself.data = data_list"
      ],
      "execution_count": 1,
      "outputs": []
    },
    {
      "cell_type": "code",
      "metadata": {
        "id": "bc9ClbiAR5px"
      },
      "source": [
        "\"\"\"\n",
        "Cauchy Distribution\n",
        "(Also known as Lorentz distribution, Cauchy–Lorentz distribution, Lorentz(ian) function, or Breit–Wigner distribution)\n",
        "\"\"\"\n",
        "# Author: Ashwin Raj <rajashwin733@gmail.com>\n",
        "# License: GNU General Public License v3.0\n",
        "\n",
        "import math\n",
        "\n",
        "class Cauchy(Distribution):\n",
        "\t\"\"\"\n",
        "\tCauchy distribution class for calculating cauchy distribution\n",
        "\tCauchy class inherits from distribution class of generalDistribution.py module\n",
        "\n",
        "\tNotation:\n",
        "\t\tX ~ Cauchy(x0,γ)\n",
        "\n",
        "\tAttributes:\n",
        "\t\tnone\n",
        "\n",
        "\tParameters:\n",
        "\t\tx0 location(real)\n",
        "\t\tγ>0 scale (real)\n",
        "\n",
        "\tSupport:\n",
        "\t\tx ∈ (-∞,+∞)\n",
        "\t\"\"\"\t\n",
        "\tdef __init__(self):\n",
        "\t\tDistribution.__init__(self,self.calculate_mean(),self.calculate_stdev())\n",
        "\n",
        "\tdef calculate_mean(self):\n",
        "\t\t\"\"\"\n",
        "\t\tMethod to calculate the mean of the input dataset\n",
        "\n",
        "\t\tArgs:\n",
        "\t\t\tnone\n",
        "\n",
        "\t\tReturns:\n",
        "\t\t\toutput(string): Mean is not defined for cauchy distribution\n",
        "\t\t\"\"\"\n",
        "\t\treturn \"Undefined\"\n",
        "\n",
        "\tdef calculate_stdev(self):\n",
        "\t\t\"\"\"\n",
        "\t\tMethod to calculate the standard deviation of the input dataset\n",
        "\t\t\n",
        "\t\tArgs:\n",
        "\t\t\tnone\n",
        "\n",
        "\t\tReturns:\n",
        "\t\t\toutput(string): Standard deviation is not defined for Cauchy Distribution\n",
        "\t\t\"\"\"\n",
        "\t\treturn \"Undefined\"\n",
        "\n",
        "\tdef pdf(self,x,scaleParameter=1,locationParameter=0):\n",
        "\t\t\"\"\"\n",
        "\t\tMethod to calculate probability density function for cauchy distribution\n",
        "        \n",
        "\t\tArgs:\n",
        "\t\t\tx(float): Random variable\n",
        "\t\t\tscaleParameter(float) = Scale Parameter (x0)\n",
        "\t\t\tlocationParameter(float) = Location Parameter (γ)\n",
        "\n",
        "\t\tReturns:\n",
        "\t\t\tpdf(float): Probability density function for cauchy distribution\n",
        "\t\t\"\"\"\n",
        "\t\t#Default value of s = 1\n",
        "\t\ts = scaleParameter\n",
        "\t\t#Default value of t = 0\n",
        "\t\tt = locationParameter\n",
        "\n",
        "\t\ttry:\n",
        "\t\t\t\"\"\"\n",
        "\t\t\t\t\t\t1\n",
        "\t\t\tf(x;x0,γ) = ------------------------\n",
        "\t\t\t\t    π γ [1 + ((x - x0)/γ)^2]\n",
        "\t\t\t\"\"\"\n",
        "\t\t\tpdfDenominator = (s * math.pi) * (1 + ((x - t) / (s ** 2)))\n",
        "\t\t\treturn 1 / pdfDenominator\n",
        "\n",
        "\t\t#If division by zero occurs, raise an error\n",
        "\t\texcept ZeroDivisionError as error:\t\n",
        "\t\t\traise\n",
        "\n",
        "\tdef __repr__(self):\n",
        "\t\t\"\"\"\n",
        "\t\tMethod to output the characteristics of the cauchy instance\n",
        "        \n",
        "\t\tArgs:\n",
        "\t\t\tnone\n",
        "        \n",
        "\t\tReturns:\n",
        "\t\t\toutput(string): Characteristics of the distribution\n",
        "\t\t\"\"\"\n",
        "\t\treturn \"mean: undefined, standard deviation: undefined\""
      ],
      "execution_count": 7,
      "outputs": []
    },
    {
      "cell_type": "code",
      "metadata": {
        "id": "HPDldRs6SFAE"
      },
      "source": [
        "testCauchy = Cauchy()"
      ],
      "execution_count": 8,
      "outputs": []
    },
    {
      "cell_type": "code",
      "metadata": {
        "colab": {
          "base_uri": "https://localhost:8080/"
        },
        "id": "Mx7mdq_kSLMc",
        "outputId": "7bfee98d-ea23-4018-f7b5-98b0be346248"
      },
      "source": [
        "testCauchy"
      ],
      "execution_count": 9,
      "outputs": [
        {
          "output_type": "execute_result",
          "data": {
            "text/plain": [
              "mean: undefined, standard deviation: undefined"
            ]
          },
          "metadata": {
            "tags": []
          },
          "execution_count": 9
        }
      ]
    },
    {
      "cell_type": "code",
      "metadata": {
        "colab": {
          "base_uri": "https://localhost:8080/"
        },
        "id": "tDrwPiVFSd4K",
        "outputId": "50ad8be3-affd-44d9-a76b-6d2bfb22e35c"
      },
      "source": [
        "testCauchy.pdf(3)"
      ],
      "execution_count": 10,
      "outputs": [
        {
          "output_type": "execute_result",
          "data": {
            "text/plain": [
              "0.07957747154594767"
            ]
          },
          "metadata": {
            "tags": []
          },
          "execution_count": 10
        }
      ]
    }
  ]
}