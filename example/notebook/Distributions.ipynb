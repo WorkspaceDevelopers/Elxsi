{
  "nbformat": 4,
  "nbformat_minor": 0,
  "metadata": {
    "colab": {
      "name": "Distributions",
      "provenance": [],
      "authorship_tag": "ABX9TyNuY7PzDmQq9RkDniaPPVwb",
      "include_colab_link": true
    },
    "kernelspec": {
      "display_name": "Python 3",
      "name": "python3"
    },
    "language_info": {
      "name": "python"
    }
  },
  "cells": [
    {
      "cell_type": "markdown",
      "metadata": {
        "id": "view-in-github",
        "colab_type": "text"
      },
      "source": [
        "<a href=\"https://colab.research.google.com/github/ashwinraj-in/elxsi/blob/main/example/notebook/Distributions.ipynb\" target=\"_parent\"><img src=\"https://colab.research.google.com/assets/colab-badge.svg\" alt=\"Open In Colab\"/></a>"
      ]
    },
    {
      "cell_type": "code",
      "metadata": {
        "id": "4b2NyX6joKe5"
      },
      "source": [
        "class Distribution:\n",
        "\t\"\"\"\n",
        "\tGeneric Distribution class for calculating probability distribution.\n",
        "\tAttributes:\n",
        "\t\t1. mean\n",
        "\t\t2. stdev\n",
        "\t\t3. data\n",
        "\t\"\"\"\n",
        "\tdef __init__(self,mu=0,sigma=1):\n",
        "\t\tself.mean = mu\t\t\t# mean value of the distribution\n",
        "\t\tself.stdev = sigma\t\t# standard deviation of the distribution\n",
        "\t\tself.data = []\t\t\t# list of floats extracted from input file\n",
        "\n",
        "\t\n",
        "\tdef read_data_file(self,file_name):\t#file_name: name of the txt file to read data from\n",
        "\t\t\"\"\"\n",
        "\t\tMethod to read data from a txt file(file_name) and store in self.data.\n",
        "\t\tThe txt file should have one number (float) per line.\n",
        "\n",
        "\t\tArgs:\n",
        "\t\t\tName of the file to read data from.\n",
        "\n",
        "\t\tReturns:\n",
        "\t\t\tNo return value\n",
        "\t\t\"\"\"\n",
        "\t\twith open(file_name) as file:\n",
        "\t\t\tdata_list = []\n",
        "\t\t\tline = file.readline()\t# returns one line from the file\n",
        "\n",
        "\t\t\twhile line:\n",
        "\t\t\t\tdata_list.append(int(line))\t# add data to the list\n",
        "\t\t\t\tline = file.readline()\n",
        "\n",
        "\t\tfile.close()\n",
        "\t\tself.data = data_list"
      ],
      "execution_count": null,
      "outputs": []
    },
    {
      "cell_type": "code",
      "metadata": {
        "id": "vLXW-2hBOLEh"
      },
      "source": [
        "import math\n",
        "\n",
        "class YuleSimon(Distribution):\n",
        "\tdef __init__(self,rho):\n",
        "\t\tself.rho = rho\n",
        "\n",
        "\t\tDistribution.__init__(self,self.calculate_mean(),self.calculate_stdev())\n",
        "\n",
        "\tdef calculate_mean(self):\n",
        "\t\tif (self.rho > 1):\n",
        "\t\t\tself.mean = self.rho / (self.rho - 1)\n",
        "\n",
        "\t\telse:\n",
        "\t\t\tself.mean = \"Undefined\"\n",
        "\t\t\n",
        "\t\treturn self.mean\n",
        "\n",
        "\tdef calculate_stdev(self):\n",
        "\t\tif (self.rho > 2):\n",
        "\t\t\tvariance = (self.rho ** 2) / (((self.rho - 1)**2) * (self.rho - 2))\n",
        "\t\t\tself.stdev = math.sqrt(variance)\n",
        "\n",
        "\t\telse:\n",
        "\t\t\tself.stdev = \"Undefined\"\n",
        "\t\treturn self.stdev\n",
        "\n",
        "\tdef pdf(self,x):\n",
        "\t\ttry:\n",
        "\t\t\tpdfNumerator = self.rho * math.gamma(x) * math.gamma(self.rho + 1)\n",
        "\t\t\tpdfDenominator = math.gamma(x + self.rho + 1)\n",
        "\t\t\treturn pdfNumerator / pdfDenominator\n",
        "\n",
        "\t\t#If division by zero occurs, raise an error\n",
        "\t\texcept ZeroDivisionError as error:\t\n",
        "\t\t\traise\n",
        "\n",
        "\t\t#If value error occurs, raise an error\n",
        "\t\texcept ValueError as error:\n",
        "\t\t\traise\n",
        "\n",
        "\tdef __repr__(self):\n",
        "\t\treturn \"ρ:{}, Mean:{}, Standard Deviation:{}\".format(self.rho,self.mean,self.stdev)"
      ],
      "execution_count": null,
      "outputs": []
    },
    {
      "cell_type": "code",
      "metadata": {
        "id": "_RV3Pw-MORB1"
      },
      "source": [
        "cat = YuleSimon(4)"
      ],
      "execution_count": null,
      "outputs": []
    },
    {
      "cell_type": "code",
      "metadata": {
        "colab": {
          "base_uri": "https://localhost:8080/"
        },
        "id": "eYyXhzyBOYPN",
        "outputId": "5696fc7d-1279-4387-addc-e217714d7757"
      },
      "source": [
        "cat"
      ],
      "execution_count": null,
      "outputs": [
        {
          "output_type": "execute_result",
          "data": {
            "text/plain": [
              "ρ:4, Mean:1.3333333333333333, Standard Deviation:0.9428090415820634"
            ]
          },
          "metadata": {
            "tags": []
          },
          "execution_count": 10
        }
      ]
    },
    {
      "cell_type": "code",
      "metadata": {
        "id": "eMsdwrPGOg3Q",
        "colab": {
          "base_uri": "https://localhost:8080/"
        },
        "outputId": "c1cf84df-10fd-4be8-c091-1a5ed1aecc3c"
      },
      "source": [
        "cat.pdf(5)"
      ],
      "execution_count": null,
      "outputs": [
        {
          "output_type": "execute_result",
          "data": {
            "text/plain": [
              "0.006349206349206349"
            ]
          },
          "metadata": {
            "tags": []
          },
          "execution_count": 11
        }
      ]
    },
    {
      "cell_type": "code",
      "metadata": {
        "id": "r4MG8gg1BdOf"
      },
      "source": [
        "\"\"\"\n",
        "Rayleigh Distribution\n",
        "(Special case of the Weibull distribution with scale parameter of 2)\n",
        "\"\"\"\n",
        "# Author: Ashwin Raj <rajashwin733@gmail.com>\n",
        "# License: GNU General Public License v3.0\n",
        "\n",
        "import math\n",
        "\n",
        "class Rayleigh(Distribution):\n",
        "\t\"\"\"\n",
        "\tReciprocal distribution class for calculating reciprocal distribution\n",
        "\tReciprocal class inherits from distribution class of generalDistribution.py module\n",
        "\n",
        "\tNotation:\n",
        "\t\tX ∼ Ray(σ)\n",
        "\n",
        "\tAttributes:\n",
        "\t\t1. scaleParameter\n",
        "\n",
        "\tParameters:\n",
        "\t\t0 < a < b,\n",
        "\t\ta,b ∈ ℝ\n",
        "\n",
        "\tSupport:\n",
        "\t\t[a,b]\n",
        "\t\"\"\"\n",
        "\tdef __init__(self,scaleParameter):\n",
        "\t\tself.sigma = scaleParameter\n",
        "\n",
        "\t\tDistribution.__init__(self,self.calculate_mean(),self.calculate_stdev())\n",
        "\n",
        "\tdef calculate_mean(self):\n",
        "\t\tpart = math.pi / 2\n",
        "\t\tself.mean = self.sigma * math.sqrt(part)\n",
        "\t\treturn self.mean\n",
        "\n",
        "\tdef calculate_stdev(self):\n",
        "\t\tvariance = ((4 - math.pi) / 2) * (self.sigma) ** 2\n",
        "\t\tself.stdev = math.sqrt(variance)\n",
        "\t\treturn self.stdev\n",
        "\n",
        "\tdef pdf(self,x):\n",
        "\t\tpowE = (-1.0 * (x ** 2)) / (2 * (self.sigma) ** 2)\n",
        "\t\tpdfOperandOne = x / (self.sigma) ** 2\n",
        "\t\tpdfOperanTwo = math.exp(powE)\n",
        "\t\treturn pdfOperandOne * pdfOperanTwo\n",
        "\n",
        "\tdef __repr__(self):\n",
        "\t\treturn \"σ:{}, Mean:{}, Standard Deviation:{}\".format(self.sigma,self.mean,self.stdev)"
      ],
      "execution_count": null,
      "outputs": []
    },
    {
      "cell_type": "code",
      "metadata": {
        "id": "hkUMOOb_BgNh"
      },
      "source": [
        "twerk = Rayleigh(3)"
      ],
      "execution_count": null,
      "outputs": []
    },
    {
      "cell_type": "code",
      "metadata": {
        "colab": {
          "base_uri": "https://localhost:8080/"
        },
        "id": "pnqSSkmaCGCw",
        "outputId": "a3edcf4e-64e3-4e9f-bcae-105ac3b07e49"
      },
      "source": [
        "twerk"
      ],
      "execution_count": null,
      "outputs": [
        {
          "output_type": "execute_result",
          "data": {
            "text/plain": [
              "σ:3, Mean:3.7599424119465006, Standard Deviation:1.9654091326861007"
            ]
          },
          "metadata": {
            "tags": []
          },
          "execution_count": 6
        }
      ]
    },
    {
      "cell_type": "code",
      "metadata": {
        "colab": {
          "base_uri": "https://localhost:8080/"
        },
        "id": "j6ppRnKZCHro",
        "outputId": "2fd1f63d-5dc1-44ed-d1c6-bb284ef95169"
      },
      "source": [
        "twerk.pdf(2)"
      ],
      "execution_count": null,
      "outputs": [
        {
          "output_type": "execute_result",
          "data": {
            "text/plain": [
              "0.177941645092624"
            ]
          },
          "metadata": {
            "tags": []
          },
          "execution_count": 7
        }
      ]
    },
    {
      "cell_type": "code",
      "metadata": {
        "id": "7lnW4L4nBhe1"
      },
      "source": [
        ""
      ],
      "execution_count": null,
      "outputs": []
    },
    {
      "cell_type": "code",
      "metadata": {
        "id": "ANF05_jHBiCb"
      },
      "source": [
        ""
      ],
      "execution_count": null,
      "outputs": []
    },
    {
      "cell_type": "code",
      "metadata": {
        "id": "rCEko8oThvnU"
      },
      "source": [
        "import math\n",
        "\n",
        "class Reciprocal(Distribution):\n",
        "\tdef __init__(self,a,b):\n",
        "\t\tself.a = a\n",
        "\t\tself.b = b\n",
        "\n",
        "\t\tDistribution.__init__(self,self.calculate_mean(),self.calculate_stdev())\n",
        "\n",
        "\tdef calculate_mean(self):\n",
        "\t\ttry:\n",
        "\t\t\tavgNumerator = self.b - self.a\n",
        "\t\t\tavgDenominator = math.log(float(self.b / self.a))\n",
        "\t\t\tself.mean = avgNumerator / avgDenominator\n",
        "\t\t\treturn self.mean\n",
        "\n",
        "\t\t#If division by zero occurs, raise an error\n",
        "\t\texcept ZeroDivisionError as error:\t\n",
        "\t\t\traise\n",
        "\n",
        "\t\t#If value error occurs, raise an error\n",
        "\t\texcept ValueError as error:\n",
        "\t\t\traise\n",
        "\n",
        "\tdef calculate_stdev(self):\n",
        "\t\ttry:\n",
        "\t\t\tvarNumerator = (self.b ** 2) - (self.a ** 2)\n",
        "\t\t\tvarDenominator = 2 * math.log(float(self.b / self.a))\n",
        "\t\t\tvariance = (varNumerator / varDenominator) - (self.mean ** 2)\n",
        "\t\t\tself.stdev = math.sqrt(variance)\n",
        "\t\t\treturn self.stdev\n",
        "\n",
        "\t\t#If division by zero occurs, raise an error\n",
        "\t\texcept ZeroDivisionError as error:\t\n",
        "\t\t\traise\n",
        "\n",
        "\t\t#If value error occurs, raise an error\n",
        "\t\texcept ValueError as error:\n",
        "\t\t\traise\n",
        "\n",
        "\tdef pdf(self,x):\n",
        "\t\treturn 1 / (x * math.log(float(self.b / self.a)))\n",
        "\n",
        "\tdef __repr__(self):\n",
        "\t\treturn \"a:{}, b:{}, Mean:{}, Standard Deviation:{}\".format(self.a,self.b,self.mean,self.stdev)"
      ],
      "execution_count": null,
      "outputs": []
    },
    {
      "cell_type": "code",
      "metadata": {
        "id": "PV8OqERUh1Q4"
      },
      "source": [
        "cat = Reciprocal(1,4)"
      ],
      "execution_count": null,
      "outputs": []
    },
    {
      "cell_type": "code",
      "metadata": {
        "colab": {
          "base_uri": "https://localhost:8080/"
        },
        "id": "bguXh9jAhvxP",
        "outputId": "24f04af3-6087-4b58-f436-6cf4f99f2aaa"
      },
      "source": [
        "cat"
      ],
      "execution_count": null,
      "outputs": [
        {
          "output_type": "execute_result",
          "data": {
            "text/plain": [
              "a:1, b:4, Mean:2.1640425613334453, Standard Deviation:0.8526583114419248"
            ]
          },
          "metadata": {
            "tags": []
          },
          "execution_count": 30
        }
      ]
    },
    {
      "cell_type": "code",
      "metadata": {
        "colab": {
          "base_uri": "https://localhost:8080/"
        },
        "id": "CHAWohtqhv4M",
        "outputId": "fe964c54-0697-454f-e8a1-2c1d019641f6"
      },
      "source": [
        "cat.pdf(2)"
      ],
      "execution_count": null,
      "outputs": [
        {
          "output_type": "execute_result",
          "data": {
            "text/plain": [
              "0.36067376022224085"
            ]
          },
          "metadata": {
            "tags": []
          },
          "execution_count": 31
        }
      ]
    },
    {
      "cell_type": "code",
      "metadata": {
        "id": "drrKPkOThwUV"
      },
      "source": [
        ""
      ],
      "execution_count": null,
      "outputs": []
    },
    {
      "cell_type": "code",
      "metadata": {
        "id": "k3Muzt7WLQcJ"
      },
      "source": [
        "import math\n",
        "\n",
        "class Trapezoidal(Distribution):\n",
        "\tdef __init__(self,lowerBound,levelStart,levelEnd,upperBound):\n",
        "\t\tself.a = lowerBound\n",
        "\t\tself.b = levelStart\n",
        "\t\tself.c = levelEnd\n",
        "\t\tself.d = upperBound\n",
        "\n",
        "\t\tDistribution.__init__(self,self.calculate_mean(),self.calculate_stdev())\n",
        "\n",
        "\tdef calculate_mean(self):\n",
        "\t\toperandOne = 1 / (3 * (self.d + self.c - self.b - self.a))\n",
        "\t\toperandTwo = (((self.d ** 3 - self.c ** 3) / (self.d - self.c)) - ((self.b ** 3 - self.a ** 3) / (self.b - self.a)))\n",
        "\t\tself.mean = operandOne * operandTwo\n",
        "\t\treturn self.mean\n",
        "\n",
        "\tdef calculate_stdev(self):\n",
        "\t\tvarianceOperandOne = 1 / (6 * (self.d + self.c - self.b - self.a))\n",
        "\t\tvarianceOperandTwo = (((self.d ** 4 - self.c ** 4) / (self.d - self.c)) - ((self.b ** 4 - self.a ** 4) / (self.b - self.a)))\n",
        "\t\t\n",
        "\t\tmu = 2 / (self.d + self.c - self.a - self.b)\n",
        "\t\tvarianceOperandThree = mu ** 2\n",
        "\n",
        "\t\tvariance = (varianceOperandOne * varianceOperandTwo) - varianceOperandThree\n",
        "\t\tself.stdev = math.sqrt(variance)\n",
        "\t\treturn self.stdev\n",
        "\n",
        "\tdef pdf(self,x):\n",
        "\t\tmu = 2 / (self.d + self.c - self.a - self.b)\n",
        "\n",
        "\t\tif(self.a <= x and self.b > x):\n",
        "\t\t\tpdf = mu * ((x - self.a) / (self.b - self.a))\n",
        "\n",
        "\t\telif(self.b <= x and self.c > x):\n",
        "\t\t\tpdf = mu\n",
        "\n",
        "\t\telif(self.c <= x and self.d >= x):\n",
        "\t\t\tpdf = mu * ((self.d - x) / (self.d - self.c))\n",
        "\n",
        "\t\telse:\n",
        "\t\t\tpdf = \"Undefined\"\n",
        "\n",
        "\t\treturn pdf\n",
        "\n",
        "\tdef __repr__(self):\n",
        "\t\treturn \"a:{}, b:{}, c:{}, d:{}, Mean:{}, Standard Deviation:{}\".format(self.a,self.b,self.c,self.d,self.mean,self.stdev)"
      ],
      "execution_count": null,
      "outputs": []
    },
    {
      "cell_type": "code",
      "metadata": {
        "id": "sNQOvh3ALZTu"
      },
      "source": [
        "rat = Trapezoidal(1,2,3,4)"
      ],
      "execution_count": null,
      "outputs": []
    },
    {
      "cell_type": "code",
      "metadata": {
        "colab": {
          "base_uri": "https://localhost:8080/"
        },
        "id": "NcBAeo6rLQlb",
        "outputId": "ca6d2a88-7af0-43a6-a478-af5e40e7add3"
      },
      "source": [
        "rat"
      ],
      "execution_count": null,
      "outputs": [
        {
          "output_type": "execute_result",
          "data": {
            "text/plain": [
              "a:1, b:2, c:3, d:4, Mean:2.5, Standard Deviation:2.5331140255951103"
            ]
          },
          "metadata": {
            "tags": []
          },
          "execution_count": 24
        }
      ]
    },
    {
      "cell_type": "code",
      "metadata": {
        "colab": {
          "base_uri": "https://localhost:8080/"
        },
        "id": "apduKng9LQuF",
        "outputId": "60fdcfdb-7d84-4f2d-a529-f398ee9d9d18"
      },
      "source": [
        "rat.pdf(3)"
      ],
      "execution_count": null,
      "outputs": [
        {
          "output_type": "execute_result",
          "data": {
            "text/plain": [
              "0.5"
            ]
          },
          "metadata": {
            "tags": []
          },
          "execution_count": 26
        }
      ]
    },
    {
      "cell_type": "code",
      "metadata": {
        "id": "m7xHeXJzhtZc"
      },
      "source": [
        ""
      ],
      "execution_count": null,
      "outputs": []
    },
    {
      "cell_type": "code",
      "metadata": {
        "id": "iLal4eGmLQ0n"
      },
      "source": [
        ""
      ],
      "execution_count": null,
      "outputs": []
    },
    {
      "cell_type": "code",
      "metadata": {
        "id": "nRE7UuPG2RJk"
      },
      "source": [
        "import math\n",
        "\n",
        "class T(Distribution):\n",
        "\tdef __init__(self,degreeOfFreedom):\n",
        "\t\tself.v = degreeOfFreedom\n",
        "\n",
        "\t\tDistribution.__init__(self,self.calculate_mean(),self.calculate_stdev())\n",
        "\n",
        "\tdef calculate_mean(self):\n",
        "\t\tif(self.v > 1):\n",
        "\t\t\tself.mean = 0\n",
        "\t\t\treturn self.mean\n",
        "\n",
        "\t\telse:\n",
        "\t\t\tself.mean = \"Undefined\"\n",
        "\t\t\treturn self.mean\n",
        "\n",
        "\tdef calculate_stdev(self):\n",
        "\t\tif(self.v > 2):\n",
        "\t\t\tvariance = self.v / (self.v - 2)\n",
        "\t\t\tself.stdev = math.sqrt(variance)\n",
        "\t\t\t\n",
        "\n",
        "\t\telif(self.v > 1 and self.v<=2):\n",
        "\t\t\tself.stdev = \"∞\"\n",
        "\n",
        "\t\telse:\n",
        "\t\t\tself.stdev = \"Undefined\"\n",
        "\n",
        "\t\treturn self.stdev\n",
        "\n",
        "\tdef pdf(self,x):\n",
        "\t\tpartOneNumerator = math.gamma((self.v + 1) / 2)\n",
        "\t\tpartOneDenominator = math.sqrt(self.v * math.pi) * math.gamma(self.v / 2)\n",
        "\t\tpartOne = partOneNumerator / partOneDenominator\n",
        "\n",
        "\t\tpowPartTwo = -1.0 * ((self.v + 1) / 2)\n",
        "\t\tpartTwo = (1 + ((x ** 2) / self.v)) ** powPartTwo\n",
        "\t\treturn partOne * partTwo\n",
        "\n",
        "\tdef __repr__(self):\n",
        "\t\treturn \"v: {}, Mean: {}, Standard Deviation: {}\".format(self.v,self.mean,self.stdev)"
      ],
      "execution_count": null,
      "outputs": []
    },
    {
      "cell_type": "code",
      "metadata": {
        "id": "B6d7KNzi2RS9"
      },
      "source": [
        "cat = T(4)"
      ],
      "execution_count": null,
      "outputs": []
    },
    {
      "cell_type": "code",
      "metadata": {
        "colab": {
          "base_uri": "https://localhost:8080/"
        },
        "id": "zhMKmUl62RZi",
        "outputId": "f5dec5af-3af2-49f5-944e-c3c1ba143ba9"
      },
      "source": [
        "cat"
      ],
      "execution_count": null,
      "outputs": [
        {
          "output_type": "execute_result",
          "data": {
            "text/plain": [
              "v: 4, Mean: 0, Standard Deviation: 1.4142135623730951"
            ]
          },
          "metadata": {
            "tags": []
          },
          "execution_count": 20
        }
      ]
    },
    {
      "cell_type": "code",
      "metadata": {
        "id": "0FxcBp_k2Rg1"
      },
      "source": [
        ""
      ],
      "execution_count": null,
      "outputs": []
    },
    {
      "cell_type": "code",
      "metadata": {
        "id": "KGFQnMu82RnO"
      },
      "source": [
        ""
      ],
      "execution_count": null,
      "outputs": []
    },
    {
      "cell_type": "code",
      "metadata": {
        "id": "zyhshatViEhX"
      },
      "source": [
        "import math\n",
        "\n",
        "class F(Distribution):\n",
        "\tdef __init__(self,shapeParameter1,shapeParameter2):\n",
        "\t\tself.d1 = shapeParameter1\n",
        "\t\tself.d2 = shapeParameter2\n",
        "\n",
        "\t\tDistribution.__init__(self,self.calculate_mean(),self.calculate_stdev())\n",
        "\n",
        "\tdef calculate_mean(self):\n",
        "\t\tself.mean = self.d2 / (self.d2 - 2)\n",
        "\t\treturn self.mean\n",
        "\n",
        "\tdef calculate_stdev(self):\n",
        "\t\tvarNumerator = (2 * (self.d2) ** 2) * (self.d1 + self.d2 - 2)\n",
        "\t\tvarDenominator = (self.d1 * ((self.d2 - 2) ** 2) * (self.d2 - 4))\n",
        "\t\tvariance = varNumerator / varDenominator\n",
        "\t\tself.stdev = math.sqrt(variance)\n",
        "\t\treturn self.stdev\n",
        "\n",
        "\tdef pdf(self,x):\n",
        "\t\tpdfNumerator = math.gamma((self.d1 + self.d2) / 2) * ((self.d1 / self.d2) ** (self.d1 / 2)) * (x ** ((self.d1 / 2) - 1))\n",
        "\t\tpdfDenominator = math.gamma(self.d1 / 2) * math.gamma(self.d2 / 2) * (1 + ((self.d1 * x) / self.d2)) ** ((self.d1 + self.d2) / 2)\n",
        "\t\treturn pdfNumerator / pdfDenominator\n",
        "\n",
        "\tdef __repr__(self):\n",
        "\t\treturn \"d1: {}, d2: {}, Mean: {}, Standard Deviation: {}\".format(self.d1,self.d2,self.mean,self.stdev)"
      ],
      "execution_count": null,
      "outputs": []
    },
    {
      "cell_type": "code",
      "metadata": {
        "id": "q5BQ3liQiQmR"
      },
      "source": [
        "cat = F(4,5)"
      ],
      "execution_count": null,
      "outputs": []
    },
    {
      "cell_type": "code",
      "metadata": {
        "colab": {
          "base_uri": "https://localhost:8080/"
        },
        "id": "XV5CVOUMiqZ6",
        "outputId": "48972e2c-9bea-4218-9f0b-23c54269bda6"
      },
      "source": [
        "cat"
      ],
      "execution_count": null,
      "outputs": [
        {
          "output_type": "execute_result",
          "data": {
            "text/plain": [
              "d1: 4, d2: 5, Mean: 1.6666666666666667, Standard Deviation: 3.1180478223116177"
            ]
          },
          "metadata": {
            "tags": []
          },
          "execution_count": 6
        }
      ]
    },
    {
      "cell_type": "code",
      "metadata": {
        "colab": {
          "base_uri": "https://localhost:8080/"
        },
        "id": "gbaYufX9itAr",
        "outputId": "32880b5b-a793-47af-d785-6037682b57ed"
      },
      "source": [
        "cat.pdf(3)"
      ],
      "execution_count": null,
      "outputs": [
        {
          "output_type": "execute_result",
          "data": {
            "text/plain": [
              "0.0681795538575894"
            ]
          },
          "metadata": {
            "tags": []
          },
          "execution_count": 7
        }
      ]
    },
    {
      "cell_type": "code",
      "metadata": {
        "id": "0awEhqcI7L-3"
      },
      "source": [
        "import math\n",
        "from numpy import sin\n",
        "\n",
        "class LogLogistic(Distribution):\n",
        "\tdef __init__(self,scaleParameter,shapeParameter):\n",
        "\t\tself.a = scaleParameter\n",
        "\t\tself.b = shapeParameter\n",
        "\n",
        "\t\tDistribution.__init__(self,self.calculate_mean(),self.calculate_stdev())\n",
        "\n",
        "\tdef calculate_mean(self):\n",
        "\t\tavgNumerator = (self.a * math.pi) / self.b\n",
        "\t\tavgDenominator = sin(math.pi / self.b)\n",
        "\t\tself.mean = avgNumerator / avgDenominator\n",
        "\t\treturn self.mean\n",
        "\n",
        "\tdef calculate_stdev(self):\n",
        "\t\tp = math.pi / self.b\n",
        "\t\tvariance = (self.a ** 2) * ((2 * p) / sin(2 * p) - (p ** 2) / (sin(p) ** 2))\n",
        "\t\tself.stdev = math.sqrt(variance)\n",
        "\t\treturn self.stdev\n",
        "\n",
        "\tdef pdf(self,x):\n",
        "\t\tpdfNumerator = (self.b / self.a) * ((x / self.a)**(self.b - 1))\n",
        "\t\tpdfDenominator = (1 + ((x / self.a) ** self.b)) ** 2\n",
        "\t\treturn pdfNumerator / pdfDenominator\n",
        "\n",
        "\tdef __repr__(self):\n",
        "\t\treturn \"α: {}, β: {}, Mean: {}, Standard Deviation: {}\".format(self.a,self.b,self.mean,self.stdev)"
      ],
      "execution_count": null,
      "outputs": []
    },
    {
      "cell_type": "code",
      "metadata": {
        "id": "PpaghW9e7QoP"
      },
      "source": [
        "tez = LogLogistic(2,3)"
      ],
      "execution_count": null,
      "outputs": []
    },
    {
      "cell_type": "code",
      "metadata": {
        "colab": {
          "base_uri": "https://localhost:8080/"
        },
        "id": "-vY4Alai7gjN",
        "outputId": "5f515fe2-eb7b-4731-eefc-09791efc6f67"
      },
      "source": [
        "tez"
      ],
      "execution_count": null,
      "outputs": [
        {
          "output_type": "execute_result",
          "data": {
            "text/plain": [
              "α: 2, β: 3, Mean: 2.4183991523122903, Standard Deviation: 1.9557459316957186"
            ]
          },
          "metadata": {
            "tags": []
          },
          "execution_count": 58
        }
      ]
    },
    {
      "cell_type": "code",
      "metadata": {
        "colab": {
          "base_uri": "https://localhost:8080/"
        },
        "id": "XAaaScIw7MIm",
        "outputId": "39af3587-5834-4e5e-93a1-0acc3b3ae65b"
      },
      "source": [
        "tez.pdf(3)"
      ],
      "execution_count": null,
      "outputs": [
        {
          "output_type": "execute_result",
          "data": {
            "text/plain": [
              "0.1763265306122449"
            ]
          },
          "metadata": {
            "tags": []
          },
          "execution_count": 59
        }
      ]
    },
    {
      "cell_type": "code",
      "metadata": {
        "id": "wiwvKozO7MPZ"
      },
      "source": [
        ""
      ],
      "execution_count": null,
      "outputs": []
    },
    {
      "cell_type": "code",
      "metadata": {
        "id": "SNd95za57MqL"
      },
      "source": [
        ""
      ],
      "execution_count": null,
      "outputs": []
    },
    {
      "cell_type": "code",
      "metadata": {
        "id": "fM7HjskypSN2"
      },
      "source": [
        "import math\n",
        "\n",
        "class InverseGaussian(Distribution):\n",
        "\tdef __init__(self,locationParameter=1,scaleParameter=1):\n",
        "\t\tself.mu = locationParameter\n",
        "\t\tself.lamda = scaleParameter\n",
        "\n",
        "\t\tDistribution.__init__(self,self.calculate_mean(),self.calculate_stdev())\n",
        "\n",
        "\tdef calculate_mean(self):\n",
        "\t\tself.mean = self.mu\n",
        "\t\treturn self.mean\n",
        "\n",
        "\tdef calculate_stdev(self):\n",
        "\t\tvariance = (self.mu ** 3) / self.lamda\n",
        "\t\tself.stdev = math.sqrt(variance)\n",
        "\t\treturn self.stdev\n",
        "\n",
        "\tdef pdf(self,x):\n",
        "\t\tpartOne = self.lamda / (2 * math.pi * (x ** 3))\n",
        "\t\tpowNumerator = -1.0 * self.lamda * ((x - self.mu) ** 2)\n",
        "\t\tpowDenominator = 2 * (self.mu ** 2) * x\n",
        "\t\tpowE = powNumerator / powDenominator\n",
        "\t\t\n",
        "\t\toperand1 = math.sqrt(partOne)\n",
        "\t\toperand2 = math.exp(powE)\n",
        "\n",
        "\t\treturn operand1 * operand2\n",
        "\n",
        "\tdef __repr__(self):\n",
        "\t\treturn \"μ: {}, λ: {}, Mean: {}, Standard Deviation: {}\".format(self.mu,self.lamda,self.mean,self.stdev)"
      ],
      "execution_count": null,
      "outputs": []
    },
    {
      "cell_type": "code",
      "metadata": {
        "id": "PsdZKQGLpXIz"
      },
      "source": [
        "testy = InverseGaussian(1,2)"
      ],
      "execution_count": null,
      "outputs": []
    },
    {
      "cell_type": "code",
      "metadata": {
        "colab": {
          "base_uri": "https://localhost:8080/"
        },
        "id": "bNkhNshQpoJA",
        "outputId": "73f8b9ea-fcc0-48d8-bedf-7b615f6470d3"
      },
      "source": [
        "testy"
      ],
      "execution_count": null,
      "outputs": [
        {
          "output_type": "execute_result",
          "data": {
            "text/plain": [
              "μ: 1, λ: 2, Mean: 1, Standard Deviation: 0.7071067811865476"
            ]
          },
          "metadata": {
            "tags": []
          },
          "execution_count": 48
        }
      ]
    },
    {
      "cell_type": "code",
      "metadata": {
        "colab": {
          "base_uri": "https://localhost:8080/"
        },
        "id": "J8RnG9qzppAw",
        "outputId": "d5281b91-687b-4767-ab6c-351029723d2d"
      },
      "source": [
        "testy.pdf(2)"
      ],
      "execution_count": null,
      "outputs": [
        {
          "output_type": "execute_result",
          "data": {
            "text/plain": [
              "0.12098536225957168"
            ]
          },
          "metadata": {
            "tags": []
          },
          "execution_count": 49
        }
      ]
    },
    {
      "cell_type": "code",
      "metadata": {
        "id": "IE2SQ8L9qA9c"
      },
      "source": [
        "cat = InverseGaussian(3,4)"
      ],
      "execution_count": null,
      "outputs": []
    },
    {
      "cell_type": "code",
      "metadata": {
        "id": "djaBAgZgpSW2"
      },
      "source": [
        "sat = testy + cat"
      ],
      "execution_count": null,
      "outputs": []
    },
    {
      "cell_type": "code",
      "metadata": {
        "colab": {
          "base_uri": "https://localhost:8080/"
        },
        "id": "EArs_8fQpSfG",
        "outputId": "53e674ff-4e58-4ed1-d1dd-37ce8789d481"
      },
      "source": [
        "from numpy import sin\n",
        "sin(math.pi/4)"
      ],
      "execution_count": null,
      "outputs": [
        {
          "output_type": "execute_result",
          "data": {
            "text/plain": [
              "0.7071067811865475"
            ]
          },
          "metadata": {
            "tags": []
          },
          "execution_count": 52
        }
      ]
    },
    {
      "cell_type": "code",
      "metadata": {
        "id": "S7l6d4QapSkq"
      },
      "source": [
        ""
      ],
      "execution_count": null,
      "outputs": []
    },
    {
      "cell_type": "code",
      "metadata": {
        "id": "VQVLFvRzSS1C"
      },
      "source": [
        "import math\n",
        "\n",
        "class Levy(Distribution):\n",
        "\tdef __init__(self,scaleParameter=1,locationParameter=2):\n",
        "\t\tself.c = scaleParameter\n",
        "\t\tself.a = locationParameter\n",
        "\n",
        "\t\tDistribution.__init__(self,self.calculate_mean(),self.calculate_stdev())\n",
        "\n",
        "\tdef calculate_mean(self):\n",
        "\t\tself.mean = \"∞\"\n",
        "\t\treturn self.mean\n",
        "\n",
        "\tdef calculate_stdev(self):\n",
        "\t\tself.stdev = \"∞\"\n",
        "\t\treturn self.stdev\n",
        "\n",
        "\tdef pdf(self,x):\n",
        "\t\tpowE = -self.c / (2 * (x - self.a))\n",
        "\t\toperand2Numerator = math.exp(powE)\n",
        "\t\toperand2Denominator = (x - self.a) ** (3 / 2)\n",
        "\n",
        "\t\toperand1 = math.sqrt(self.c / (2 * math.pi))\n",
        "\t\toperand2 = operand2Numerator / operand2Denominator\n",
        "\t\treturn operand1 * operand2\n",
        "\n",
        "\tdef __add__(self,other):\n",
        "\t\tresult = Levy()\n",
        "\t\tresult.c = self.c + other.c\n",
        "\t\tresult.a = self.a + other.a\n",
        "\n",
        "\t\tresult.calculate_mean()\n",
        "\t\tresult.calculate_stdev()\n",
        "\t\treturn result\n",
        "\n",
        "\tdef __repr__(self):\n",
        "\t\treturn \"c: {},μ: {}, Mean: {}, Standard Deviation: {}\".format(self.c,self.a,self.mean,self.stdev)"
      ],
      "execution_count": null,
      "outputs": []
    },
    {
      "cell_type": "code",
      "metadata": {
        "id": "OYMGoClJSm0A"
      },
      "source": [
        "cat = Levy(1,2)"
      ],
      "execution_count": null,
      "outputs": []
    },
    {
      "cell_type": "code",
      "metadata": {
        "colab": {
          "base_uri": "https://localhost:8080/"
        },
        "id": "OObnKLPeSxw8",
        "outputId": "e9a29438-22cb-4f50-a5a3-e36bd867d00e"
      },
      "source": [
        "cat"
      ],
      "execution_count": null,
      "outputs": [
        {
          "output_type": "execute_result",
          "data": {
            "text/plain": [
              "c: 1,μ: 2, Mean: ∞, Standard Deviation: ∞"
            ]
          },
          "metadata": {
            "tags": []
          },
          "execution_count": 35
        }
      ]
    },
    {
      "cell_type": "code",
      "metadata": {
        "colab": {
          "base_uri": "https://localhost:8080/"
        },
        "id": "b4am9mCsS0AP",
        "outputId": "942947bf-d26d-411d-e3b5-2e01c36ce297"
      },
      "source": [
        "cat.pdf(3)"
      ],
      "execution_count": null,
      "outputs": [
        {
          "output_type": "execute_result",
          "data": {
            "text/plain": [
              "0.24197072451914337"
            ]
          },
          "metadata": {
            "tags": []
          },
          "execution_count": 36
        }
      ]
    },
    {
      "cell_type": "code",
      "metadata": {
        "id": "N602N-IGTTrN"
      },
      "source": [
        "mat = Levy(3,4)"
      ],
      "execution_count": null,
      "outputs": []
    },
    {
      "cell_type": "code",
      "metadata": {
        "id": "97EnkKMbSTAr"
      },
      "source": [
        "raj = cat + mat"
      ],
      "execution_count": null,
      "outputs": []
    },
    {
      "cell_type": "code",
      "metadata": {
        "colab": {
          "base_uri": "https://localhost:8080/"
        },
        "id": "GDFKheSvSTHR",
        "outputId": "32463823-bdda-434d-c5da-e3ca08d962d2"
      },
      "source": [
        "raj"
      ],
      "execution_count": null,
      "outputs": [
        {
          "output_type": "execute_result",
          "data": {
            "text/plain": [
              "c: 4,μ: 6, Mean: ∞, Standard Deviation: ∞"
            ]
          },
          "metadata": {
            "tags": []
          },
          "execution_count": 39
        }
      ]
    },
    {
      "cell_type": "code",
      "metadata": {
        "id": "W6g5FlXcSTVX"
      },
      "source": [
        ""
      ],
      "execution_count": null,
      "outputs": []
    },
    {
      "cell_type": "code",
      "metadata": {
        "id": "_6BxfafSD0kW"
      },
      "source": [
        "import math\n",
        "\n",
        "class Laplace(Distribution):\n",
        "\tdef __init__(self,locationParameter=0,scaleParameter=1):\n",
        "\t\tself.mu = locationParameter\n",
        "\t\tself.b = scaleParameter\n",
        "\n",
        "\t\tDistribution.__init__(self,self.calculate_mean(),self.calculate_stdev())\n",
        "\n",
        "\tdef calculate_mean(self):\n",
        "\t\tself.mean = self.mu\n",
        "\t\treturn self.mean\n",
        "\n",
        "\tdef calculate_stdev(self):\n",
        "\t\tvariance = 2 * (self.b)**2\n",
        "\t\tself.stdev = math.sqrt(variance)\n",
        "\t\treturn self.stdev\n",
        "\n",
        "\tdef pdf(self,x):\n",
        "\t\tnumDifference = x - self.mu\n",
        "\n",
        "\t\tif(numDifference < 0):\n",
        "\t\t\tnumDifference = -1 * numDifference\n",
        "\n",
        "\t\tpowE = (-1 * numDifference) / self.b\n",
        "\t\tpdfNumerator = math.exp(powE)\n",
        "\t\tpdfDenominator = 2 * self.b\n",
        "\n",
        "\t\treturn pdfNumerator / pdfDenominator\n",
        "\n",
        "\tdef __add__(self,other):\n",
        "\t\tresult = Laplace()\n",
        "\n",
        "\t\tresult.mu = self.mu + other.mu\n",
        "\t\tresult.b = self.b + other.b\n",
        "\n",
        "\t\tresult.calculate_mean()\n",
        "\t\tresult.calculate_stdev()\n",
        "\t\treturn result\n",
        "\n",
        "\tdef __repr__(self):\n",
        "\t\treturn \"μ: {}, β: {}, Mean: {}, Standard Deviation: {}\".format(self.mu,self.b,self.mean,self.stdev)"
      ],
      "execution_count": null,
      "outputs": []
    },
    {
      "cell_type": "code",
      "metadata": {
        "id": "Iz7twjUGENZD"
      },
      "source": [
        "cat = Laplace(1,2)"
      ],
      "execution_count": null,
      "outputs": []
    },
    {
      "cell_type": "code",
      "metadata": {
        "colab": {
          "base_uri": "https://localhost:8080/"
        },
        "id": "CCfbO9SODy2m",
        "outputId": "182acef5-39c4-4a98-e7ea-ea6afad43cd1"
      },
      "source": [
        "cat"
      ],
      "execution_count": null,
      "outputs": [
        {
          "output_type": "execute_result",
          "data": {
            "text/plain": [
              "μ: 1, β: 2, Mean: 1, Standard Deviation: 2.8284271247461903"
            ]
          },
          "metadata": {
            "tags": []
          },
          "execution_count": 21
        }
      ]
    },
    {
      "cell_type": "code",
      "metadata": {
        "colab": {
          "base_uri": "https://localhost:8080/"
        },
        "id": "3D_KXaiRDzHm",
        "outputId": "b93d48f3-53a2-4a67-95d7-f3ee6927713c"
      },
      "source": [
        "cat.pdf(2)"
      ],
      "execution_count": null,
      "outputs": [
        {
          "output_type": "execute_result",
          "data": {
            "text/plain": [
              "0.15163266492815836"
            ]
          },
          "metadata": {
            "tags": []
          },
          "execution_count": 22
        }
      ]
    },
    {
      "cell_type": "code",
      "metadata": {
        "id": "ROByRplJFSV5"
      },
      "source": [
        "mat = Laplace(3,4)"
      ],
      "execution_count": null,
      "outputs": []
    },
    {
      "cell_type": "code",
      "metadata": {
        "id": "9DMYWw1KDzUF"
      },
      "source": [
        "rum = cat + mat"
      ],
      "execution_count": null,
      "outputs": []
    },
    {
      "cell_type": "code",
      "metadata": {
        "colab": {
          "base_uri": "https://localhost:8080/"
        },
        "id": "DGjgdI0MDzmJ",
        "outputId": "b9762808-022b-434f-da53-c28bcdb37b8f"
      },
      "source": [
        "rum"
      ],
      "execution_count": null,
      "outputs": [
        {
          "output_type": "execute_result",
          "data": {
            "text/plain": [
              "μ: 4, β: 6, Mean: 4, Standard Deviation: 8.48528137423857"
            ]
          },
          "metadata": {
            "tags": []
          },
          "execution_count": 25
        }
      ]
    },
    {
      "cell_type": "code",
      "metadata": {
        "id": "Q3bzpwOsDzxg"
      },
      "source": [
        ""
      ],
      "execution_count": null,
      "outputs": []
    },
    {
      "cell_type": "code",
      "metadata": {
        "id": "8nGTpDftv8qK"
      },
      "source": [
        "import math\n",
        "\n",
        "class Geometric(Distribution):\n",
        "\tdef __init__(self,rho=1,trials=True):\n",
        "\t\tself.p = rho\n",
        "\t\tself.trial = trials\n",
        "\n",
        "\t\tDistribution.__init__(self,self.calculate_mean(),self.calculate_stdev())\n",
        "\n",
        "\tdef calculate_mean(self):\n",
        "\t\ttry:\n",
        "\t\t\tif self.trial is True:\n",
        "\t\t\t\tself.mean = 1 / self.p\n",
        "\t\t\t\treturn self.mean\n",
        "\n",
        "\t\t\telse:\n",
        "\t\t\t\tself.mean = (1 - self.p) / self.p\n",
        "\t\t\t\treturn self.mean\n",
        "\n",
        "\t\t#If division by zero occurs, raise an error\n",
        "\t\texcept ZeroDivisionError as error:\t\n",
        "\t\t\traise\n",
        "\n",
        "\t\t#If value error occurs, raise an error\n",
        "\t\texcept ValueError as error:\n",
        "\t\t\traise\n",
        "\n",
        "\tdef calculate_stdev(self):\n",
        "\t\ttry:\n",
        "\t\t\tvariance = (1 - self.p) / (self.p ** 2)\n",
        "\t\t\tself.stdev = math.sqrt(variance)\n",
        "\n",
        "\t\t#If division by zero occurs, raise an error\n",
        "\t\texcept ZeroDivisionError as error:\t\n",
        "\t\t\traise\n",
        "\n",
        "\t\t#If value error occurs, raise an error\n",
        "\t\texcept ValueError as error:\n",
        "\t\t\traise\n",
        "\n",
        "\tdef pdf(self,x=1):\n",
        "\t\tif self.trial is True:\n",
        "\t\t\treturn ((1 - self.p) ** (x-1)) * self.p\n",
        "\n",
        "\t\telse:\n",
        "\t\t\treturn ((1 - self.p) ** x) * self.p\n",
        "\n",
        "\tdef __add__(self,other):\n",
        "\t\tresult = Geometric()\n",
        "\t\tresult.p = self.p + other.p\n",
        "\n",
        "\t\tresult.calculate_mean()\n",
        "\t\tresult.calculate_stdev()\n",
        "\t\treturn result\n",
        "\n",
        "\tdef __repr__(self):\n",
        "\t\treturn \"ρ: {}, Mean: {}, Standard Deviation: {}\".format(self.p,self.mean,self.stdev)"
      ],
      "execution_count": null,
      "outputs": []
    },
    {
      "cell_type": "code",
      "metadata": {
        "id": "4_CzXhFTwLBd"
      },
      "source": [
        "vat = Geometric(1)"
      ],
      "execution_count": null,
      "outputs": []
    },
    {
      "cell_type": "code",
      "metadata": {
        "colab": {
          "base_uri": "https://localhost:8080/"
        },
        "id": "ZY1Ekicbwf-p",
        "outputId": "53a2f141-52c5-43f5-b074-fdef8a773c36"
      },
      "source": [
        "vat"
      ],
      "execution_count": null,
      "outputs": [
        {
          "output_type": "execute_result",
          "data": {
            "text/plain": [
              "ρ: 1, Mean: 1.0, Standard Deviation: None"
            ]
          },
          "metadata": {
            "tags": []
          },
          "execution_count": 4
        }
      ]
    },
    {
      "cell_type": "code",
      "metadata": {
        "colab": {
          "base_uri": "https://localhost:8080/"
        },
        "id": "XNKmgCBjwgat",
        "outputId": "165ad028-29f4-4fdc-f714-025abb8465bb"
      },
      "source": [
        "vat.pdf(2)"
      ],
      "execution_count": null,
      "outputs": [
        {
          "output_type": "execute_result",
          "data": {
            "text/plain": [
              "0"
            ]
          },
          "metadata": {
            "tags": []
          },
          "execution_count": 5
        }
      ]
    },
    {
      "cell_type": "code",
      "metadata": {
        "id": "F1jgQyFExq9V"
      },
      "source": [
        "rat = Geometric(0.6,False)"
      ],
      "execution_count": null,
      "outputs": []
    },
    {
      "cell_type": "code",
      "metadata": {
        "id": "OYlT679cyADa"
      },
      "source": [
        "gut = vat + rat"
      ],
      "execution_count": null,
      "outputs": []
    },
    {
      "cell_type": "code",
      "metadata": {
        "id": "1VEyMHauwg6-"
      },
      "source": [
        ""
      ],
      "execution_count": null,
      "outputs": []
    },
    {
      "cell_type": "code",
      "metadata": {
        "id": "c0O7pg6ncvlk"
      },
      "source": [
        "import math\n",
        "\n",
        "class Erlang(Distribution):\n",
        "\tdef __init__(self,shapeParameter=2,scaleParameter=3):\n",
        "\t\tself.k = shapeParameter\n",
        "\t\tself.mu = scaleParameter\n",
        "\n",
        "\t\tDistribution.__init__(self,self.calculate_mean(),self.calculate_stdev())\n",
        "\n",
        "\tdef calculate_mean(self):\n",
        "\t\tlamda = 1 / self.mu\n",
        "\t\tself.mean = self.k / lamda\n",
        "\t\treturn self.mean\n",
        "\n",
        "\tdef calculate_stdev(self):\n",
        "\t\tlamda = 1 / self.mu\n",
        "\t\tvariance = self.k / (lamda ** 2)\n",
        "\t\tself.stdev = math.sqrt(variance)\n",
        "\t\treturn self.stdev\n",
        "\n",
        "\tdef pdf(self,x):\n",
        "\t\tpowX = self.k - 1\n",
        "\t\tpowE = -x / self.mu\n",
        "\t\tdenomDifference = self.k - 1\n",
        "\n",
        "\t\tpdfNumerator = (x ** powX) * math.exp(powE)\n",
        "\t\tpdfDenominator = (self.mu ** self.k) * math.factorial(denomDifference)\n",
        "\n",
        "\t\treturn pdfNumerator / pdfDenominator\n",
        "\n",
        "\tdef __add__(self,other):\n",
        "\t\tresult = Erlang()\n",
        "\n",
        "\t\tresult.k = self.k + other.k\n",
        "\t\tresult.mu = self.mu + other.mu\n",
        "\n",
        "\t\tresult.calculate_mean()\n",
        "\t\tresult.calculate_stdev()\n",
        "\t\treturn result\n",
        "\n",
        "\tdef __repr__(self):\n",
        "\t\treturn \"Shape Parameter: {}, Scale Parameter: {}, Mean: {}, Standard Deviation: {}\".format(self.k,self.mu,self.mean,self.stdev)"
      ],
      "execution_count": null,
      "outputs": []
    },
    {
      "cell_type": "code",
      "metadata": {
        "id": "BpwMuxEYKIqt"
      },
      "source": [
        "cass = Erlang(1,2)"
      ],
      "execution_count": null,
      "outputs": []
    },
    {
      "cell_type": "code",
      "metadata": {
        "colab": {
          "base_uri": "https://localhost:8080/"
        },
        "id": "OazsOTRFKA_x",
        "outputId": "6ba6f93f-4bcc-4770-c09b-553d66fcfa9c"
      },
      "source": [
        "cass"
      ],
      "execution_count": null,
      "outputs": [
        {
          "output_type": "execute_result",
          "data": {
            "text/plain": [
              "Shape Parameter: 1, Scale Parameter: 2, Mean: 2.0, Standard Deviation: 2.0"
            ]
          },
          "metadata": {
            "tags": []
          },
          "execution_count": 42
        }
      ]
    },
    {
      "cell_type": "code",
      "metadata": {
        "colab": {
          "base_uri": "https://localhost:8080/"
        },
        "id": "VuyaFPWFKBI7",
        "outputId": "c76bdbf5-57f0-4bb7-ba5c-97f8f07e188a"
      },
      "source": [
        "cass.pdf(3)"
      ],
      "execution_count": null,
      "outputs": [
        {
          "output_type": "execute_result",
          "data": {
            "text/plain": [
              "0.11156508007421491"
            ]
          },
          "metadata": {
            "tags": []
          },
          "execution_count": 43
        }
      ]
    },
    {
      "cell_type": "code",
      "metadata": {
        "id": "iJm1ldKiLqke"
      },
      "source": [
        "rome = Erlang(4,5)"
      ],
      "execution_count": null,
      "outputs": []
    },
    {
      "cell_type": "code",
      "metadata": {
        "id": "b3ISMLEyKBP-"
      },
      "source": [
        "cat = cass + rome"
      ],
      "execution_count": null,
      "outputs": []
    },
    {
      "cell_type": "code",
      "metadata": {
        "colab": {
          "base_uri": "https://localhost:8080/"
        },
        "id": "hLRdcqwLKBVq",
        "outputId": "13ad19dd-3c36-402b-a95d-8f65cbc995a8"
      },
      "source": [
        "cat"
      ],
      "execution_count": null,
      "outputs": [
        {
          "output_type": "execute_result",
          "data": {
            "text/plain": [
              "Shape Parameter: 5, Scale Parameter: 7, Mean: 35.0, Standard Deviation: 15.652475842498529"
            ]
          },
          "metadata": {
            "tags": []
          },
          "execution_count": 46
        }
      ]
    },
    {
      "cell_type": "code",
      "metadata": {
        "id": "O35s3Eab210V"
      },
      "source": [
        "import math\n",
        "\n",
        "class Bradford(Distribution):\n",
        "\tdef __init__(self,theta,minVal,maxVal):\n",
        "\t\tself.theta = theta\n",
        "\t\tself.min = minVal\n",
        "\t\tself.max = maxVal\n",
        "\t\tDistribution.__init__(self,self.calculate_mean(),self.calculate_stdev())\n",
        "\n",
        "\tdef calculate_mean(self):\n",
        "\t\tk = math.log(self.theta + 1)\n",
        "\t\tavgNumerator = (self.theta * (self.max - self.min)) + (k * ((self.min * (self.theta + 1)) - self.max))\n",
        "\t\tavgDenominator = self.theta * k\n",
        "\t\tself.mean = avgNumerator / avgDenominator\n",
        "\t\treturn self.mean\n",
        "\n",
        "\tdef calculate_stdev(self):\n",
        "\t\tk = math.log(self.theta + 1)\n",
        "\t\tvarNumerator = ((self.max - self.min)**2) *((self.theta * (k - 2)) + (2 * k))\n",
        "\t\tvarDenominator = 2 * self.theta * (k)**2\n",
        "\n",
        "\t\tvariance = varNumerator / varDenominator\n",
        "\n",
        "\t\tself.stdev = math.sqrt(variance)\n",
        "\n",
        "\tdef pdf(self,x):\n",
        "\t\tpdfNumerator = self.theta\n",
        "\t\tpdfDenominator = ((self.theta * (x - self.min)) + self.max -self.min) * math.log(self.theta + 1)\n",
        "\t\treturn pdfNumerator / pdfDenominator\n",
        "\n",
        "\tdef __add__(self,other):\n",
        "\t\tresult = Bradford()\n",
        "\n",
        "\t\tresult.theta = self.theta + other.theta\n",
        "\t\tresult.min = self.min + other.min\n",
        "\t\tresult.max = self.max + other.max\n",
        "\n",
        "\t\tresult.calculate_mean()\n",
        "\t\tresult.calculate_stdev()\n",
        "\n",
        "\t\treturn result\n",
        "\n",
        "\tdef __repr__(self):\n",
        "\t\treturn \"θ: {}, Min: {}, Max: {}, Mean: {}, Standard Deviation: {}\".format(self.theta,self.min,self.max,self.mean,self.stdev)"
      ],
      "execution_count": null,
      "outputs": []
    },
    {
      "cell_type": "code",
      "metadata": {
        "id": "v43-FW5n29qf"
      },
      "source": [
        "cap = Bradford(1,2,3)"
      ],
      "execution_count": null,
      "outputs": []
    },
    {
      "cell_type": "code",
      "metadata": {
        "colab": {
          "base_uri": "https://localhost:8080/"
        },
        "id": "bYQ3WDr829_b",
        "outputId": "77547ad5-19b0-4a57-efff-79d85cea3c30"
      },
      "source": [
        "cap"
      ],
      "execution_count": null,
      "outputs": [
        {
          "output_type": "execute_result",
          "data": {
            "text/plain": [
              "θ: 1, Min: 2, Max: 3, Mean: 2.442695040888964, Standard Deviation: None"
            ]
          },
          "metadata": {
            "tags": []
          },
          "execution_count": 10
        }
      ]
    },
    {
      "cell_type": "code",
      "metadata": {
        "colab": {
          "base_uri": "https://localhost:8080/"
        },
        "id": "Cn6Oi7SK3-nJ",
        "outputId": "f639e9e8-b685-42a4-f0c2-b75d25a57017"
      },
      "source": [
        "cap.pdf(2)"
      ],
      "execution_count": null,
      "outputs": [
        {
          "output_type": "execute_result",
          "data": {
            "text/plain": [
              "1.4426950408889634"
            ]
          },
          "metadata": {
            "tags": []
          },
          "execution_count": 12
        }
      ]
    },
    {
      "cell_type": "code",
      "metadata": {
        "id": "KSayA3oV2-Z8"
      },
      "source": [
        ""
      ],
      "execution_count": null,
      "outputs": []
    },
    {
      "cell_type": "code",
      "metadata": {
        "id": "Y8FTI7rlcz4X"
      },
      "source": [
        "\"\"\"\n",
        "Burr Distribution\n",
        "(Also known as Burr Type XII Distribution or the Singh-Maddala distribution)\n",
        "(Sometimes also called the generalised log-logistic distribution)\n",
        "\"\"\"\n",
        "# Author: Ashwin Raj <rajashwin733@gmail.com>\n",
        "# License: GNU General Public License v3.0\n",
        "import math\n",
        "\n",
        "class Burr(Distribution):\n",
        "\t\"\"\"\n",
        "\tBurr distribution class for calculating burr distribution\n",
        "\tBurr class inherits from distribution class of generalDistribution.py module\n",
        "\n",
        "\tNotation:\n",
        "\t\tX ~ Burr(a,b,k) or, X ~ SM(a,b,x)\n",
        "\n",
        "\tAttributes:\n",
        "\t\t1. k (shape parameter, k>0)\n",
        "\t\t2. a (shape parameter, a>0)\n",
        "\t\t3. b (shape parameter, b>0)\n",
        "\n",
        "\tDomain:\n",
        "\t\t0 <= x < +∞\n",
        "\t\"\"\"\t\n",
        "\tdef __init__(self,kParameter=1,alpha=1,beta=1):\n",
        "\t\t#Default value of k = 1\n",
        "\t\tself.k = kParameter\n",
        "\t\t#Default value of a = 1\n",
        "\t\tself.a = alpha\n",
        "\t\t#Default value of b = 1\n",
        "\t\tself.b = beta\n",
        "\n",
        "\t\tDistribution.__init__(self,self.calculate_mean(),self.calculate_stdev())\n",
        "\n",
        "\tdef calculate_mean(self):\n",
        "\t\t\"\"\"\n",
        "\t\tMethod to calculate the mean of the input dataset\n",
        "\t\t\n",
        "\t\tArgs:\n",
        "\t\t\tnone\n",
        "\n",
        "\t\tReturns:\n",
        "\t\t\tself.mean(float): Mean of the input dataset\n",
        "\n",
        "\t\tRaises:\n",
        "        \tZeroDivisionError(string): Raised when division by zero\n",
        "        \tValueError(string): Raised when value error occurs\n",
        "\t\t\"\"\"\n",
        "\t\t#Check mean for divison by zero error and value error\n",
        "\t\ttry:\n",
        "\t\t\tpartOne = self.a - (1 / self.b)\n",
        "\t\t\t#Value of Γ(a - (1/b))\n",
        "\t\t\tgammaOne = math.gamma(partOne)\n",
        "\n",
        "\t\t\tpartTwo = 1 + (1 / self.b)\n",
        "\t\t\t#Value of Γ(1 + 1/b)\n",
        "\t\t\tgammaTwo = math.gamma(partTwo)\n",
        "\n",
        "\t\t\t#Value of Γ(a)\n",
        "\t\t\tgammaThree = math.gamma(self.a)\n",
        "\n",
        "\t\t\tpowK = 1 / self.b\n",
        "\t\t\t#k raised to the power of powK\n",
        "\t\t\tpartThree = self.k ** powK\n",
        "\n",
        "\t\t\t#Combining all parameters to calculate the mean\n",
        "\t\t\tavg = gammaOne * gammaTwo * (partThree / gammaThree)\n",
        "\t\t\tself.mean = avg\n",
        "\t\t\treturn self.mean\n",
        "\n",
        "\t\t#If division by zero occurs, raise an error\n",
        "\t\texcept ZeroDivisionError as error:\t\n",
        "\t\t\traise\n",
        "\t\t#If value error occurs, raise an error\n",
        "\t\texcept ValueError as error:\n",
        "\t\t\traise\n",
        "\n",
        "\tdef calculate_stdev(self):\n",
        "\t\t\"\"\"\n",
        "\t\tMethod to calculate the standard deviation\n",
        "        \n",
        "        Args: \n",
        "            none\n",
        "        \n",
        "        Returns: \n",
        "            self.stdev(float): Standard deviation of the data set\n",
        "\n",
        "        Raises:\n",
        "        \tZeroDivisionError(string): Raised when division by zero\n",
        "        \tValueError(string): Raised when value error occurs\n",
        "        \"\"\"\n",
        "        #Check stdev for divison by zero error and value error\n",
        "\t\ttry:\n",
        "\t\t\tpartOne = self.a - (2 / self.b)\n",
        "\t\t\t#Value of Γ(a - (2/b))\n",
        "\t\t\tgammaOne = math.gamma(partOne)\n",
        "\n",
        "\t\t\tpartTwo = 1 + (2 / self.b)\n",
        "\t\t\t#Value of Γ(1 + (2/b))\n",
        "\t\t\tgammaTwo = math.gamma(partTwo)\n",
        "\n",
        "\t\t\tpartThree = self.a - (1 / self.b)\n",
        "\t\t\t#Value of Γ(a - (1/b))\n",
        "\t\t\tgammaThree = math.gamma(partThree)\n",
        "\n",
        "\t\t\tpartFour = 1 + (1 / self.b)\n",
        "\t\t\t#Value of Γ(1 + 1/b)\n",
        "\t\t\tgammaFour = math.gamma(partFour)\n",
        "\n",
        "\t\t\t#Value of Γ(a)\n",
        "\t\t\tgammaFive = math.gamma(self.a)\n",
        "\n",
        "\t\t\tpowK = 2 / self.b\n",
        "\t\t\t#k raised to the power of powK\n",
        "\t\t\tpartThree = self.k ** powK\n",
        "\n",
        "\t\t\t#operandOne = Γ(a - (2/b)) * Γ(1 + (2/b))\n",
        "\t\t\toperandOne = gammaOne * gammaTwo\n",
        "\t\t\tmultiplierOne = gammaThree * gammaFour\n",
        "\n",
        "\t\t\t#operandTwo = ((Γ(a - (1/b)) * Γ(1 + 1/b))^2) / Γ(a)\n",
        "\t\t\toperandTwo = (multiplierOne ** 2) / gammaFive\n",
        "\n",
        "\t\t\tdifference = operandOne - operandTwo\n",
        "\t\t\tvariance = difference * (partThree / gammaFive)\n",
        "\n",
        "\t\t\t#standard deviation = sqrt(variance)\n",
        "\t\t\tself.stdev = math.sqrt(variance)\n",
        "\t\t\treturn self.stdev\n",
        "\n",
        "\t\t#If division by zero occurs, raise an error\n",
        "\t\texcept ZeroDivisionError as error:\t\n",
        "\t\t\traise\n",
        "\t\t#If value error occurs, raise an error\n",
        "\t\texcept ValueError as error:\n",
        "\t\t\traise\n",
        "\n",
        "\tdef pdf(self,x):\n",
        "\t\t\"\"\"\n",
        "\t\tMethod to calculate probability density function for burr distribution\n",
        "        \n",
        "        Args:\n",
        "            x(float): Random variable\n",
        "\n",
        "        Returns:\n",
        "            pdf(float): Probability density function for burr distribution\n",
        "\n",
        "        Raises:\n",
        "        \tZeroDivisionError(string): Raised when division by zero\n",
        "\t\t\"\"\"\n",
        "\t\ttry:\n",
        "\t\t\t#k raised to power a\n",
        "\t\t\tpowK = self.k ** self.a\n",
        "\t\t\t#x raised to power (b-1)\n",
        "\t\t\tpowX = x ** (self.b - 1)\n",
        "\t\t\t#numerator = a * b * k^(a) * x^(b-1)\n",
        "\t\t\tnumerator = self.a * self.b * powK * powX\n",
        "\n",
        "\t\t\t#denomSum = k + x^(b)\n",
        "\t\t\tdenomSum = self.k + (x ** self.b)\n",
        "\t\t\tpowSum = self.a + 1\n",
        "\n",
        "\t\t\t#denominator = (k + x^(b))^(a+1)\n",
        "\t\t\tdenominator = denomSum ** powSum\n",
        "\t\t\treturn numerator / denominator\n",
        "\n",
        "\t\t#If division by zero occurs, raise an error\n",
        "\t\texcept ZeroDivisionError as error:\n",
        "\t\t\traise\n",
        "\n",
        "\tdef __add__(self,other):\n",
        "\t\t\"\"\"\n",
        "\t\tMethod to add together two burr distributions with equal p\n",
        "        \n",
        "        Args:\n",
        "            other(burr distribution): Burr instance\n",
        "            \n",
        "        Returns:\n",
        "            result(burr distribution): Sum of burr distribution\n",
        "        \"\"\"\n",
        "\t\tresult = Burr()\n",
        "\n",
        "\t\t#Calculate the shape parameters for the sum of the burr instances\n",
        "\t\tresult.k = self.k + other.k\n",
        "\t\tresult.a = self.a + other.a\n",
        "\t\tresult.b = self.b + other.b\n",
        "\n",
        "\t\t#Calculate the mean of the two beta instances\n",
        "\t\tresult.calculate_mean()\n",
        "\t\t#Calculate the standard deviations of the two burr instances\n",
        "\t\tresult.calculate_stdev()\n",
        "\t\treturn result\n",
        "\n",
        "\tdef __repr__(self):\n",
        "\t\t\"\"\"\n",
        "\t\tMethod to output the characteristics of the burr instance\n",
        "        \n",
        "        Args:\n",
        "            none\n",
        "        \n",
        "        Returns:\n",
        "            output(string): Characteristics of the distribution\n",
        "        \"\"\"\n",
        "\t\treturn \"k: {}, a: {}, b: {}, mean: {}, standard deviation: {}\".format(self.k,self.a,self.b,self.mean,self.stdev)"
      ],
      "execution_count": null,
      "outputs": []
    },
    {
      "cell_type": "code",
      "metadata": {
        "id": "nPBGiQdsdStj"
      },
      "source": [
        "lad = Burr(1,2,3)"
      ],
      "execution_count": null,
      "outputs": []
    },
    {
      "cell_type": "code",
      "metadata": {
        "colab": {
          "base_uri": "https://localhost:8080/"
        },
        "id": "rdvjcSr-etiO",
        "outputId": "826cd74e-608a-4f73-ecd5-b5ba9d6c8e99"
      },
      "source": [
        "lad"
      ],
      "execution_count": null,
      "outputs": [
        {
          "output_type": "execute_result",
          "data": {
            "text/plain": [
              "k: 1, a: 2, b: 3, mean: 0.8061330507707638, standard deviation: 0.39532588484158815"
            ]
          },
          "metadata": {
            "tags": []
          },
          "execution_count": 4
        }
      ]
    },
    {
      "cell_type": "code",
      "metadata": {
        "colab": {
          "base_uri": "https://localhost:8080/"
        },
        "id": "KCm2tYKKfgNN",
        "outputId": "4cf32feb-5795-4748-df20-b7779c8c4cb8"
      },
      "source": [
        "lad.pdf(2)"
      ],
      "execution_count": null,
      "outputs": [
        {
          "output_type": "execute_result",
          "data": {
            "text/plain": [
              "0.03292181069958848"
            ]
          },
          "metadata": {
            "tags": []
          },
          "execution_count": 5
        }
      ]
    },
    {
      "cell_type": "code",
      "metadata": {
        "id": "oWjg-UFwc0Qd"
      },
      "source": [
        "cat = Burr(4,5,6)"
      ],
      "execution_count": null,
      "outputs": []
    },
    {
      "cell_type": "code",
      "metadata": {
        "colab": {
          "base_uri": "https://localhost:8080/",
          "height": 282
        },
        "id": "68xGZuslc0vd",
        "outputId": "1a3a6d9a-2017-4641-8259-63c82014131a"
      },
      "source": [
        "rum = lad + cat"
      ],
      "execution_count": null,
      "outputs": [
        {
          "output_type": "error",
          "ename": "TypeError",
          "evalue": "ignored",
          "traceback": [
            "\u001b[0;31m---------------------------------------------------------------------------\u001b[0m",
            "\u001b[0;31mTypeError\u001b[0m                                 Traceback (most recent call last)",
            "\u001b[0;32m<ipython-input-7-615f322373c5>\u001b[0m in \u001b[0;36m<module>\u001b[0;34m()\u001b[0m\n\u001b[0;32m----> 1\u001b[0;31m \u001b[0mrum\u001b[0m \u001b[0;34m=\u001b[0m \u001b[0mlad\u001b[0m \u001b[0;34m+\u001b[0m \u001b[0mcat\u001b[0m\u001b[0;34m\u001b[0m\u001b[0;34m\u001b[0m\u001b[0m\n\u001b[0m",
            "\u001b[0;32m<ipython-input-2-2586ff974334>\u001b[0m in \u001b[0;36m__add__\u001b[0;34m(self, other)\u001b[0m\n\u001b[1;32m     64\u001b[0m \u001b[0;34m\u001b[0m\u001b[0m\n\u001b[1;32m     65\u001b[0m         \u001b[0;32mdef\u001b[0m \u001b[0m__add__\u001b[0m\u001b[0;34m(\u001b[0m\u001b[0mself\u001b[0m\u001b[0;34m,\u001b[0m\u001b[0mother\u001b[0m\u001b[0;34m)\u001b[0m\u001b[0;34m:\u001b[0m\u001b[0;34m\u001b[0m\u001b[0;34m\u001b[0m\u001b[0m\n\u001b[0;32m---> 66\u001b[0;31m                 \u001b[0mresult\u001b[0m \u001b[0;34m=\u001b[0m \u001b[0mBurr\u001b[0m\u001b[0;34m(\u001b[0m\u001b[0;34m)\u001b[0m\u001b[0;34m\u001b[0m\u001b[0;34m\u001b[0m\u001b[0m\n\u001b[0m\u001b[1;32m     67\u001b[0m                 \u001b[0mresult\u001b[0m\u001b[0;34m.\u001b[0m\u001b[0mk\u001b[0m \u001b[0;34m=\u001b[0m \u001b[0mself\u001b[0m\u001b[0;34m.\u001b[0m\u001b[0mk\u001b[0m \u001b[0;34m+\u001b[0m \u001b[0mother\u001b[0m\u001b[0;34m.\u001b[0m\u001b[0mk\u001b[0m\u001b[0;34m\u001b[0m\u001b[0;34m\u001b[0m\u001b[0m\n\u001b[1;32m     68\u001b[0m                 \u001b[0mresult\u001b[0m\u001b[0;34m.\u001b[0m\u001b[0ma\u001b[0m \u001b[0;34m=\u001b[0m \u001b[0mself\u001b[0m\u001b[0;34m.\u001b[0m\u001b[0ma\u001b[0m \u001b[0;34m+\u001b[0m \u001b[0mother\u001b[0m\u001b[0;34m.\u001b[0m\u001b[0ma\u001b[0m\u001b[0;34m\u001b[0m\u001b[0;34m\u001b[0m\u001b[0m\n",
            "\u001b[0;31mTypeError\u001b[0m: __init__() missing 3 required positional arguments: 'kParameter', 'alpha', and 'beta'"
          ]
        }
      ]
    },
    {
      "cell_type": "code",
      "metadata": {
        "id": "phvvlcXyc1Ca"
      },
      "source": [
        ""
      ],
      "execution_count": null,
      "outputs": []
    },
    {
      "cell_type": "code",
      "metadata": {
        "id": "O3RHtkzsOvUC"
      },
      "source": [
        ""
      ],
      "execution_count": null,
      "outputs": []
    },
    {
      "cell_type": "code",
      "metadata": {
        "id": "XUUudkvaOvbn"
      },
      "source": [
        "import math\n",
        "\n",
        "class Bates(Distribution):\n",
        "\tdef __init__(self,numberOfRandomVariable,lowerBound=0,upperBound=1):\n",
        "\t\tself.n = numberOfRandomVariable\n",
        "\t\tself.a = lowerBound\n",
        "\t\tself.b = upperBound\n",
        "\n",
        "\t\tDistribution.__init__(self,self.calculate_mean(),self.calculate_stdev())\n",
        "\n",
        "\tdef calculate_mean(self):\n",
        "\t\tavg = (self.a + self.b) / 2\n",
        "\t\tself.mean = avg\n",
        "\t\treturn avg\n",
        "\n",
        "\tdef calculate_stdev(self):\n",
        "\t\tvariance = (self.b - self.a) ** 2 / (12 * self.n)\n",
        "\t\tself.stdev = math.sqrt(variance)\n",
        "\t\treturn self.stdev\n",
        "\n",
        "\tdef pdf(self,x):\n",
        "\t\tr = self.n * ((x - self.a) / (self.b - self.a))\n",
        "\t\ti = math.ceil(r)\n",
        "\t\tnCk = math.factorial(int(self.n)) / (math.factorial(int(r)) * math.factorial(int(self.n - r)))\n",
        "\n",
        "\t\tpartA = self.n / ((self.b - self.a) * math.factorial(int(self.n - 1)))\n",
        "\n",
        "\t\tfor k in range(0,i):\n",
        "\t\t\tpartB += ((-1)**k) * nCk * ((r-k)**(self.n-1))\n",
        "\n",
        "\t\treturn partA * partB\n",
        "\n",
        "\tdef __add__(self,other):\n",
        "\t\tresult = Bates()\n",
        "\t\tresult.n = self.n + other.n\n",
        "\t\tresult.a = self.a + other.a\n",
        "\t\tresult.b = self.b + other.b\n",
        "\t\tresult.calculate_mean()\n",
        "\t\tresult.calculate_stdev()\n",
        "\t\treturn result\n",
        "\n",
        "\tdef __repr__(self):\n",
        "\t\treturn \"Number of random variables: {}, Lower Bound: {}, Upper Bound: {}, Mean: {}, Standard Deviation: {}\".format(self.n,self.a,self.b,self.mean,self.stdev)"
      ],
      "execution_count": null,
      "outputs": []
    },
    {
      "cell_type": "code",
      "metadata": {
        "id": "JLT5orZRPaFU"
      },
      "source": [
        "tam = Bates(12,0,60)"
      ],
      "execution_count": null,
      "outputs": []
    },
    {
      "cell_type": "code",
      "metadata": {
        "colab": {
          "base_uri": "https://localhost:8080/"
        },
        "id": "Nw2AQS6jOvja",
        "outputId": "1236eda4-7d16-4d1a-cde0-67ff9183dbbd"
      },
      "source": [
        "tam"
      ],
      "execution_count": null,
      "outputs": [
        {
          "output_type": "execute_result",
          "data": {
            "text/plain": [
              "Number of random variables: 12, Lower Bound: 0, Upper Bound: 60, Mean: 30.0, Standard Deviation: 5.0"
            ]
          },
          "metadata": {
            "tags": []
          },
          "execution_count": 29
        }
      ]
    },
    {
      "cell_type": "code",
      "metadata": {
        "colab": {
          "base_uri": "https://localhost:8080/",
          "height": 282
        },
        "id": "-qHLC3JLOvqT",
        "outputId": "8599f010-c2f0-4cc6-bef3-8b83816fab84"
      },
      "source": [
        "tam.pdf(1)"
      ],
      "execution_count": null,
      "outputs": [
        {
          "output_type": "error",
          "ename": "UnboundLocalError",
          "evalue": "ignored",
          "traceback": [
            "\u001b[0;31m---------------------------------------------------------------------------\u001b[0m",
            "\u001b[0;31mUnboundLocalError\u001b[0m                         Traceback (most recent call last)",
            "\u001b[0;32m<ipython-input-35-ca3a934440db>\u001b[0m in \u001b[0;36m<module>\u001b[0;34m()\u001b[0m\n\u001b[0;32m----> 1\u001b[0;31m \u001b[0mtam\u001b[0m\u001b[0;34m.\u001b[0m\u001b[0mpdf\u001b[0m\u001b[0;34m(\u001b[0m\u001b[0;36m1\u001b[0m\u001b[0;34m)\u001b[0m\u001b[0;34m\u001b[0m\u001b[0;34m\u001b[0m\u001b[0m\n\u001b[0m",
            "\u001b[0;32m<ipython-input-33-c3dd33c6c9ff>\u001b[0m in \u001b[0;36mpdf\u001b[0;34m(self, x)\u001b[0m\n\u001b[1;32m     27\u001b[0m \u001b[0;34m\u001b[0m\u001b[0m\n\u001b[1;32m     28\u001b[0m                 \u001b[0;32mfor\u001b[0m \u001b[0mk\u001b[0m \u001b[0;32min\u001b[0m \u001b[0mrange\u001b[0m\u001b[0;34m(\u001b[0m\u001b[0;36m0\u001b[0m\u001b[0;34m,\u001b[0m\u001b[0mi\u001b[0m\u001b[0;34m)\u001b[0m\u001b[0;34m:\u001b[0m\u001b[0;34m\u001b[0m\u001b[0;34m\u001b[0m\u001b[0m\n\u001b[0;32m---> 29\u001b[0;31m                         \u001b[0mpartB\u001b[0m \u001b[0;34m+=\u001b[0m \u001b[0;34m(\u001b[0m\u001b[0;34m(\u001b[0m\u001b[0;34m-\u001b[0m\u001b[0;36m1\u001b[0m\u001b[0;34m)\u001b[0m\u001b[0;34m**\u001b[0m\u001b[0mk\u001b[0m\u001b[0;34m)\u001b[0m \u001b[0;34m*\u001b[0m \u001b[0mnCk\u001b[0m \u001b[0;34m*\u001b[0m \u001b[0;34m(\u001b[0m\u001b[0;34m(\u001b[0m\u001b[0mr\u001b[0m\u001b[0;34m-\u001b[0m\u001b[0mk\u001b[0m\u001b[0;34m)\u001b[0m\u001b[0;34m**\u001b[0m\u001b[0;34m(\u001b[0m\u001b[0mself\u001b[0m\u001b[0;34m.\u001b[0m\u001b[0mn\u001b[0m\u001b[0;34m-\u001b[0m\u001b[0;36m1\u001b[0m\u001b[0;34m)\u001b[0m\u001b[0;34m)\u001b[0m\u001b[0;34m\u001b[0m\u001b[0;34m\u001b[0m\u001b[0m\n\u001b[0m\u001b[1;32m     30\u001b[0m \u001b[0;34m\u001b[0m\u001b[0m\n\u001b[1;32m     31\u001b[0m                 \u001b[0;32mreturn\u001b[0m \u001b[0mpartA\u001b[0m \u001b[0;34m*\u001b[0m \u001b[0mpartB\u001b[0m\u001b[0;34m\u001b[0m\u001b[0;34m\u001b[0m\u001b[0m\n",
            "\u001b[0;31mUnboundLocalError\u001b[0m: local variable 'partB' referenced before assignment"
          ]
        }
      ]
    },
    {
      "cell_type": "code",
      "metadata": {
        "id": "frnuwO8ic1ZV"
      },
      "source": [
        "yates = Bates(1,3,2)"
      ],
      "execution_count": null,
      "outputs": []
    },
    {
      "cell_type": "code",
      "metadata": {
        "colab": {
          "base_uri": "https://localhost:8080/",
          "height": 282
        },
        "id": "hxBPvoNDc1sL",
        "outputId": "d62b0d18-dc83-4cea-8c54-baaf87ac6811"
      },
      "source": [
        "ram = tam + yates"
      ],
      "execution_count": null,
      "outputs": [
        {
          "output_type": "error",
          "ename": "TypeError",
          "evalue": "ignored",
          "traceback": [
            "\u001b[0;31m---------------------------------------------------------------------------\u001b[0m",
            "\u001b[0;31mTypeError\u001b[0m                                 Traceback (most recent call last)",
            "\u001b[0;32m<ipython-input-32-82135a5f1c26>\u001b[0m in \u001b[0;36m<module>\u001b[0;34m()\u001b[0m\n\u001b[0;32m----> 1\u001b[0;31m \u001b[0mram\u001b[0m \u001b[0;34m=\u001b[0m \u001b[0mtam\u001b[0m \u001b[0;34m+\u001b[0m \u001b[0myates\u001b[0m\u001b[0;34m\u001b[0m\u001b[0;34m\u001b[0m\u001b[0m\n\u001b[0m",
            "\u001b[0;32m<ipython-input-27-049dbc1c750c>\u001b[0m in \u001b[0;36m__add__\u001b[0;34m(self, other)\u001b[0m\n\u001b[1;32m     33\u001b[0m \u001b[0;34m\u001b[0m\u001b[0m\n\u001b[1;32m     34\u001b[0m         \u001b[0;32mdef\u001b[0m \u001b[0m__add__\u001b[0m\u001b[0;34m(\u001b[0m\u001b[0mself\u001b[0m\u001b[0;34m,\u001b[0m\u001b[0mother\u001b[0m\u001b[0;34m)\u001b[0m\u001b[0;34m:\u001b[0m\u001b[0;34m\u001b[0m\u001b[0;34m\u001b[0m\u001b[0m\n\u001b[0;32m---> 35\u001b[0;31m                 \u001b[0mresult\u001b[0m \u001b[0;34m=\u001b[0m \u001b[0mBates\u001b[0m\u001b[0;34m(\u001b[0m\u001b[0;34m)\u001b[0m\u001b[0;34m\u001b[0m\u001b[0;34m\u001b[0m\u001b[0m\n\u001b[0m\u001b[1;32m     36\u001b[0m                 \u001b[0mresult\u001b[0m\u001b[0;34m.\u001b[0m\u001b[0mn\u001b[0m \u001b[0;34m=\u001b[0m \u001b[0mself\u001b[0m\u001b[0;34m.\u001b[0m\u001b[0mn\u001b[0m \u001b[0;34m+\u001b[0m \u001b[0mother\u001b[0m\u001b[0;34m.\u001b[0m\u001b[0mn\u001b[0m\u001b[0;34m\u001b[0m\u001b[0;34m\u001b[0m\u001b[0m\n\u001b[1;32m     37\u001b[0m                 \u001b[0mresult\u001b[0m\u001b[0;34m.\u001b[0m\u001b[0ma\u001b[0m \u001b[0;34m=\u001b[0m \u001b[0mself\u001b[0m\u001b[0;34m.\u001b[0m\u001b[0ma\u001b[0m \u001b[0;34m+\u001b[0m \u001b[0mother\u001b[0m\u001b[0;34m.\u001b[0m\u001b[0ma\u001b[0m\u001b[0;34m\u001b[0m\u001b[0;34m\u001b[0m\u001b[0m\n",
            "\u001b[0;31mTypeError\u001b[0m: __init__() missing 1 required positional argument: 'numberOfRandomVariable'"
          ]
        }
      ]
    },
    {
      "cell_type": "code",
      "metadata": {
        "id": "iB53hEH-n4Yx"
      },
      "source": [
        "\"\"\"\n",
        "Gaussian Distribution\n",
        "(Also known as Normal Distribution)\n",
        "\"\"\"\n",
        "# Author: Ashwin Raj <rajashwin733@gmail.com>\n",
        "# License: GNU General Public License v3.0\n",
        "\n",
        "import math\n",
        "\n",
        "class Gaussian(Distribution):\n",
        "\t\"\"\"\n",
        "\tGaussian distribution class for calculating Gaussian distribution\n",
        "\tGaussian class inherits from Distribution class of generalDistribution.py module\n",
        "\tAttributes:\n",
        "\t\t1. mean (mean value of the distribution)\n",
        "\t\t2. stdev (standard deviation of the distribution)\n",
        "\t\t3. data (list of floats extracted from the data file)\n",
        "\t\"\"\"\t\n",
        "\tdef __init__(self,mu=0,sigma=1):\n",
        "\t\t#Default value of mu = 0\n",
        "\t\t#Default value of sigma = 1\n",
        "\t\tDistribution.__init__(self,mu,sigma)\n",
        "\n",
        "\tdef calculate_mean(self):\n",
        "\t\t\"\"\"\n",
        "\t\tMethod to calculate the mean of the input dataset\n",
        "\t\t\n",
        "\t\tArgs:\n",
        "\t\t\tnone\n",
        "\n",
        "\t\tReturns:\n",
        "\t\t\tself.mean(float): Mean of the input dataset\n",
        "\t\t\"\"\"\n",
        "\t\tavg = 1.0 * sum(self.data)/len(self.data)\n",
        "\t\tself.mean = avg\n",
        "\t\treturn self.mean\n",
        "\n",
        "\tdef calculate_stdev(self,sample=True):\n",
        "\t\t\"\"\"\n",
        "\t\tMethod to calculate the standard deviation of the input dataset\n",
        "\t\t\n",
        "\t\tArgs:\n",
        "\t\t\tsample(Bool): Check whether the data represents a sample or a population\n",
        "\n",
        "\t\tReturns:\n",
        "\t\t\tself.stdev(float): Standard Deviation of the input dataset\n",
        "\t\t\"\"\"\n",
        "\n",
        "\t\tif sample:\n",
        "\t\t\tn = len(self.data) - 1\n",
        "\t\telse:\n",
        "\t\t\tn = len(self.data)\n",
        "\n",
        "\t\tmean = self.mean\n",
        "\t\tsigma = 0\n",
        "\t\tfor d in self.data:\n",
        "\t\t\t#For each number, subtract the mean and square the result\n",
        "\t\t\tsigma += (d-mean)**2\n",
        "\n",
        "\t\tsigma = math.sqrt(sigma/n)\n",
        "\t\tself.stdev = sigma\n",
        "\t\treturn self.stdev\n",
        "\n",
        "\tdef pdf(self,x):\n",
        "\t\t\"\"\"\n",
        "\t\tMethod to calculate probability density function for gaussian distribution\n",
        "\t\t\n",
        "\t\tArgs:\n",
        "\t\t\tx(float): Point for calculating pdf\n",
        "\t\t\t\t\t\n",
        "\t\tReturns:\n",
        "\t\t\tpdf(float): Probability density function for gaussian distribution\n",
        "\t\t\"\"\"\n",
        "\t\treturn (1.0 / (self.stdev * math.sqrt(2*math.pi))) * math.exp(-0.5*((x - self.mean) / self.stdev) ** 2)\n",
        "\n",
        "\tdef __add__(self, other):\n",
        "\t\t\n",
        "\t\t\"\"\"\n",
        "\t\tMethod to add two Gaussian distributions\n",
        "\t\t\n",
        "\t\tArgs:\n",
        "\t\t\tother(gaussian distribution): Gaussian instance\n",
        "\t\t\t\n",
        "\t\tReturns:\n",
        "\t\t\tresult(gaussian distribution): Sum of gaussian distributions\t\n",
        "\t\t\"\"\"\n",
        "\t\tresult = Gaussian()\n",
        "\t\t#Calculate sum of mean of the two gaussian instances\n",
        "\t\tresult.mean = self.mean + other.mean\n",
        "\t\t#Calculate sum of the standard deviations of the two gaussian instances\n",
        "\t\tresult.stdev = math.sqrt(self.stdev ** 2 + other.stdev ** 2)\n",
        "\t\t\n",
        "\t\treturn result\n",
        "\t\t\n",
        "\tdef __repr__(self):\n",
        "\t\n",
        "\t\t\"\"\"\n",
        "\t\tMethod to output the characteristics of the Gaussian instance\n",
        "\t\t\n",
        "\t\tArgs:\n",
        "\t\t\tnone\n",
        "\t\t\n",
        "\t\tReturns:\n",
        "\t\t\toutput(string): Characteristics of the Gaussian\n",
        "\t\t\n",
        "\t\t\"\"\"\n",
        "\t\treturn \"mean {}, standard deviation {}\".format(self.mean, self.stdev)"
      ],
      "execution_count": null,
      "outputs": []
    },
    {
      "cell_type": "code",
      "metadata": {
        "id": "d7MWXoFxoUV9"
      },
      "source": [
        "gaussian_one = Gaussian(4,8)"
      ],
      "execution_count": null,
      "outputs": []
    },
    {
      "cell_type": "code",
      "metadata": {
        "colab": {
          "base_uri": "https://localhost:8080/"
        },
        "id": "Z_mkQ7k0odRh",
        "outputId": "6a5f7946-7887-43b2-8af9-bdef653aa253"
      },
      "source": [
        "gaussian_one.mean"
      ],
      "execution_count": null,
      "outputs": [
        {
          "output_type": "execute_result",
          "data": {
            "text/plain": [
              "4"
            ]
          },
          "metadata": {
            "tags": []
          },
          "execution_count": 4
        }
      ]
    },
    {
      "cell_type": "code",
      "metadata": {
        "colab": {
          "base_uri": "https://localhost:8080/"
        },
        "id": "6HFRnvPnogoY",
        "outputId": "2921f63a-8fb9-4e1a-fde4-832a79d914e5"
      },
      "source": [
        "gaussian_one.stdev"
      ],
      "execution_count": null,
      "outputs": [
        {
          "output_type": "execute_result",
          "data": {
            "text/plain": [
              "8"
            ]
          },
          "metadata": {
            "tags": []
          },
          "execution_count": 5
        }
      ]
    },
    {
      "cell_type": "code",
      "metadata": {
        "colab": {
          "base_uri": "https://localhost:8080/"
        },
        "id": "xA8WnknxojaA",
        "outputId": "e6dbf3ec-bfa8-4c89-d6f1-7d2ee438e551"
      },
      "source": [
        "gaussian_one.pdf(4)"
      ],
      "execution_count": null,
      "outputs": [
        {
          "output_type": "execute_result",
          "data": {
            "text/plain": [
              "0.04986778505017909"
            ]
          },
          "metadata": {
            "tags": []
          },
          "execution_count": 6
        }
      ]
    },
    {
      "cell_type": "code",
      "metadata": {
        "id": "7I_deARGorp7"
      },
      "source": [
        "gaussian_two = Gaussian()"
      ],
      "execution_count": null,
      "outputs": []
    },
    {
      "cell_type": "code",
      "metadata": {
        "id": "iIQ9mD58ox3e"
      },
      "source": [
        "gaussian_two.read_data_file(\"numbers.txt\")"
      ],
      "execution_count": null,
      "outputs": []
    },
    {
      "cell_type": "code",
      "metadata": {
        "colab": {
          "base_uri": "https://localhost:8080/"
        },
        "id": "qBLqXhuKpiuK",
        "outputId": "f79dd59d-c361-4abb-f0d8-59924bb1d51e"
      },
      "source": [
        "gaussian_two.calculate_mean()"
      ],
      "execution_count": null,
      "outputs": [
        {
          "output_type": "execute_result",
          "data": {
            "text/plain": [
              "78.0909090909091"
            ]
          },
          "metadata": {
            "tags": []
          },
          "execution_count": 11
        }
      ]
    },
    {
      "cell_type": "code",
      "metadata": {
        "colab": {
          "base_uri": "https://localhost:8080/"
        },
        "id": "ugpRLqPwpuia",
        "outputId": "aa276b2f-90fb-4b85-b64d-67f383217fa8"
      },
      "source": [
        "gaussian_two.calculate_stdev()"
      ],
      "execution_count": null,
      "outputs": [
        {
          "output_type": "execute_result",
          "data": {
            "text/plain": [
              "92.87459776004906"
            ]
          },
          "metadata": {
            "tags": []
          },
          "execution_count": 13
        }
      ]
    },
    {
      "cell_type": "code",
      "metadata": {
        "id": "Sk905sZbp4AP"
      },
      "source": [
        "gaussian_three = gaussian_one + gaussian_two"
      ],
      "execution_count": null,
      "outputs": []
    },
    {
      "cell_type": "code",
      "metadata": {
        "colab": {
          "base_uri": "https://localhost:8080/"
        },
        "id": "TelM4mUnqJbI",
        "outputId": "943652c3-7424-4659-c68a-848bcd46340f"
      },
      "source": [
        "gaussian_three"
      ],
      "execution_count": null,
      "outputs": [
        {
          "output_type": "execute_result",
          "data": {
            "text/plain": [
              "mean 82.0909090909091, standard deviation 93.21851162237525"
            ]
          },
          "metadata": {
            "tags": []
          },
          "execution_count": 15
        }
      ]
    },
    {
      "cell_type": "code",
      "metadata": {
        "id": "JNXbFywgqZ25"
      },
      "source": [
        "class Binomial(Distribution):\n",
        "\t\"\"\"\n",
        "\tBinomial distribution class for calculating Binomial distribution\n",
        "    Binomial class inherits from Distribution class of generalDistribution.py module\n",
        "    Attributes:\n",
        "        1. mean (mean value of the distribution)\n",
        "        2. stdev (standard deviation of the distribution)\n",
        "        3. data_list (list of floats extracted from the data file)\n",
        "        4. p (probability of success on a single trial)\n",
        "        5. n (number of trials)\n",
        "    \"\"\"\n",
        "\tdef __init__(self,prob=0.5,size=20):\n",
        "\t\tself.p = prob \t#Default value of p = 0.5\n",
        "\t\tself.n = size\t#Default value of n = 20\n",
        "\n",
        "\t\tDistribution.__init__(self,self.calculate_mean(),self.calculate_stdev())\n",
        "\n",
        "\tdef calculate_mean(self):\n",
        "\t\t\"\"\"\n",
        "\t\tMethod to calculate the mean from p and n\n",
        "        \n",
        "        Args: \n",
        "            none\n",
        "        \n",
        "        Returns: \n",
        "            self.mean(float): Mean of the data set\n",
        "        \"\"\"\n",
        "\t\tself.mean = self.n * self.p\n",
        "\t\treturn self.mean\n",
        "\n",
        "\tdef calculate_stdev(self):\n",
        "\t\t\"\"\"\n",
        "\t\tMethod to calculate the standard deviation from p and n\n",
        "        \n",
        "        Args: \n",
        "            none\n",
        "        \n",
        "        Returns: \n",
        "            self.stdev(float): Standard deviation of the data set\n",
        "        \"\"\"\n",
        "\t\tself.stdev = math.sqrt(self.n * self.p * (1 - self.p))\n",
        "\t\treturn self.stdev\n",
        "\n",
        "\tdef replace_stats_with_data(self):\n",
        "\t\t\"\"\"\n",
        "\t\tFunction to calculate p and n from the data set\n",
        "        \n",
        "        Args: \n",
        "            none\n",
        "        \n",
        "        Returns: \n",
        "            self.p(float): Value of p\n",
        "            self.n(float): Value of n    \n",
        "        \"\"\"\n",
        "\t\tself.n = len(self.data)\n",
        "\t\tself.p = 1.0 * sum(self.data) / self.n\n",
        "\t\tself.mean = self.calculate_mean()\n",
        "\t\tself.stdev = self.calculate_stdev()\n",
        "\t\treturn self.p, self.n\n",
        "\n",
        "\tdef pdf(self,k):\n",
        "\t\t\"\"\"\n",
        "\t\tMethod to calculate probability density function for binomial distribution\n",
        "        \n",
        "        Args:\n",
        "            k(float): Number of times for a specific outcome within n trials\n",
        "\n",
        "        Returns:\n",
        "            a * b(float): Probability density function for binomial distribution\n",
        "        \"\"\"\n",
        "        #Value of a = ((n!)/((n-x)! * x!))\n",
        "\t\ta = math.factorial(self.n) / (math.factorial(k) * (math.factorial(self.n - k)))\n",
        "\t\t#Value of b = (p**x) * (1-p)**(n-x)\n",
        "\t\tb = (self.p ** k) * (1 - self.p) ** (self.n - k)\n",
        "\t\treturn a * b\n",
        "\n",
        "\tdef __add__(self,other):\n",
        "\t\t\"\"\"\n",
        "\t\tMethod to add together two Binomial distributions with equal p\n",
        "        \n",
        "        Args:\n",
        "            other(binomial distribution): Binomial instance\n",
        "            \n",
        "        Returns:\n",
        "            result(binomial distribution): Sum of binomial distribution\n",
        "\n",
        "        Raises:\n",
        "        \tassertionError(string): Raised when values of p are not equal \n",
        "        \"\"\"\n",
        "        #Check if success probabilities of both binomial distributions are the same\n",
        "\t\ttry:\n",
        "\t\t\tassert self.p == other.p, 'p values are not equal'\n",
        "\t\t#If values are not same, raise an error\n",
        "\t\texcept AssertionError as error:\n",
        "\t\t\traise\n",
        "\n",
        "\t\tresult = Binomial()\n",
        "\t\t#Calculate sum of the number of trials of the two binomial instances\n",
        "\t\tresult.n = self.n + other.n\n",
        "\t\t#Success probability of the resultant binomial distribution is the same as the two distributions\n",
        "\t\tresult.p = self.p\n",
        "\t\t#Calculate sum of mean of the two binomial instances\t\n",
        "\t\tresult.calculate_mean()\n",
        "\t\t#Calculate sum of the standard deviations of the two binomial instances\n",
        "\t\tresult.calculate_stdev()\n",
        "\n",
        "\t\treturn result\n",
        "\n",
        "\tdef __repr__(self):\n",
        "\t\t\"\"\"\n",
        "\t\tMethod to output the characteristics of the Binomial instance\n",
        "        \n",
        "        Args:\n",
        "            none\n",
        "        \n",
        "        Returns:\n",
        "            output(string): Characteristics of the Gaussian\n",
        "        \"\"\"\n",
        "\t\treturn \"mean {}, standard deviation {}, p {}, n {}\".format(self.mean, self.stdev, self.p, self.n)"
      ],
      "execution_count": null,
      "outputs": []
    },
    {
      "cell_type": "code",
      "metadata": {
        "id": "Fwt-izg-qhrq"
      },
      "source": [
        "binomial_one = Binomial(0.7,4)"
      ],
      "execution_count": null,
      "outputs": []
    },
    {
      "cell_type": "code",
      "metadata": {
        "colab": {
          "base_uri": "https://localhost:8080/"
        },
        "id": "edGywzdnrOn2",
        "outputId": "cfa905db-9f16-400a-ac16-c9a4eea6a65a"
      },
      "source": [
        "print(binomial_one)"
      ],
      "execution_count": null,
      "outputs": [
        {
          "output_type": "stream",
          "text": [
            "mean 2.8, standard deviation 0.9165151389911681, p 0.7, n 4\n"
          ],
          "name": "stdout"
        }
      ]
    },
    {
      "cell_type": "code",
      "metadata": {
        "colab": {
          "base_uri": "https://localhost:8080/"
        },
        "id": "f2U2prhYt1JL",
        "outputId": "7e39a419-4e14-4554-f264-1fde20672773"
      },
      "source": [
        "binomial_one.pdf(4)"
      ],
      "execution_count": null,
      "outputs": [
        {
          "output_type": "execute_result",
          "data": {
            "text/plain": [
              "0.24009999999999995"
            ]
          },
          "metadata": {
            "tags": []
          },
          "execution_count": 34
        }
      ]
    },
    {
      "cell_type": "code",
      "metadata": {
        "colab": {
          "base_uri": "https://localhost:8080/"
        },
        "id": "gOuY-MjCwt19",
        "outputId": "752a2f99-780c-4d4f-e79c-bed201d26770"
      },
      "source": [
        "binomial_two = Binomial()\n",
        "binomial_two.read_data_file(\"numbers.txt\")\n",
        "binomial_two.calculate_mean()"
      ],
      "execution_count": null,
      "outputs": [
        {
          "output_type": "execute_result",
          "data": {
            "text/plain": [
              "10.0"
            ]
          },
          "metadata": {
            "tags": []
          },
          "execution_count": 39
        }
      ]
    },
    {
      "cell_type": "code",
      "metadata": {
        "id": "XyIwdhAMFqgl"
      },
      "source": [
        "\"\"\"\n",
        "Bernoulli Distribution\n",
        "\"\"\"\n",
        "# Author: Ashwin Raj <rajashwin733@gmail.com>\n",
        "# License: GNU General Public License v3.0\n",
        "\n",
        "import math\n",
        "\n",
        "class Bernoulli(Distribution):\n",
        "\tdef __init__(self,prob=0.5):\n",
        "\t\tself.p = prob\n",
        "\n",
        "\t\tDistribution.__init__(self,self.calculate_mean(),self.calculate_stdev())\n",
        "\n",
        "\tdef calculate_mean(self):\n",
        "\t\treturn self.p\n",
        "\n",
        "\tdef calculate_stdev(self): \n",
        "\t\tsigma = math.sqrt(self.p * (1 - self.p))\n",
        "\t\tself.stdev = sigma\n",
        "\t\treturn self.stdev\n",
        "\n",
        "\tdef replace_stats_with_data(self):\n",
        "\t\tself.p = 1.0 * sum(self.data) / self.n\n",
        "\t\tself.mean = self.calculate_mean()\n",
        "\t\tself.stdev = self.calculate_stdev()\n",
        "\t\treturn self.p\n",
        "\n",
        "\tdef pdf(self,x):\n",
        "\t\treturn ((self.p ** x) * ((1 - self.p) ** x))\n",
        "\n",
        "\tdef __add__(self,other):\n",
        "\t\tresult = Bernoulli()\n",
        "\t\tresult.p = self.p + other.p\n",
        "\t\t#Calculate sum of mean of the two bernoulli instances\t\n",
        "\t\tresult.calculate_mean()\n",
        "\t\t#Calculate sum of the standard deviations of the two bernoulli instances\n",
        "\t\tresult.calculate_stdev()\n",
        "\n",
        "\t\treturn result\n"
      ],
      "execution_count": null,
      "outputs": []
    },
    {
      "cell_type": "code",
      "metadata": {
        "id": "1sSdDDiZFy5F"
      },
      "source": [
        "a = Bernoulli(0.7)"
      ],
      "execution_count": null,
      "outputs": []
    },
    {
      "cell_type": "code",
      "metadata": {
        "colab": {
          "base_uri": "https://localhost:8080/"
        },
        "id": "J0sblzN2HAVh",
        "outputId": "42dafd96-4121-457c-93c2-89643b46326b"
      },
      "source": [
        "print(a)"
      ],
      "execution_count": null,
      "outputs": [
        {
          "output_type": "stream",
          "text": [
            "<__main__.Bernoulli object at 0x7fe220908f50>\n"
          ],
          "name": "stdout"
        }
      ]
    },
    {
      "cell_type": "code",
      "metadata": {
        "colab": {
          "base_uri": "https://localhost:8080/"
        },
        "id": "ntyhvOcxHMfW",
        "outputId": "fae90dec-073d-4b62-d2af-834fc474a06b"
      },
      "source": [
        "a.mean"
      ],
      "execution_count": null,
      "outputs": [
        {
          "output_type": "execute_result",
          "data": {
            "text/plain": [
              "0.7"
            ]
          },
          "metadata": {
            "tags": []
          },
          "execution_count": 49
        }
      ]
    },
    {
      "cell_type": "code",
      "metadata": {
        "colab": {
          "base_uri": "https://localhost:8080/"
        },
        "id": "NF8VV3aNHSmU",
        "outputId": "677678db-ae1a-4744-ced4-94ec4302f0c9"
      },
      "source": [
        "a.stdev"
      ],
      "execution_count": null,
      "outputs": [
        {
          "output_type": "execute_result",
          "data": {
            "text/plain": [
              "0.45825756949558405"
            ]
          },
          "metadata": {
            "tags": []
          },
          "execution_count": 50
        }
      ]
    },
    {
      "cell_type": "code",
      "metadata": {
        "colab": {
          "base_uri": "https://localhost:8080/"
        },
        "id": "5xp-6l4kHWKo",
        "outputId": "2fb59885-7e86-42c1-f1f2-494e288e80da"
      },
      "source": [
        "a.pdf(2)"
      ],
      "execution_count": null,
      "outputs": [
        {
          "output_type": "execute_result",
          "data": {
            "text/plain": [
              "0.04410000000000001"
            ]
          },
          "metadata": {
            "tags": []
          },
          "execution_count": 51
        }
      ]
    },
    {
      "cell_type": "code",
      "metadata": {
        "id": "SkiG5rEbHcUO"
      },
      "source": [
        "b = Bernoulli(0.3)"
      ],
      "execution_count": null,
      "outputs": []
    },
    {
      "cell_type": "code",
      "metadata": {
        "id": "yhHRzHdQHhBF"
      },
      "source": [
        "c = a+b"
      ],
      "execution_count": null,
      "outputs": []
    },
    {
      "cell_type": "code",
      "metadata": {
        "colab": {
          "base_uri": "https://localhost:8080/"
        },
        "id": "l5lD3jalHjoq",
        "outputId": "8071a5a5-1577-4375-c956-b19ac2ada257"
      },
      "source": [
        "c"
      ],
      "execution_count": null,
      "outputs": [
        {
          "output_type": "execute_result",
          "data": {
            "text/plain": [
              "mean 0.5, standard deviation 0.0, p 1.0"
            ]
          },
          "metadata": {
            "tags": []
          },
          "execution_count": 54
        }
      ]
    },
    {
      "cell_type": "code",
      "metadata": {
        "id": "Nw0N_vlagV4J"
      },
      "source": [
        "\"\"\"\n",
        "Uniform Distribution\n",
        "(Also known as Rectangular Distribution)\n",
        "\"\"\"\n",
        "#Author: Ashwin Raj <rajashwin733@gmail.com>\n",
        "#License: GNU General Public License v3.0\n",
        "\n",
        "import math\n",
        "\n",
        "class Uniform(Distribution):\n",
        "\t\"\"\"\n",
        "\tUniform distribution class for calculating uniform distribution\n",
        "    Uniform class inherits from distribution class of generalDistribution.py module\n",
        "    \n",
        "    Attributes:\n",
        "    \t1. a (location parameter)\n",
        "    \t2. b (scale parameter)\n",
        "\t\"\"\"\n",
        "\tdef __init__(self,locationParam=0,scaleParam=1):\n",
        "\t\tself.a = locationParam\t#Default value of a = 0\n",
        "\t\tself.b = scaleParam\t\t#Default value of b = 1\n",
        "\n",
        "\t\tDistribution.__init__(self,self.calculate_mean(),self.calculate_stdev())\n",
        "\n",
        "\tdef calculate_mean(self):\n",
        "\t\t\"\"\"\n",
        "\t\tMethod to calculate the mean\n",
        "        \n",
        "        Args: \n",
        "            none\n",
        "        \n",
        "        Returns: \n",
        "            self.mean(float): Mean of the data set\n",
        "        \"\"\"\n",
        "\t\tself.mean = (self.a + self.b) / 2\n",
        "\t\treturn self.mean\n",
        "\n",
        "\tdef calculate_stdev(self):\n",
        "\t\t\"\"\"\n",
        "\t\tMethod to calculate the standard deviation\n",
        "        \n",
        "        Args: \n",
        "            none\n",
        "        \n",
        "        Returns: \n",
        "            self.stdev(float): Standard deviation of the data set\n",
        "        \"\"\"\n",
        "\t\tself.stdev = math.sqrt(((self.b - self.a)**2) / 12)\n",
        "\t\treturn self.stdev\n",
        "\n",
        "\tdef replace_stats_with_data(self):\n",
        "\t\t\"\"\"\n",
        "\t\tMethod to calculate p and n from the data set\n",
        "        \n",
        "        Args: \n",
        "            none\n",
        "        \n",
        "        Returns: \n",
        "            self.a(float): Value of a\n",
        "            self.b(float): Value of b    \n",
        "        \"\"\"\n",
        "\t\tself.a = min(self.data)\t#max value in the data file\n",
        "\t\tself.b = max(self.data)\t#min value in the data file\n",
        "\n",
        "\t\t#Calculate mean and standard deviation\n",
        "\t\tself.mean = self.calculate_mean()\n",
        "\t\tself.stdev = self.calculate_stdev()\n",
        "\t\treturn self.a, self.b\n",
        "\n",
        "\tdef pdf(self,x):\n",
        "\t\t\"\"\"\n",
        "\t\tMethod to calculate probability density function for bernoulli distribution\n",
        "        \n",
        "        Args:\n",
        "            x(float): Random variable\n",
        "\n",
        "        Returns:\n",
        "            pdf(float): Probability density function for binomial distribution\n",
        "        \"\"\"\n",
        "        #Check if the random variable ranges in between a and b\n",
        "\t\tif(x < self.a or x > self.b):\n",
        "\t\t\treturn 0\n",
        "\t\telse:\n",
        "\t\t\treturn 1 / (self.b - self.a)\n",
        "\n",
        "\tdef __add__(self,other):\n",
        "\t\t\"\"\"\n",
        "\t\tMethod to add together two uniform distributions with equal p\n",
        "        \n",
        "        Args:\n",
        "            other(uniform distribution): Uniform instance\n",
        "            \n",
        "        Returns:\n",
        "            result(uniform distribution): Sum of uniform distribution\n",
        "        \"\"\"\n",
        "\t\tresult = Uniform()\n",
        "\t\tresult.a = self.a + other.a\n",
        "\t\tresult.b = self.b + other.b\n",
        "\t\t#Calculate sum of mean of the two uniform instances\n",
        "\t\tresult.calculate_mean()\n",
        "\t\t##Calculate sum of the standard deviations of the two uniform instances\n",
        "\t\tresult.calculate_stdev()\n",
        "\t\t\n",
        "\t\treturn result\n",
        "\n",
        "\tdef __repr__(self):\n",
        "\t\t\"\"\"\n",
        "\t\tMethod to output the characteristics of the uniform instance\n",
        "        \n",
        "        Args:\n",
        "            none\n",
        "        \n",
        "        Returns:\n",
        "            output(string): Characteristics of the distribution\n",
        "        \"\"\"\n",
        "\t\treturn \"a: {}, b: {}, mean: {}, standard deviation: {}\".format(self.a,self.b,self.mean,self.stdev)"
      ],
      "execution_count": null,
      "outputs": []
    },
    {
      "cell_type": "code",
      "metadata": {
        "id": "zLN7OwtzgzOY"
      },
      "source": [
        "unif = Uniform(2,23)"
      ],
      "execution_count": null,
      "outputs": []
    },
    {
      "cell_type": "code",
      "metadata": {
        "colab": {
          "base_uri": "https://localhost:8080/"
        },
        "id": "LlkHZE1thB1v",
        "outputId": "9ee1eac5-211c-41cf-fb70-370d8faa42c4"
      },
      "source": [
        "print(unif)"
      ],
      "execution_count": null,
      "outputs": [
        {
          "output_type": "stream",
          "text": [
            "a: 2, b: 23, mean: 12.5, standard deviation: 6.06217782649107\n"
          ],
          "name": "stdout"
        }
      ]
    },
    {
      "cell_type": "code",
      "metadata": {
        "colab": {
          "base_uri": "https://localhost:8080/"
        },
        "id": "jIbmPjKIhEFf",
        "outputId": "a7b9c04b-e860-4845-97b4-7ef1fe0c2c35"
      },
      "source": [
        "print(unif.mean)\n",
        "print(unif.stdev)"
      ],
      "execution_count": null,
      "outputs": [
        {
          "output_type": "stream",
          "text": [
            "12.5\n",
            "6.06217782649107\n"
          ],
          "name": "stdout"
        }
      ]
    },
    {
      "cell_type": "code",
      "metadata": {
        "colab": {
          "base_uri": "https://localhost:8080/"
        },
        "id": "szRDWaphhL_m",
        "outputId": "82116d20-17d7-4a93-a05f-8e4987d7ca40"
      },
      "source": [
        "unif.pdf(14)"
      ],
      "execution_count": null,
      "outputs": [
        {
          "output_type": "execute_result",
          "data": {
            "text/plain": [
              "0.047619047619047616"
            ]
          },
          "metadata": {
            "tags": []
          },
          "execution_count": 10
        }
      ]
    },
    {
      "cell_type": "code",
      "metadata": {
        "id": "pZIE-HZdhubV"
      },
      "source": [
        "snif = Uniform(3,30)"
      ],
      "execution_count": null,
      "outputs": []
    },
    {
      "cell_type": "code",
      "metadata": {
        "id": "qX242bRfh0Tq"
      },
      "source": [
        "rave = unif + snif"
      ],
      "execution_count": null,
      "outputs": []
    },
    {
      "cell_type": "code",
      "metadata": {
        "colab": {
          "base_uri": "https://localhost:8080/"
        },
        "id": "YbyQxdmfh4vr",
        "outputId": "5670877b-ad44-4062-83ce-4783086190fa"
      },
      "source": [
        "print(rave)"
      ],
      "execution_count": null,
      "outputs": [
        {
          "output_type": "stream",
          "text": [
            "a: 5, b: 53, mean: 29.0, standard deviation: 13.856406460551018\n"
          ],
          "name": "stdout"
        }
      ]
    },
    {
      "cell_type": "code",
      "metadata": {
        "colab": {
          "background_save": true
        },
        "id": "M4l2kUmpgZyf",
        "outputId": "6322a07d-91bb-4283-9d94-2bd57f01521a"
      },
      "source": [
        "import math\n",
        "\n",
        "class Poisson(Distribution):\n",
        "\tdef __init__(self,rateParam=0.5):\n",
        "\t\tself.mu = rateParam\n",
        "\t\tDistribution.__init__(self,self.calculate_mean(),self.calculate_stdev())\n",
        "\n",
        "\tdef calculate_mean(self):\n",
        "\t\tself.mean = self.mu\n",
        "\t\treturn self.mean\n",
        "\n",
        "\tdef calculate_stdev(self):\n",
        "\t\tself.stdev = self.mu\n",
        "\t\treturn self.stdev\n",
        "\n",
        "\tdef pdf(self,x):\n",
        "\t\treturn 1.0 * (self.mu ** x) / ((self.mu ** x) * (math.exp(self.mu))\n",
        "  \n",
        "\n",
        "\"\"\"\n",
        "pmf = math.\n",
        "\"\"\"\n",
        "\n",
        "\n",
        "\tdef __add__(self,other):\n",
        "\t\tresult = Poisson()\n",
        "\t\tresult.mu = self.mu + other.mu\n",
        "\t\tresult.calculate_mean()\n",
        "\t\tresult.calculate_stdev()\n",
        "\t\treturn result\n",
        "\n",
        "\tdef __repr__(self):\n",
        "\t\treturn \"mu: {}, mean: {}, standard deviation: {}\".format(self.mu,self.mean,self.stdev)"
      ],
      "execution_count": null,
      "outputs": [
        {
          "output_type": "error",
          "ename": "SyntaxError",
          "evalue": "ignored",
          "traceback": [
            "\u001b[0;36m  File \u001b[0;32m\"<ipython-input-10-081a03a0cd64>\"\u001b[0;36m, line \u001b[0;32m22\u001b[0m\n\u001b[0;31m    \"\"\"\u001b[0m\n\u001b[0m       \n^\u001b[0m\n\u001b[0;31mSyntaxError\u001b[0m\u001b[0;31m:\u001b[0m invalid syntax\n"
          ]
        }
      ]
    },
    {
      "cell_type": "code",
      "metadata": {
        "id": "42VrqWXzZipz"
      },
      "source": [
        ""
      ],
      "execution_count": null,
      "outputs": []
    },
    {
      "cell_type": "code",
      "metadata": {
        "id": "DHINEe1JgdwS"
      },
      "source": [
        "pss1 = Poisson(1.5)"
      ],
      "execution_count": null,
      "outputs": []
    },
    {
      "cell_type": "code",
      "metadata": {
        "colab": {
          "base_uri": "https://localhost:8080/"
        },
        "id": "-WGoumVGgubf",
        "outputId": "d5c54591-f0df-47d8-b322-622605042f88"
      },
      "source": [
        "print(pss1)"
      ],
      "execution_count": null,
      "outputs": [
        {
          "output_type": "stream",
          "text": [
            "mu: 1.5, mean: 1.5, standard deviation: 1.5\n"
          ],
          "name": "stdout"
        }
      ]
    },
    {
      "cell_type": "code",
      "metadata": {
        "colab": {
          "base_uri": "https://localhost:8080/",
          "height": 282
        },
        "id": "U_3leeWmg1gA",
        "outputId": "61e7af28-c90c-4318-ab35-52cade01bc4a"
      },
      "source": [
        "pss1.pdf(0)"
      ],
      "execution_count": null,
      "outputs": [
        {
          "output_type": "error",
          "ename": "TypeError",
          "evalue": "ignored",
          "traceback": [
            "\u001b[0;31m---------------------------------------------------------------------------\u001b[0m",
            "\u001b[0;31mTypeError\u001b[0m                                 Traceback (most recent call last)",
            "\u001b[0;32m<ipython-input-9-f6b1d2dd8cb8>\u001b[0m in \u001b[0;36m<module>\u001b[0;34m()\u001b[0m\n\u001b[0;32m----> 1\u001b[0;31m \u001b[0mpss1\u001b[0m\u001b[0;34m.\u001b[0m\u001b[0mpdf\u001b[0m\u001b[0;34m(\u001b[0m\u001b[0;36m0\u001b[0m\u001b[0;34m)\u001b[0m\u001b[0;34m\u001b[0m\u001b[0;34m\u001b[0m\u001b[0m\n\u001b[0m",
            "\u001b[0;32m<ipython-input-7-ab5334bcecc9>\u001b[0m in \u001b[0;36mpdf\u001b[0;34m(self, x)\u001b[0m\n\u001b[1;32m     15\u001b[0m \u001b[0;34m\u001b[0m\u001b[0m\n\u001b[1;32m     16\u001b[0m         \u001b[0;32mdef\u001b[0m \u001b[0mpdf\u001b[0m\u001b[0;34m(\u001b[0m\u001b[0mself\u001b[0m\u001b[0;34m,\u001b[0m\u001b[0mx\u001b[0m\u001b[0;34m)\u001b[0m\u001b[0;34m:\u001b[0m\u001b[0;34m\u001b[0m\u001b[0;34m\u001b[0m\u001b[0m\n\u001b[0;32m---> 17\u001b[0;31m                 \u001b[0;32mreturn\u001b[0m \u001b[0;36m1.0\u001b[0m \u001b[0;34m*\u001b[0m \u001b[0;34m(\u001b[0m\u001b[0mself\u001b[0m\u001b[0;34m.\u001b[0m\u001b[0mmu\u001b[0m \u001b[0;34m**\u001b[0m \u001b[0mx\u001b[0m\u001b[0;34m)\u001b[0m \u001b[0;34m/\u001b[0m \u001b[0;34m(\u001b[0m\u001b[0;34m(\u001b[0m\u001b[0mself\u001b[0m\u001b[0;34m.\u001b[0m\u001b[0mmu\u001b[0m \u001b[0;34m**\u001b[0m \u001b[0mx\u001b[0m\u001b[0;34m)\u001b[0m \u001b[0;34m*\u001b[0m \u001b[0;34m(\u001b[0m\u001b[0mmath\u001b[0m\u001b[0;34m.\u001b[0m\u001b[0mexp\u001b[0m\u001b[0;34m**\u001b[0m\u001b[0mself\u001b[0m\u001b[0;34m.\u001b[0m\u001b[0mmu\u001b[0m\u001b[0;34m)\u001b[0m\u001b[0;34m)\u001b[0m\u001b[0;34m\u001b[0m\u001b[0;34m\u001b[0m\u001b[0m\n\u001b[0m\u001b[1;32m     18\u001b[0m \u001b[0;34m\u001b[0m\u001b[0m\n\u001b[1;32m     19\u001b[0m         \u001b[0;32mdef\u001b[0m \u001b[0m__add__\u001b[0m\u001b[0;34m(\u001b[0m\u001b[0mself\u001b[0m\u001b[0;34m,\u001b[0m\u001b[0mother\u001b[0m\u001b[0;34m)\u001b[0m\u001b[0;34m:\u001b[0m\u001b[0;34m\u001b[0m\u001b[0;34m\u001b[0m\u001b[0m\n",
            "\u001b[0;31mTypeError\u001b[0m: unsupported operand type(s) for ** or pow(): 'builtin_function_or_method' and 'float'"
          ]
        }
      ]
    },
    {
      "cell_type": "code",
      "metadata": {
        "id": "fcsrHyr1Zje7"
      },
      "source": [
        ""
      ],
      "execution_count": null,
      "outputs": []
    },
    {
      "cell_type": "code",
      "metadata": {
        "id": "n-u2IlfWZj3w"
      },
      "source": [
        ""
      ],
      "execution_count": null,
      "outputs": []
    },
    {
      "cell_type": "code",
      "metadata": {
        "id": "JNdNYDi5Zj-u"
      },
      "source": [
        ""
      ],
      "execution_count": null,
      "outputs": []
    },
    {
      "cell_type": "code",
      "metadata": {
        "id": "aXOzm1EiZkDG"
      },
      "source": [
        ""
      ],
      "execution_count": null,
      "outputs": []
    },
    {
      "cell_type": "code",
      "metadata": {
        "id": "U_NMjyTHZkHN"
      },
      "source": [
        ""
      ],
      "execution_count": null,
      "outputs": []
    },
    {
      "cell_type": "code",
      "metadata": {
        "id": "iE3Jpr6-ZkKy"
      },
      "source": [
        ""
      ],
      "execution_count": null,
      "outputs": []
    },
    {
      "cell_type": "code",
      "metadata": {
        "id": "CXjpeC6jZkOy"
      },
      "source": [
        ""
      ],
      "execution_count": null,
      "outputs": []
    },
    {
      "cell_type": "code",
      "metadata": {
        "id": "8aw3EDmPZkTB"
      },
      "source": [
        ""
      ],
      "execution_count": null,
      "outputs": []
    },
    {
      "cell_type": "code",
      "metadata": {
        "id": "-ny8Ke8hZkWY"
      },
      "source": [
        "\"\"\"\n",
        "Exponential Distribution\n",
        "\"\"\"\n",
        "# Author: Ashwin Raj <rajashwin733@gmail.com>\n",
        "# License: GNU General Public License v3.0\n",
        "import math\n",
        "\n",
        "class Exponential(Distribution):\n",
        "\t\"\"\"\n",
        "\tExponential distribution class for calculating exponential distribution\n",
        "    Exponential class inherits from distribution class of generalDistribution.py module\n",
        "\n",
        "    Attributes:\n",
        "        1. lamda (rate parameter)\n",
        "    \"\"\"\n",
        "\tdef __init__(self,rateParameter = 1):\n",
        "\t\tself.lamda = rateParameter\t#Default value of lamda = 1\n",
        "\n",
        "\t\tDistribution.__init__(self,self.calculate_mean(),self.calculate_stdev())\n",
        "\n",
        "\tdef calculate_mean(self):\n",
        "\t\t\"\"\"\n",
        "\t\tMethod to calculate the mean\n",
        "        \n",
        "        Args: \n",
        "            none\n",
        "        \n",
        "        Returns: \n",
        "            self.mean(float): Mean of the data set\n",
        "            OR\n",
        "            output(string): Division by Zero \n",
        "        \"\"\"\n",
        "\t\ttry:\n",
        "\t\t\tself.mean = 1.0 * (1 / self.lamda)\n",
        "\t\t\treturn self.mean\n",
        "\t\texcept ZeroDivisionError as error:\n",
        "\t\t\traise\n",
        "      \n",
        "\tdef calculate_stdev(self):\n",
        "\t\t\"\"\"\n",
        "\t\tMethod to calculate the mean\n",
        "        \n",
        "        Args: \n",
        "            none\n",
        "        \n",
        "        Returns: \n",
        "            self.mean(float): Mean of the data set\n",
        "            OR\n",
        "            output(string): Division by Zero \n",
        "        \"\"\"\n",
        "\t\ttry:\n",
        "\t\t\tself.stdev = 1.0 * (1 / self.lamda)\n",
        "\t\t\treturn self.stdev\n",
        "\t\texcept ZeroDivisionError as error:\n",
        "\t\t\traise\n",
        "\n",
        "\tdef pdf(self,x):\n",
        "\t\tif x < 0:\n",
        "\t\t\treturn 0\n",
        "\t\telse:\n",
        "\t\t\tpower = -1.0 * self.lamda * x\n",
        "\t\t\treturn self.lamda * math.exp(power)\n",
        "\n",
        "\tdef __add__(self,other):\n",
        "\t\tresult = Exponential()\n",
        "\t\tresult.lamda = self.lamda + other.lamda\n",
        "\t\tresult.calculate_mean()\n",
        "\t\tresult.calculate_stdev()\n",
        "\t\treturn result\n",
        "\n",
        "\tdef __repr__(self):\n",
        "\t\treturn \"lamda: {}, mean: {}, standard deviation: {}\".format(self.lamda,self.mean,self.stdev)"
      ],
      "execution_count": null,
      "outputs": []
    },
    {
      "cell_type": "code",
      "metadata": {
        "id": "ImpJUVG8Z4ia"
      },
      "source": [
        "exp = Exponential(3)"
      ],
      "execution_count": null,
      "outputs": []
    },
    {
      "cell_type": "code",
      "metadata": {
        "colab": {
          "base_uri": "https://localhost:8080/"
        },
        "id": "gSsaXdFyaATJ",
        "outputId": "d93a36ce-1c86-4fd7-ba70-8b3d74b64f0e"
      },
      "source": [
        "print(exp)"
      ],
      "execution_count": null,
      "outputs": [
        {
          "output_type": "stream",
          "text": [
            "lamda: 3, mean: 0.3333333333333333, standard deviation: 0.3333333333333333\n"
          ],
          "name": "stdout"
        }
      ]
    },
    {
      "cell_type": "code",
      "metadata": {
        "colab": {
          "base_uri": "https://localhost:8080/"
        },
        "id": "nfkU_MnyaDDq",
        "outputId": "e6ba7302-d25a-4d51-8933-dee365e62423"
      },
      "source": [
        "print(exp.pdf(2))"
      ],
      "execution_count": null,
      "outputs": [
        {
          "output_type": "stream",
          "text": [
            "0.0074362565299990755\n"
          ],
          "name": "stdout"
        }
      ]
    },
    {
      "cell_type": "code",
      "metadata": {
        "colab": {
          "base_uri": "https://localhost:8080/",
          "height": 306
        },
        "id": "Ii01zFizfwla",
        "outputId": "0c2ca1fa-3e23-4856-e07c-9642a4832f6e"
      },
      "source": [
        "exp = Exponential(0)"
      ],
      "execution_count": null,
      "outputs": [
        {
          "output_type": "error",
          "ename": "ZeroDivisionError",
          "evalue": "ignored",
          "traceback": [
            "\u001b[0;31m---------------------------------------------------------------------------\u001b[0m",
            "\u001b[0;31mZeroDivisionError\u001b[0m                         Traceback (most recent call last)",
            "\u001b[0;32m<ipython-input-43-6a4157f75c0a>\u001b[0m in \u001b[0;36m<module>\u001b[0;34m()\u001b[0m\n\u001b[0;32m----> 1\u001b[0;31m \u001b[0mexp\u001b[0m \u001b[0;34m=\u001b[0m \u001b[0mExponential\u001b[0m\u001b[0;34m(\u001b[0m\u001b[0;36m0\u001b[0m\u001b[0;34m)\u001b[0m\u001b[0;34m\u001b[0m\u001b[0;34m\u001b[0m\u001b[0m\n\u001b[0m",
            "\u001b[0;32m<ipython-input-39-6575d3fa7d6e>\u001b[0m in \u001b[0;36m__init__\u001b[0;34m(self, rateParameter)\u001b[0m\n\u001b[1;32m     17\u001b[0m                 \u001b[0mself\u001b[0m\u001b[0;34m.\u001b[0m\u001b[0mlamda\u001b[0m \u001b[0;34m=\u001b[0m \u001b[0mrateParameter\u001b[0m      \u001b[0;31m#Default value of lamda = 1\u001b[0m\u001b[0;34m\u001b[0m\u001b[0;34m\u001b[0m\u001b[0m\n\u001b[1;32m     18\u001b[0m \u001b[0;34m\u001b[0m\u001b[0m\n\u001b[0;32m---> 19\u001b[0;31m                 \u001b[0mDistribution\u001b[0m\u001b[0;34m.\u001b[0m\u001b[0m__init__\u001b[0m\u001b[0;34m(\u001b[0m\u001b[0mself\u001b[0m\u001b[0;34m,\u001b[0m\u001b[0mself\u001b[0m\u001b[0;34m.\u001b[0m\u001b[0mcalculate_mean\u001b[0m\u001b[0;34m(\u001b[0m\u001b[0;34m)\u001b[0m\u001b[0;34m,\u001b[0m\u001b[0mself\u001b[0m\u001b[0;34m.\u001b[0m\u001b[0mcalculate_stdev\u001b[0m\u001b[0;34m(\u001b[0m\u001b[0;34m)\u001b[0m\u001b[0;34m)\u001b[0m\u001b[0;34m\u001b[0m\u001b[0;34m\u001b[0m\u001b[0m\n\u001b[0m\u001b[1;32m     20\u001b[0m \u001b[0;34m\u001b[0m\u001b[0m\n\u001b[1;32m     21\u001b[0m         \u001b[0;32mdef\u001b[0m \u001b[0mcalculate_mean\u001b[0m\u001b[0;34m(\u001b[0m\u001b[0mself\u001b[0m\u001b[0;34m)\u001b[0m\u001b[0;34m:\u001b[0m\u001b[0;34m\u001b[0m\u001b[0;34m\u001b[0m\u001b[0m\n",
            "\u001b[0;32m<ipython-input-39-6575d3fa7d6e>\u001b[0m in \u001b[0;36mcalculate_mean\u001b[0;34m(self)\u001b[0m\n\u001b[1;32m     32\u001b[0m         \"\"\"\n\u001b[1;32m     33\u001b[0m                 \u001b[0;32mtry\u001b[0m\u001b[0;34m:\u001b[0m\u001b[0;34m\u001b[0m\u001b[0;34m\u001b[0m\u001b[0m\n\u001b[0;32m---> 34\u001b[0;31m                         \u001b[0mself\u001b[0m\u001b[0;34m.\u001b[0m\u001b[0mmean\u001b[0m \u001b[0;34m=\u001b[0m \u001b[0;36m1.0\u001b[0m \u001b[0;34m*\u001b[0m \u001b[0;34m(\u001b[0m\u001b[0;36m1\u001b[0m \u001b[0;34m/\u001b[0m \u001b[0mself\u001b[0m\u001b[0;34m.\u001b[0m\u001b[0mlamda\u001b[0m\u001b[0;34m)\u001b[0m\u001b[0;34m\u001b[0m\u001b[0;34m\u001b[0m\u001b[0m\n\u001b[0m\u001b[1;32m     35\u001b[0m                         \u001b[0;32mreturn\u001b[0m \u001b[0mself\u001b[0m\u001b[0;34m.\u001b[0m\u001b[0mmean\u001b[0m\u001b[0;34m\u001b[0m\u001b[0;34m\u001b[0m\u001b[0m\n\u001b[1;32m     36\u001b[0m                 \u001b[0;32mexcept\u001b[0m \u001b[0mZeroDivisionError\u001b[0m \u001b[0;32mas\u001b[0m \u001b[0merror\u001b[0m\u001b[0;34m:\u001b[0m\u001b[0;34m\u001b[0m\u001b[0;34m\u001b[0m\u001b[0m\n",
            "\u001b[0;31mZeroDivisionError\u001b[0m: division by zero"
          ]
        }
      ]
    },
    {
      "cell_type": "code",
      "metadata": {
        "colab": {
          "base_uri": "https://localhost:8080/"
        },
        "id": "p0F1eRp78Ehr",
        "outputId": "9a7efcfc-b3b3-4f99-afa4-15e5f4432786"
      },
      "source": [
        "\"\"\"\n",
        "Arcsine Distribution\n",
        "with Arbitrary Bounded Support\n",
        "\"\"\"\n",
        "# Author: Ashwin Raj <rajashwin733@gmail.com>\n",
        "# License: GNU General Public License v3.0\n",
        "import math\n",
        "\n",
        "class Arcsine(Distribution):\n",
        "\tdef __init__(self):\t#No attributes\n",
        "\t\tDistribution.__init__(self,self,calculate_mean(),self.calculate_stdev())\n",
        "\n",
        "\tdef calculate_mean(self):\n",
        "\t\tself.mean = 1 / 2\n",
        "\t\treturn self.mean\n",
        "\n",
        "\tdef calculate_stdev(self):\n",
        "\t\tself.stdev = math.sqrt(1 / 8)\n",
        "\t\treturn self.stdev\n",
        "\n",
        "\tdef pdf(self,x):\n",
        "    try:\n",
        "\t\t\tpart = math.sqrt(x * (1 - x))\n",
        "\t\t\treturn 1 / (math.pi * part)\n",
        "\n",
        "\t\t#If divided by zero, raise an error\n",
        "\t\texcept ZeroDivisionError as error:\n",
        "\t\t\traise\n",
        "\n",
        "\t\t#If negative number passed for square root, raise an error\n",
        "\t\texcept ValueError as error:\n",
        "\t\t\traise\n",
        "\n",
        "\tdef __repr__(self):\n",
        "\t\treturn \"mean: {}, standard deviation: {}\".format(self.mean,self.stdev)\n",
        "\n",
        "class boundedArcsine(Distribution):\n",
        "\tdef __init__(self,abcissa=0,ordinate=1):\n",
        "\t\tself.a = abcissa\t#Default value of a = 0\n",
        "\t\tself.b = ordinate\t#Default value of b = 1\n",
        "\n",
        "\t\tDistribution.__init__(self,self.calculate_mean(),self.calculate_stdev())\n",
        "\n",
        "\tdef calculate_mean(self):\n",
        "\t\tself.mean = (self.a + self.b) / 2\n",
        "\t\treturn self.mean\n",
        "\n",
        "\tdef calculate_stdev(self):\n",
        "\t\tself.stdev = math.sqrt((self.b - self.a)**2 / 8)\n",
        "\t\treturn self.stdev\n",
        "\n",
        "\tdef pdf(self,x):\n",
        "    try:\n",
        "\t\t\tpart = math.sqrt((x - self.a) * (self.b - x))\n",
        "\t\t\treturn 1 / (math.pi * part)\n",
        "\n",
        "\t\t#If divided by zero, raise an error\n",
        "\t\texcept ZeroDivisionError as error:\n",
        "\t\t\traise\n",
        "\n",
        "\t\t#If negative number passed for square root, raise an error\n",
        "\t\texcept ValueError as error:\n",
        "\t\t\traise\n",
        "\n",
        "\tdef __repr__(self):\n",
        "\t\treturn \"a: {}, b: {}, mean: {}, standard deviation: {}\".format(self.a,self.b,self.mean,self.stdev)"
      ],
      "execution_count": null,
      "outputs": [
        {
          "output_type": "error",
          "ename": "IndentationError",
          "evalue": "ignored",
          "traceback": [
            "\u001b[0;36m  File \u001b[0;32m\"<ipython-input-1-ab3cfc6132ef>\"\u001b[0;36m, line \u001b[0;32m22\u001b[0m\n\u001b[0;31m    try:\u001b[0m\n\u001b[0m        ^\u001b[0m\n\u001b[0;31mIndentationError\u001b[0m\u001b[0;31m:\u001b[0m unindent does not match any outer indentation level\n"
          ]
        }
      ]
    }
  ]
}