{
  "nbformat": 4,
  "nbformat_minor": 0,
  "metadata": {
    "colab": {
      "name": "erlangDistribution",
      "provenance": [],
      "authorship_tag": "ABX9TyNkrMW6W53w6CoVOcDAeZK3"
    },
    "kernelspec": {
      "name": "python3",
      "display_name": "Python 3"
    },
    "language_info": {
      "name": "python"
    }
  },
  "cells": [
    {
      "cell_type": "code",
      "metadata": {
        "id": "eB5_Z75qT3vz"
      },
      "source": [
        "\"\"\"\n",
        "General Distribution\n",
        "(General parent class for to act as a base class)\n",
        "\"\"\"\n",
        "# Author: Ashwin Raj <rajashwin733@gmail.com>\n",
        "# License: GNU General Public License v3.0\n",
        "\n",
        "class Distribution:\n",
        "\t\"\"\"\n",
        "\tGeneric Distribution class for calculating probability distribution\n",
        "\tAttributes:\n",
        "\t\t1. mean\n",
        "\t\t2. stdev\n",
        "\t\t3. data\n",
        "\t\"\"\"\n",
        "\tdef __init__(self,mu=0,sigma=1):\n",
        "\t\t#Mean value of the distribution\n",
        "\t\tself.mean = mu\n",
        "\t\t#Sandard deviation of the distribution\n",
        "\t\tself.stdev = sigma\n",
        "\t\t#List of floats extracted from input file\n",
        "\t\tself.data = []\n",
        "\n",
        "\t\n",
        "\tdef read_data_file(self,file_name):\n",
        "\t\t\"\"\"\n",
        "\t\tMethod to read data from a txt file(file_name) and store in self.data.\n",
        "\t\tThe txt file should have one number (float) per line.\n",
        "\n",
        "\t\tArgs:\n",
        "\t\t\tName of the file to read data from.\n",
        "\n",
        "\t\tReturns:\n",
        "\t\t\tNo return value\n",
        "\t\t\"\"\"\n",
        "\t\twith open(file_name) as file:\n",
        "\t\t#file_name: name of the txt file to read data from\n",
        "\t\t\tdata_list = []\n",
        "\t\t\t#Returns one line from the file\n",
        "\t\t\tline = file.readline()\n",
        "\n",
        "\t\t\twhile line:\n",
        "\t\t\t\t#Add data to the list\n",
        "\t\t\t\tdata_list.append(int(line))\n",
        "\t\t\t\tline = file.readline()\n",
        "\n",
        "\t\t#Close the file\n",
        "\t\tfile.close()\n",
        "\t\t#store the data in the class attribute\n",
        "\t\tself.data = data_list"
      ],
      "execution_count": 1,
      "outputs": []
    },
    {
      "cell_type": "code",
      "metadata": {
        "id": "ui2AMo_dUBy1"
      },
      "source": [
        "\"\"\"\n",
        "Erlang Distribution\n",
        "(Also known as Normal Distribution)\n",
        "\"\"\"\n",
        "# Author: Ashwin Raj <rajashwin733@gmail.com>\n",
        "# License: GNU General Public License v3.0\n",
        "\n",
        "import math\n",
        "\n",
        "class Erlang(Distribution):\n",
        "\t\"\"\"\n",
        "\tErlang distribution class for calculating erlang distribution\n",
        "\tErlang class inherits from distribution class of generalDistribution.py module\n",
        "\n",
        "\tNotation:\n",
        "\t\tX ∼ Erlang(k,μ)\n",
        "\n",
        "\tAttributes:\n",
        "\t\t1. k (shape parameter)\n",
        "\t\t2. mu (scale parameter)\n",
        "\n",
        "\tParameters:\n",
        "\t\tk ∈ {1,2,3,...}\n",
        "\t\tμ = 1/λ, λ ∈ (0,∞)\n",
        "\n",
        "\tSupport:\n",
        "\t\tx ∈ (0,∞)\n",
        "\t\"\"\"\t\n",
        "\tdef __init__(self,shapeParameter=1,scaleParameter=1):\n",
        "\t\t#Default value of k = 1\n",
        "\t\tself.k = shapeParameter\n",
        "\t\t#Default value of mu = 1\n",
        "\t\tself.mu = scaleParameter\n",
        "\n",
        "\t\tDistribution.__init__(self,self.calculate_mean(),self.calculate_stdev())\n",
        "\n",
        "\tdef calculate_mean(self):\n",
        "\t\t\"\"\"\n",
        "\t\tMethod to calculate the mean\n",
        "        \n",
        "\t\tArgs: \n",
        "\t\t\tnone\n",
        "        \n",
        "\t\tReturns: \n",
        "\t\t\tself.mean(float): Mean of the data set\n",
        "\n",
        "\t\tRaises:\n",
        "\t\t\tZeroDivisionError(string): Raised when division by zero\n",
        "\t\t\tValueError(string): Raised when value error occurs\n",
        "\t\t\"\"\"\n",
        "\t\ttry:\n",
        "\t\t\t#λ = 1/μ\n",
        "\t\t\tlamda = 1 / self.mu\n",
        "\n",
        "\t\t\t#Mean = k/λ\n",
        "\t\t\tself.mean = self.k / lamda\n",
        "\t\t\treturn self.mean\n",
        "\n",
        "\t\t#If division by zero occurs, raise an error\n",
        "\t\texcept ZeroDivisionError as error:\t\n",
        "\t\t\traise\n",
        "\n",
        "\t\t#If value error occurs, raise an error\n",
        "\t\texcept ValueError as error:\n",
        "\t\t\traise\n",
        "\n",
        "\tdef calculate_stdev(self):\n",
        "\t\t\"\"\"\n",
        "\t\tMethod to calculate the standard deviation\n",
        "        \n",
        "\t\tArgs: \n",
        "\t\t\tnone\n",
        "        \n",
        "\t\tReturns: \n",
        "\t\t\tself.stdev(float): Standard deviation of the data set\n",
        "\n",
        "\t\tRaises:\n",
        "\t\t\tZeroDivisionError(string): Raised when division by zero\n",
        "\t\t\tValueError(string): Raised when value error occurs\n",
        "\t\t\"\"\"\n",
        "\t\ttry:\n",
        "\t\t\t#λ = 1/μ\n",
        "\t\t\tlamda = 1 / self.mu\n",
        "\t\t\t#variance = k/λ^2\n",
        "\t\t\tvariance = self.k / (lamda ** 2)\n",
        "\n",
        "\t\t\t#standard deviation = sqrt(variance)\n",
        "\t\t\tself.stdev = math.sqrt(variance)\n",
        "\t\t\treturn self.stdev\n",
        "\n",
        "\t\t#If division by zero occurs, raise an error\n",
        "\t\texcept ZeroDivisionError as error:\t\n",
        "\t\t\traise\n",
        "\n",
        "\t\t#If value error occurs, raise an error\n",
        "\t\texcept ValueError as error:\n",
        "\t\t\traise\n",
        "\n",
        "\tdef pdf(self,x):\n",
        "\t\t\"\"\"\n",
        "\t\tMethod to calculate probability density function for erlang distribution\n",
        "        \n",
        "\t\tArgs:\n",
        "\t\t\tx(float): Random variable\n",
        "\n",
        "\t\tReturns:\n",
        "\t\t\tpdf(float): Probability density function for erlang distribution\n",
        "\n",
        "\t\tRaises:\n",
        "\t\t\tZeroDivisionError(string): Raised when division by zero\n",
        "\t\t\tValueError(string): Raised when value error occurs\n",
        "\t\t\"\"\"\n",
        "\t\ttry:\n",
        "\t\t\t#x raised to the power of (k-1)\n",
        "\t\t\tpowX = self.k - 1\n",
        "\t\t\t#e raised to the power of (-x/μ)\n",
        "\t\t\tpowE = -x / self.mu\n",
        "\t\t\tdenomDifference = self.k - 1\n",
        "\t\t\t\"\"\"\n",
        "\t\t\t\t    x^(k-1) e^(-x/μ)\n",
        "\t\t\tf(x;k,μ) = -------------------\n",
        "\t\t\t\t       μ^k (k-1)!\n",
        "\t\t\t\"\"\"\n",
        "\t\t\t#Numerator part of erlang's pdf\n",
        "\t\t\tpdfNumerator = (x ** powX) * math.exp(powE)\n",
        "\n",
        "\t\t\t#Denominator part of erlang's pdf\n",
        "\t\t\tpdfDenominator = (self.mu ** self.k) * math.factorial(denomDifference)\n",
        "\t\t\treturn pdfNumerator / pdfDenominator\n",
        "\n",
        "\t\t#If division by zero occurs, raise an error\n",
        "\t\texcept ZeroDivisionError as error:\t\n",
        "\t\t\traise\n",
        "\n",
        "\t\t#If value error occurs, raise an error\n",
        "\t\texcept ValueError as error:\n",
        "\t\t\traise\n",
        "\n",
        "\tdef __add__(self,other):\n",
        "\t\t\"\"\"\n",
        "\t\tMethod to add together two erlang distributions\n",
        "\n",
        "\t\tArgs:\n",
        "\t\t\tother(erlang distribution): Erlang instance\n",
        "\n",
        "\t\tReturns:\n",
        "\t\t\tresult(erlang distribution): Sum of erlang distribution\n",
        "\t\t\"\"\"\n",
        "\t\tresult = Erlang()\n",
        "\n",
        "\t\t#Calculate the shape parameter and scale parameter of the sum of two instances\n",
        "\t\tresult.k = self.k + other.k\n",
        "\t\tresult.mu = self.mu + other.mu\n",
        "\n",
        "\t\t#Calculate the mean of the two erlang instances\n",
        "\t\tresult.calculate_mean()\n",
        "\t\t#Calculate the standard deviations of the two erlang instances\n",
        "\t\tresult.calculate_stdev()\n",
        "\t\treturn result\n",
        "\n",
        "\tdef __repr__(self):\n",
        "\t\t\"\"\"\n",
        "\t\tMethod to output the characteristics of the erlang instance\n",
        "        \n",
        "\t\tArgs:\n",
        "\t\t\tnone\n",
        "        \n",
        "\t\tReturns:\n",
        "\t\t\toutput(string): Characteristics of the distribution\n",
        "\t\t\"\"\"\n",
        "\t\treturn \"Shape Parameter: {}, Scale Parameter: {}, Mean: {}, Standard Deviation: {}\".format(self.k,self.mu,self.mean,self.stdev)"
      ],
      "execution_count": 2,
      "outputs": []
    },
    {
      "cell_type": "code",
      "metadata": {
        "id": "xx1ESDygVutL"
      },
      "source": [
        "testErlang = Erlang(2,3)"
      ],
      "execution_count": 3,
      "outputs": []
    },
    {
      "cell_type": "code",
      "metadata": {
        "colab": {
          "base_uri": "https://localhost:8080/"
        },
        "id": "MDWwjpoaWAB8",
        "outputId": "be6d7600-941a-4f97-92ad-69b7e2675328"
      },
      "source": [
        "testErlang"
      ],
      "execution_count": 4,
      "outputs": [
        {
          "output_type": "execute_result",
          "data": {
            "text/plain": [
              "Shape Parameter: 2, Scale Parameter: 3, Mean: 6.0, Standard Deviation: 4.242640687119285"
            ]
          },
          "metadata": {
            "tags": []
          },
          "execution_count": 4
        }
      ]
    },
    {
      "cell_type": "code",
      "metadata": {
        "id": "3yflq2kUWBsK",
        "colab": {
          "base_uri": "https://localhost:8080/"
        },
        "outputId": "7ae10c72-1a67-43d5-930e-faca27ffaa4c"
      },
      "source": [
        "testErlang.pdf(3)"
      ],
      "execution_count": 5,
      "outputs": [
        {
          "output_type": "execute_result",
          "data": {
            "text/plain": [
              "0.12262648039048078"
            ]
          },
          "metadata": {
            "tags": []
          },
          "execution_count": 5
        }
      ]
    }
  ]
}