{
  "nbformat": 4,
  "nbformat_minor": 0,
  "metadata": {
    "colab": {
      "name": "rayleighDistribution",
      "provenance": [],
      "authorship_tag": "ABX9TyNQwLPFhlhsG/doUwZsCL0g"
    },
    "kernelspec": {
      "name": "python3",
      "display_name": "Python 3"
    },
    "language_info": {
      "name": "python"
    }
  },
  "cells": [
    {
      "cell_type": "code",
      "metadata": {
        "id": "L5kwul98yzAw"
      },
      "source": [
        "\"\"\"\n",
        "General Distribution\n",
        "(General parent class for to act as a base class)\n",
        "\"\"\"\n",
        "# Author: Ashwin Raj <rajashwin733@gmail.com>\n",
        "# License: GNU General Public License v3.0\n",
        "\n",
        "class Distribution:\n",
        "\t\"\"\"\n",
        "\tGeneric Distribution class for calculating probability distribution\n",
        "\tAttributes:\n",
        "\t\t1. mean\n",
        "\t\t2. stdev\n",
        "\t\t3. data\n",
        "\t\"\"\"\n",
        "\tdef __init__(self,mu=0,sigma=1):\n",
        "\t\t#Mean value of the distribution\n",
        "\t\tself.mean = mu\n",
        "\t\t#Sandard deviation of the distribution\n",
        "\t\tself.stdev = sigma\n",
        "\t\t#List of floats extracted from input file\n",
        "\t\tself.data = []\n",
        "\n",
        "\t\n",
        "\tdef read_data_file(self,file_name):\n",
        "\t\t\"\"\"\n",
        "\t\tMethod to read data from a txt file(file_name) and store in self.data.\n",
        "\t\tThe txt file should have one number (float) per line.\n",
        "\n",
        "\t\tArgs:\n",
        "\t\t\tName of the file to read data from.\n",
        "\n",
        "\t\tReturns:\n",
        "\t\t\tNo return value\n",
        "\t\t\"\"\"\n",
        "\t\twith open(file_name) as file:\n",
        "\t\t#file_name: name of the txt file to read data from\n",
        "\t\t\tdata_list = []\n",
        "\t\t\t#Returns one line from the file\n",
        "\t\t\tline = file.readline()\n",
        "\n",
        "\t\t\twhile line:\n",
        "\t\t\t\t#Add data to the list\n",
        "\t\t\t\tdata_list.append(int(line))\n",
        "\t\t\t\tline = file.readline()\n",
        "\n",
        "\t\t#Close the file\n",
        "\t\tfile.close()\n",
        "\t\t#store the data in the class attribute\n",
        "\t\tself.data = data_list"
      ],
      "execution_count": 1,
      "outputs": []
    },
    {
      "cell_type": "code",
      "metadata": {
        "id": "U00rGPapy822"
      },
      "source": [
        "\"\"\"\n",
        "Rayleigh Distribution\n",
        "(Special case of the Weibull distribution with scale parameter of 2)\n",
        "\"\"\"\n",
        "# Author: Ashwin Raj <rajashwin733@gmail.com>\n",
        "# License: GNU General Public License v3.0\n",
        "\n",
        "import math\n",
        "\n",
        "class Rayleigh(Distribution):\n",
        "\t\"\"\"\n",
        "\tRayleigh distribution class for calculating rayleigh distribution\n",
        "\tRayleigh class inherits from distribution class of generalDistribution.py module\n",
        "\n",
        "\tNotation:\n",
        "\t\tX ∼ Ray(σ)\n",
        "\n",
        "\tAttributes:\n",
        "\t\t1. scaleParameter\n",
        "\n",
        "\tParameters:\n",
        "\t\tscale: σ > 0\n",
        "\n",
        "\tSupport:\n",
        "\t\tx ∈ [0,∞)\n",
        "\t\"\"\"\n",
        "\tdef __init__(self,scaleParameter=1):\n",
        "\t\t#Default value of sigma = 1\n",
        "\t\tself.sigma = scaleParameter\n",
        "\n",
        "\t\tDistribution.__init__(self,self.calculate_mean(),self.calculate_stdev())\n",
        "\n",
        "\tdef calculate_mean(self):\n",
        "\t\t\"\"\"\n",
        "\t\tMethod to calculate the mean\n",
        "\t\t\n",
        "\t\tArgs:\n",
        "\t\t\tnone\n",
        "\n",
        "\t\tReturns:\n",
        "\t\t\tself.mean(float): Mean of the input dataset\n",
        "\t\t\"\"\"\n",
        "\t\tpart = math.pi / 2\n",
        "\t\t\"\"\"\n",
        "\t\t\t    π\n",
        "\t\tMean = σ √(---)\n",
        "\t\t\t    2\n",
        "\t\t\"\"\"\n",
        "\t\tself.mean = self.sigma * math.sqrt(part)\n",
        "\t\treturn self.mean\n",
        "\n",
        "\tdef calculate_stdev(self):\n",
        "\t\t\"\"\"\n",
        "\t\tMethod to calculate the standard deviation\n",
        "\t\t\n",
        "\t\tArgs:\n",
        "\t\t\tnone\n",
        "\n",
        "\t\tReturns:\n",
        "\t\t\tself.stdev(float): Standard deviation of the input dataset\n",
        "\n",
        "\t\tRaises:\n",
        "        \tValueError(string): Raised when value error occurs\n",
        "\t\t\"\"\"\n",
        "\t\ttry:\n",
        "\t\t\t\"\"\"\n",
        "\t\t\t\t    4 - π\n",
        "\t\t\tVariance = ------- σ^(2)\n",
        "\t\t\t\t      2\n",
        "\t\t\t\"\"\"\n",
        "\t\t\tvariance = ((4 - math.pi) / 2) * (self.sigma) ** 2\n",
        "\n",
        "\t\t\t#Standard deviation = sqrt(variance)\n",
        "\t\t\tself.stdev = math.sqrt(variance)\n",
        "\t\t\treturn self.stdev\n",
        "\n",
        "\t\t#If value error occurs, raise an error\n",
        "\t\texcept ValueError as error:\n",
        "\t\t\traise\n",
        "\n",
        "\tdef pdf(self,x):\n",
        "\t\t\"\"\"\n",
        "\t\tMethod to calculate probability density function for reciprocal distribution\n",
        "        \n",
        "\t\tArgs:\n",
        "\t\t\tx(float): Random variable\n",
        "\n",
        "\t\tReturns:\n",
        "\t\t\tpdf(float): Probability density function for reciprocal distribution\n",
        "\n",
        "\t\tRaises:\n",
        "\t\t\tZeroDivisionError(string): Raised when division by zero\n",
        "\t\t\tValueError(string): Raised when value error occurs\n",
        "\t\t\"\"\"\n",
        "\t\ttry:\n",
        "\t\t\tpowE = (-1.0 * (x ** 2)) / (2 * (self.sigma) ** 2)\n",
        "\n",
        "\t\t\t#Splitting the pdf expression into two parts for convenience\n",
        "\t\t\tpdfOperandOne = x / (self.sigma) ** 2\n",
        "\t\t\tpdfOperandTwo = math.exp(powE)\n",
        "\t\t\t\"\"\"\n",
        "\t\t\t\t    x\n",
        "\t\t\tf(x;σ) = ------ e^(-x^(2) / 2σ^(2)), x ≥ 0\n",
        "\t\t\t\t  σ^(2)\n",
        "\t\t\t\"\"\"\n",
        "\t\t\tpdf = pdfOperandOne * pdfOperandTwo\n",
        "\t\t\treturn pdf\n",
        "\n",
        "\t\t#If division by zero occurs, raise an error\n",
        "\t\texcept ZeroDivisionError as error:\t\n",
        "\t\t\traise\n",
        "\n",
        "\t\t#If value error occurs, raise an error\n",
        "\t\texcept ValueError as error:\n",
        "\t\t\traise\n",
        "\n",
        "\tdef __repr__(self):\n",
        "\t\t\"\"\"\n",
        "\t\tMethod to output the characteristics of the rayleigh instance\n",
        "        \n",
        "\t\tArgs:\n",
        "\t\t\tnone\n",
        "        \n",
        "\t\tReturns:\n",
        "\t\t\toutput(string): Characteristics of the distribution\n",
        "\t\t\"\"\"\n",
        "\t\treturn \"σ:{}, Mean:{}, Standard Deviation:{}\".format(self.sigma,self.mean,self.stdev)"
      ],
      "execution_count": 2,
      "outputs": []
    },
    {
      "cell_type": "code",
      "metadata": {
        "id": "dK7fIwA0zB6J"
      },
      "source": [
        "rayleighTest = Rayleigh(2)"
      ],
      "execution_count": 3,
      "outputs": []
    },
    {
      "cell_type": "code",
      "metadata": {
        "colab": {
          "base_uri": "https://localhost:8080/"
        },
        "id": "xgS58ji1FOLG",
        "outputId": "094f440c-fc90-45fb-b914-3dd1ecc10a7b"
      },
      "source": [
        "rayleighTest"
      ],
      "execution_count": 4,
      "outputs": [
        {
          "output_type": "execute_result",
          "data": {
            "text/plain": [
              "σ:2, Mean:2.5066282746310002, Standard Deviation:1.3102727551240672"
            ]
          },
          "metadata": {
            "tags": []
          },
          "execution_count": 4
        }
      ]
    },
    {
      "cell_type": "code",
      "metadata": {
        "colab": {
          "base_uri": "https://localhost:8080/"
        },
        "id": "ofBHeoGdFRAd",
        "outputId": "73f232a7-aef8-4d69-94bc-8ec569d21877"
      },
      "source": [
        "rayleighTest.pdf(3)"
      ],
      "execution_count": 5,
      "outputs": [
        {
          "output_type": "execute_result",
          "data": {
            "text/plain": [
              "0.2434893505187623"
            ]
          },
          "metadata": {
            "tags": []
          },
          "execution_count": 5
        }
      ]
    }
  ]
}