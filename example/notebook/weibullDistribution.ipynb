{
  "nbformat": 4,
  "nbformat_minor": 0,
  "metadata": {
    "colab": {
      "name": "weibullDistribution",
      "provenance": [],
      "collapsed_sections": [],
      "authorship_tag": "ABX9TyPNKIUN0MK91fD5cn13ZGrO"
    },
    "kernelspec": {
      "name": "python3",
      "display_name": "Python 3"
    },
    "language_info": {
      "name": "python"
    }
  },
  "cells": [
    {
      "cell_type": "code",
      "metadata": {
        "id": "MogbgnwMWhOM"
      },
      "source": [
        "\"\"\"\n",
        "General Distribution\n",
        "(General parent class for to act as a base class)\n",
        "\"\"\"\n",
        "# Author: Ashwin Raj <rajashwin733@gmail.com>\n",
        "# License: GNU General Public License v3.0\n",
        "\n",
        "class Distribution:\n",
        "\t\"\"\"\n",
        "\tGeneric Distribution class for calculating probability distribution\n",
        "\tAttributes:\n",
        "\t\t1. mean\n",
        "\t\t2. stdev\n",
        "\t\t3. data\n",
        "\t\"\"\"\n",
        "\tdef __init__(self,mu=0,sigma=1):\n",
        "\t\t#Mean value of the distribution\n",
        "\t\tself.mean = mu\n",
        "\t\t#Sandard deviation of the distribution\n",
        "\t\tself.stdev = sigma\n",
        "\t\t#List of floats extracted from input file\n",
        "\t\tself.data = []\n",
        "\n",
        "\t\n",
        "\tdef read_data_file(self,file_name):\n",
        "\t\t\"\"\"\n",
        "\t\tMethod to read data from a txt file(file_name) and store in self.data.\n",
        "\t\tThe txt file should have one number (float) per line.\n",
        "\n",
        "\t\tArgs:\n",
        "\t\t\tName of the file to read data from.\n",
        "\n",
        "\t\tReturns:\n",
        "\t\t\tNo return value\n",
        "\t\t\"\"\"\n",
        "\t\twith open(file_name) as file:\n",
        "\t\t#file_name: name of the txt file to read data from\n",
        "\t\t\tdata_list = []\n",
        "\t\t\t#Returns one line from the file\n",
        "\t\t\tline = file.readline()\n",
        "\n",
        "\t\t\twhile line:\n",
        "\t\t\t\t#Add data to the list\n",
        "\t\t\t\tdata_list.append(int(line))\n",
        "\t\t\t\tline = file.readline()\n",
        "\n",
        "\t\t#Close the file\n",
        "\t\tfile.close()\n",
        "\t\t#store the data in the class attribute\n",
        "\t\tself.data = data_list"
      ],
      "execution_count": 1,
      "outputs": []
    },
    {
      "cell_type": "code",
      "metadata": {
        "id": "fMaHaBs5jhHg"
      },
      "source": [
        "\"\"\"\n",
        "Weibull Distribution\n",
        "(Also known as Normal Distribution)\n",
        "\"\"\"\n",
        "# Author: Ashwin Raj <rajashwin733@gmail.com>\n",
        "# License: GNU General Public License v3.0\n",
        "\n",
        "import math\n",
        "\n",
        "class Weibull(Distribution):\n",
        "\t\"\"\"\n",
        "\tWeibull distribution class for calculating weibull distribution\n",
        "\tWeibull class inherits from distribution class of generalDistribution.py module\n",
        "\n",
        "\tNotation:\n",
        "\t\tX ∼ Weibull(λ,k)\n",
        "\n",
        "\tAttributes:\n",
        "\t\t1. λ (scale parameter)\n",
        "\t\t2. k (shape parameter)\n",
        "\n",
        "\tParameters:\n",
        "\t\tλ ∈ (0,+∞)\n",
        "\t\tk ∈ (0,+∞)\n",
        "\n",
        "\tSupport:\n",
        "\t\tx ∈ (0,+∞)\n",
        "\t\"\"\"\t\n",
        "\tdef __init__(self,scaleParameter=1,shapeParameter=1):\n",
        "\t\t#Default vale of lamda = 1\n",
        "\t\tself.lamda = scaleParameter\n",
        "\t\t#Default value of k = 1\n",
        "\t\tself.k = shapeParameter\n",
        "\n",
        "\t\tDistribution.__init__(self,self.calculate_mean(),self.calculate_stdev())\n",
        "\n",
        "\tdef calculate_mean(self):\n",
        "\t\t\"\"\"\n",
        "\t\tMethod to calculate the mean\n",
        "        \n",
        "\t\tArgs: \n",
        "\t\t\tnone\n",
        "        \n",
        "\t\tReturns: \n",
        "\t\t\tself.mean(float): Mean of the data set\n",
        "\n",
        "\t\tRaises:\n",
        "\t\t\tZeroDivisionError(string): Raised when division by zero\n",
        "\t\t\tValueError(string): Raised when value error occurs\n",
        "\t\t\"\"\"\n",
        "\t\ttry:\n",
        "\t\t\tgammaMean = 1 + (1 / self.k)\n",
        "\t\t\t\"\"\"\n",
        "\t\t\t\t\t1\n",
        "\t\t\tMean = λ Γ(1 + ---)\n",
        "\t\t\t\t\tk\n",
        "\t\t\t\"\"\"\n",
        "\t\t\tself.mean = self.lamda * math.gamma(gammaMean)\n",
        "\t\t\treturn self.mean\n",
        "\n",
        "\t\t#If value error occurs, raise an error\n",
        "\t\texcept ZeroDivisionError as error:\t\n",
        "\t\t\traise\n",
        "\n",
        "\t\t#If value error occurs, raise an error\n",
        "\t\texcept ValueError as error:\n",
        "\t\t\traise\n",
        "\n",
        "\tdef calculate_stdev(self):\n",
        "\t\t\"\"\"\n",
        "\t\tMethod to calculate the standard deviation\n",
        "        \n",
        "\t\tArgs: \n",
        "\t\t\tnone\n",
        "        \n",
        "\t\tReturns: \n",
        "\t\t\tself.stdev(float): Standard deviation of the data set\n",
        "\n",
        "\t\tRaises:\n",
        "\t\t\tZeroDivisionError(string): Raised when division by zero\n",
        "\t\t\tValueError(string): Raised when value error occurs\n",
        "\t\t\"\"\"\n",
        "\t\ttry:\n",
        "\t\t\tgammaVar1 = 1 + (2 / self.k)\n",
        "\t\t\tgammaVar2 = 1 + (1 / self.k)\n",
        "\t\t\t\"\"\"\n",
        "\t\t\t\t\t\t 2\t       1\n",
        "\t\t\tVariance = λ^(2) [Γ(1 + ---) - (Γ(1 + ---))^(2)]\n",
        "\t\t\t\t\t\t k\t       k\n",
        "\t\t\t\"\"\"\n",
        "\t\t\tvariance = (self.lamda ** 2) * (math.gamma(gammaVar1) - (math.gamma(gammaVar2)) ** 2)\n",
        "\n",
        "\t\t\t#Standard deviation = sqrt(variance)\n",
        "\t\t\tself.stdev = math.sqrt(variance)\n",
        "\t\t\treturn self.stdev\n",
        "\n",
        "\t\t#If value error occurs, raise an error\n",
        "\t\texcept ZeroDivisionError as error:\t\n",
        "\t\t\traise\n",
        "\n",
        "\t\t#If value error occurs, raise an error\n",
        "\t\texcept ValueError as error:\n",
        "\t\t\traise\n",
        "\n",
        "\tdef pdf(self,x):\n",
        "\t\t\"\"\"\n",
        "\t\tMethod to calculate probability density function for weibull distribution\n",
        "\n",
        "\t\tArgs:\n",
        "\t\t\tx(float): Random variable\n",
        "\n",
        "\t\tReturns:\n",
        "\t\t\tpdf(float): Probability density function for weibull distribution\n",
        "\n",
        "\t\tRaises:\n",
        "\t\t\tZeroDivisionError(string): Raised when division by zero\n",
        "\t\t\tValueError(string): Raised when value error occurs\n",
        "\t\t\"\"\"\n",
        "\t\ttry:\n",
        "\t\t\tif (x >= 0):\n",
        "\t\t\t\tpowE = -1 * ((x / self.lamda) ** self.k)\n",
        "\t\t\t\t\"\"\"\n",
        "\t\t\t\t\t    k\t  x \t\t-(x/λ)^(k)\n",
        "\t\t\t\tf(x;λ,k) = --- ((---)^(k - 1)) e, for x ≥  0\n",
        "\t\t\t\t\t    λ\t  λ\n",
        "\t\t\t\t\"\"\"\n",
        "\t\t\t\tpdf = (self.k / self.lamda) * ((x / self.lamda) ** (self.k - 1)) * math.exp(powE)\n",
        "\n",
        "\t\t\telse:\n",
        "\t\t\t\t\"\"\"\n",
        "\t\t\t\tf(x;λ,k) = 0, for x < 0\n",
        "\t\t\t\t\"\"\"\n",
        "\t\t\t\tpdf = 0\n",
        "\n",
        "\t\t\treturn pdf\n",
        "\n",
        "\t\t#If value error occurs, raise an error\n",
        "\t\texcept ZeroDivisionError as error:\t\n",
        "\t\t\traise\n",
        "\n",
        "\t\t#If value error occurs, raise an error\n",
        "\t\texcept ValueError as error:\n",
        "\t\t\traise\n",
        "\n",
        "\tdef __repr__(self):\n",
        "\t\t\"\"\"\n",
        "\t\tMethod to output the characteristics of the weibull instance\n",
        "        \n",
        "\t\tArgs:\n",
        "\t\t\tnone\n",
        "        \n",
        "\t\tReturns:\n",
        "\t\t\toutput(string): Characteristics of the distribution\n",
        "\t\t\"\"\"\n",
        "\t\treturn \"Scale Parameter:{}, Shape Parameter:{}, Mean:{}, Standard Deviation:{}\".format(self.lamda,self.k,self.mean,self.stdev)"
      ],
      "execution_count": 2,
      "outputs": []
    },
    {
      "cell_type": "code",
      "metadata": {
        "id": "hhnbP-xYkPBp"
      },
      "source": [
        "testWeibull = Weibull(1,2)"
      ],
      "execution_count": 3,
      "outputs": []
    },
    {
      "cell_type": "code",
      "metadata": {
        "colab": {
          "base_uri": "https://localhost:8080/"
        },
        "id": "zm-JoMsIkWBn",
        "outputId": "25069302-1ef6-48e5-fe9d-16f773b9ea87"
      },
      "source": [
        "testWeibull"
      ],
      "execution_count": 4,
      "outputs": [
        {
          "output_type": "execute_result",
          "data": {
            "text/plain": [
              "Scale Parameter:1, Shape Parameter:2, Mean:0.886226925452758, Standard Deviation:0.46325137517610415"
            ]
          },
          "metadata": {
            "tags": []
          },
          "execution_count": 4
        }
      ]
    },
    {
      "cell_type": "code",
      "metadata": {
        "colab": {
          "base_uri": "https://localhost:8080/"
        },
        "id": "_AS6sGeTkc8t",
        "outputId": "7eb1b0dc-9065-495f-c33b-132bb0137a5a"
      },
      "source": [
        "testWeibull.pdf(3)"
      ],
      "execution_count": 5,
      "outputs": [
        {
          "output_type": "execute_result",
          "data": {
            "text/plain": [
              "0.0007404588245200774"
            ]
          },
          "metadata": {
            "tags": []
          },
          "execution_count": 5
        }
      ]
    }
  ]
}