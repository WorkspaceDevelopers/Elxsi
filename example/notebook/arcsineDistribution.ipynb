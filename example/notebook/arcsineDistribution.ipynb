{
  "nbformat": 4,
  "nbformat_minor": 0,
  "metadata": {
    "colab": {
      "name": "arcsineDistribution",
      "provenance": [],
      "authorship_tag": "ABX9TyOjYVRHbQ+kKj0pYV/RzaBX"
    },
    "kernelspec": {
      "name": "python3",
      "display_name": "Python 3"
    },
    "language_info": {
      "name": "python"
    }
  },
  "cells": [
    {
      "cell_type": "code",
      "metadata": {
        "id": "m4umgZX-hpS3"
      },
      "source": [
        "\"\"\"\n",
        "General Distribution\n",
        "(General parent class for to act as a base class)\n",
        "\"\"\"\n",
        "# Author: Ashwin Raj <rajashwin733@gmail.com>\n",
        "# License: GNU General Public License v3.0\n",
        "\n",
        "class Distribution:\n",
        "\t\"\"\"\n",
        "\tGeneric Distribution class for calculating probability distribution\n",
        "\tAttributes:\n",
        "\t\t1. mean\n",
        "\t\t2. stdev\n",
        "\t\t3. data\n",
        "\t\"\"\"\n",
        "\tdef __init__(self,mu=0,sigma=1):\n",
        "\t\t#Mean value of the distribution\n",
        "\t\tself.mean = mu\n",
        "\t\t#Sandard deviation of the distribution\n",
        "\t\tself.stdev = sigma\n",
        "\t\t#List of floats extracted from input file\n",
        "\t\tself.data = []\n",
        "\n",
        "\t\n",
        "\tdef read_data_file(self,file_name):\n",
        "\t\t\"\"\"\n",
        "\t\tMethod to read data from a txt file(file_name) and store in self.data.\n",
        "\t\tThe txt file should have one number (float) per line.\n",
        "\n",
        "\t\tArgs:\n",
        "\t\t\tName of the file to read data from.\n",
        "\n",
        "\t\tReturns:\n",
        "\t\t\tNo return value\n",
        "\t\t\"\"\"\n",
        "\t\twith open(file_name) as file:\n",
        "\t\t#file_name: name of the txt file to read data from\n",
        "\t\t\tdata_list = []\n",
        "\t\t\t#Returns one line from the file\n",
        "\t\t\tline = file.readline()\n",
        "\n",
        "\t\t\twhile line:\n",
        "\t\t\t\t#Add data to the list\n",
        "\t\t\t\tdata_list.append(int(line))\n",
        "\t\t\t\tline = file.readline()\n",
        "\n",
        "\t\t#Close the file\n",
        "\t\tfile.close()\n",
        "\t\t#store the data in the class attribute\n",
        "\t\tself.data = data_list"
      ],
      "execution_count": 1,
      "outputs": []
    },
    {
      "cell_type": "code",
      "metadata": {
        "id": "IsG_08ORirv1"
      },
      "source": [
        "\"\"\"\n",
        "Arcsine Distribution\n",
        "Arbitrary Bounded Support\n",
        "\"\"\"\n",
        "# Author: Ashwin Raj <rajashwin733@gmail.com>\n",
        "# License: GNU General Public License v3.0\n",
        "\n",
        "import math\n",
        "\n",
        "class Arcsine(Distribution):\n",
        "\t\"\"\"\n",
        "\tArcsine distribution class for calculating arcsine distribution\n",
        "\tArcsine class inherits from distribution class of generalDistribution.py module\n",
        "\n",
        "\tNotation:\n",
        "\t\tX ~ Arcsin()\n",
        "\n",
        "\tAttributes:\n",
        "\t\tnone\n",
        "\n",
        "\tParameters:\n",
        "\t\tnone\n",
        "\n",
        "\tSupport:\n",
        "\t\tx ∈ [0,1]\n",
        "\t\"\"\"\n",
        "\tdef __init__(self):\n",
        "\t\t#No attributes\n",
        "\t\tDistribution.__init__(self,self.calculate_mean(),self.calculate_stdev())\n",
        "\n",
        "\tdef calculate_mean(self):\n",
        "\t\t\"\"\"\n",
        "\t\tMethod to calculate the mean\n",
        "        \n",
        "\t\tArgs: \n",
        "\t\t\tnone\n",
        "        \n",
        "\t\tReturns: \n",
        "\t\t\tself.mean(float): Mean of the data set\n",
        "\t\t\"\"\"\n",
        "\t\tself.mean = 1 / 2\n",
        "\t\treturn self.mean\n",
        "\n",
        "\tdef calculate_stdev(self):\n",
        "\t\t\"\"\"\n",
        "\t\tMethod to calculate the standard deviation\n",
        "        \n",
        "\t\tArgs: \n",
        "\t\t\tnone\n",
        "        \n",
        "\t\tReturns: \n",
        "\t\t\tself.stdev(float): Standard deviation of the data set\n",
        "\t\t\"\"\"\n",
        "\t\t#Variance = 1/8\n",
        "\t\tself.stdev = math.sqrt(1 / 8)\n",
        "\t\treturn self.stdev\n",
        "\n",
        "\tdef pdf(self,x):\n",
        "\t\t\"\"\"\n",
        "\t\tMethod to calculate probability density function for arcsine distribution\n",
        "        \n",
        "\t\tArgs:\n",
        "\t\t\tx(float): Random variable\n",
        "\n",
        "\t\tReturns:\n",
        "\t\t\tpdf(float): Probability density function for arcsine distribution\n",
        "\n",
        "\t\tRaises:\n",
        "\t\t\tZeroDivisionError(string): Raised when division by zero\n",
        "\t\t\tValueError(string): Raised when negative number passed for square root\n",
        "\t\t\"\"\"\n",
        "\t\ttry:\n",
        "\t\t\tpart = math.sqrt(x * (1 - x))\n",
        "\t\t\t\"\"\"\n",
        "\t\t\t\t     1\n",
        "\t\t\tf(x) = -------------\n",
        "\t\t\t\tπ √(x(1-x))\n",
        "\t\t\t\"\"\"\n",
        "\t\t\treturn 1 / (math.pi * part)\n",
        "\n",
        "\t\t#If divided by zero, raise an error\n",
        "\t\texcept ZeroDivisionError as error:\n",
        "\t\t\traise\n",
        "\n",
        "\t\t#If negative number passed for square root, raise an error\n",
        "\t\texcept ValueError as error:\n",
        "\t\t\traise\n",
        "\n",
        "\tdef __repr__(self):\n",
        "\t\t\"\"\"\n",
        "\t\tMethod to output the characteristics of the arcsine instance\n",
        "        \n",
        "\t\tArgs:\n",
        "\t\t\tnone\n",
        "        \n",
        "\t\tReturns:\n",
        "\t\t\toutput(string): Characteristics of the distribution\n",
        "\t\t\"\"\"\n",
        "\t\treturn \"mean: {}, standard deviation: {}\".format(self.mean,self.stdev)\n",
        "\n",
        "class BoundedArcsine(Distribution):\n",
        "\t\"\"\"\n",
        "\tArcsine distribution class for calculating arcsine distribution\n",
        "\tArcsine class inherits from distribution class of generalDistribution.py module\n",
        "\n",
        "\tNotation:\n",
        "\t\tX ~ Arcsin(a,b)\n",
        "\n",
        "\tAttributes:\n",
        "\t\t1. abcissa (x-coordinate of the bounded region)\n",
        "\t\t2. ordinate (y-coordinate of the bounded region)\n",
        "\n",
        "\tParameters:\n",
        "\t\t-∞ < a < b < ∞\n",
        "\n",
        "\tSupport:\n",
        "\t\tx ∈ [a,b]\n",
        "\t\"\"\"\n",
        "\tdef __init__(self,abcissa=0,ordinate=1):\n",
        "\t\t#Default value of a = 0\n",
        "\t\tself.a = abcissa\n",
        "\t\t#Default value of b = 1\n",
        "\t\tself.b = ordinate\n",
        "\n",
        "\t\tDistribution.__init__(self,self.calculate_mean(),self.calculate_stdev())\n",
        "\n",
        "\tdef calculate_mean(self):\n",
        "\t\t\"\"\"\n",
        "\t\tMethod to calculate the mean\n",
        "        \n",
        "\t\tArgs: \n",
        "\t\t\tnone\n",
        "        \n",
        "\t\tReturns: \n",
        "\t\t\tself.mean(float): Mean of the data set\n",
        "\t\t\"\"\"\n",
        "\t\tself.mean = (self.a + self.b) / 2\n",
        "\t\treturn self.mean\n",
        "\n",
        "\tdef calculate_stdev(self):\n",
        "\t\t\"\"\"\n",
        "\t\tMethod to calculate the standard deviation\n",
        "\n",
        "\t\tArgs: \n",
        "\t\t\tnone\n",
        "        \n",
        "\t\tReturns: \n",
        "\t\t\tself.stdev(float): Standard deviation of the data set\n",
        "\t\t\"\"\"\n",
        "\t\tvariance = ((self.b - self.a) ** 2) / 8\n",
        "\t\t\"\"\"\n",
        "        \t\t(b-a)^(2)\n",
        "\t\tMean = -----------\n",
        "        \t\t    2\n",
        "\t\t\"\"\"\n",
        "\t\t#Standard deviation = sqrt(variance)\n",
        "\t\tself.stdev = math.sqrt(variance)\n",
        "\t\treturn self.stdev\n",
        "\n",
        "\tdef pdf(self,x):\n",
        "\t\t\"\"\"\n",
        "\t\tMethod to calculate probability density function for arcsine distribution\n",
        "        \n",
        "\t\tArgs:\n",
        "\t\t\tx(float): Random variable\n",
        "\n",
        "\t\tReturns:\n",
        "\t\t\tpdf(float): Probability density function for arcsine distribution\n",
        "\n",
        "\t\tRaises:\n",
        "\t\t\tZeroDivisionError(string): Raised when division by zero\n",
        "\t\t\tValueError(string): Raised when negative number passed for square root\n",
        "\t\t\"\"\"\n",
        "\t\ttry:\n",
        "\t\t\tpart = math.sqrt((x - self.a) * (self.b - x))\n",
        "\t\t\t\"\"\"\n",
        "\t\t\t\t\t  1\n",
        "\t\t\tf(x;a,b) = ---------------, a ≤ x ≤ b\n",
        "\t\t\t\t    π √(x-a)(b-x)\n",
        "\t\t\t\"\"\"\n",
        "\t\t\treturn 1 / (math.pi * part)\n",
        "\n",
        "\t\t#If divided by zero, raise an error\n",
        "\t\texcept ZeroDivisionError as error:\n",
        "\t\t\traise\n",
        "\n",
        "\t\t#If negative number passed for square root, raise an error\n",
        "\t\texcept ValueError as error:\n",
        "\t\t\traise\n",
        "\n",
        "\tdef __repr__(self):\n",
        "\t\t\"\"\"\n",
        "\t\tMethod to output the characteristics of the exponential instance\n",
        "        \n",
        "\t\tArgs:\n",
        "\t\t\tnone\n",
        "        \n",
        "\t\tReturns:\n",
        "\t\t\toutput(string): Characteristics of the distribution\n",
        "\t\t\"\"\"\n",
        "\t\treturn \"a:{}, b:{}, Mean:{}, Standard Deviation:{}\".format(self.a,self.b,self.mean,self.stdev)"
      ],
      "execution_count": 2,
      "outputs": []
    },
    {
      "cell_type": "code",
      "metadata": {
        "id": "wMJUJwGHlQmN"
      },
      "source": [
        "arcsineTest = Arcsine()"
      ],
      "execution_count": 3,
      "outputs": []
    },
    {
      "cell_type": "code",
      "metadata": {
        "colab": {
          "base_uri": "https://localhost:8080/"
        },
        "id": "z3syTyvblmba",
        "outputId": "ada46556-fc53-444e-9fb6-cd1ac6a47620"
      },
      "source": [
        "arcsineTest"
      ],
      "execution_count": 4,
      "outputs": [
        {
          "output_type": "execute_result",
          "data": {
            "text/plain": [
              "mean: 0.5, standard deviation: 0.3535533905932738"
            ]
          },
          "metadata": {
            "tags": []
          },
          "execution_count": 4
        }
      ]
    },
    {
      "cell_type": "code",
      "metadata": {
        "colab": {
          "base_uri": "https://localhost:8080/"
        },
        "id": "Y429qbKVlqNL",
        "outputId": "0a58e5bc-23af-406f-b36d-5d53f3c799e7"
      },
      "source": [
        "arcsineTest.pdf(0.3)"
      ],
      "execution_count": 5,
      "outputs": [
        {
          "output_type": "execute_result",
          "data": {
            "text/plain": [
              "0.6946091180428567"
            ]
          },
          "metadata": {
            "tags": []
          },
          "execution_count": 5
        }
      ]
    },
    {
      "cell_type": "code",
      "metadata": {
        "id": "WpPLZCAglygC"
      },
      "source": [
        "boundedArcsineTest = BoundedArcsine(1,3)"
      ],
      "execution_count": 6,
      "outputs": []
    },
    {
      "cell_type": "code",
      "metadata": {
        "colab": {
          "base_uri": "https://localhost:8080/"
        },
        "id": "E1fABJuAl6Mo",
        "outputId": "754183e9-8434-4b51-a447-8b8d96edaf0c"
      },
      "source": [
        "boundedArcsineTest"
      ],
      "execution_count": 7,
      "outputs": [
        {
          "output_type": "execute_result",
          "data": {
            "text/plain": [
              "a:1, b:3, Mean:2.0, Standard Deviation:0.7071067811865476"
            ]
          },
          "metadata": {
            "tags": []
          },
          "execution_count": 7
        }
      ]
    },
    {
      "cell_type": "code",
      "metadata": {
        "colab": {
          "base_uri": "https://localhost:8080/"
        },
        "id": "HSwVSINll95a",
        "outputId": "1350d869-84e7-4eed-8968-be470698c4a9"
      },
      "source": [
        "boundedArcsineTest.pdf(2)"
      ],
      "execution_count": 8,
      "outputs": [
        {
          "output_type": "execute_result",
          "data": {
            "text/plain": [
              "0.3183098861837907"
            ]
          },
          "metadata": {
            "tags": []
          },
          "execution_count": 8
        }
      ]
    }
  ]
}