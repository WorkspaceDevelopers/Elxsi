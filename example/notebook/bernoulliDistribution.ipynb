{
  "nbformat": 4,
  "nbformat_minor": 0,
  "metadata": {
    "colab": {
      "name": "bernoulliDistribution",
      "provenance": [],
      "authorship_tag": "ABX9TyMAoUpoqO3gR5EPp9YS/UJA"
    },
    "kernelspec": {
      "name": "python3",
      "display_name": "Python 3"
    },
    "language_info": {
      "name": "python"
    }
  },
  "cells": [
    {
      "cell_type": "code",
      "metadata": {
        "id": "rEvRMeDqAtQk"
      },
      "source": [
        "\"\"\"\n",
        "General Distribution\n",
        "(General parent class for to act as a base class)\n",
        "\"\"\"\n",
        "# Author: Ashwin Raj <rajashwin733@gmail.com>\n",
        "# License: GNU General Public License v3.0\n",
        "\n",
        "class Distribution:\n",
        "\t\"\"\"\n",
        "\tGeneric Distribution class for calculating probability distribution\n",
        "\tAttributes:\n",
        "\t\t1. mean\n",
        "\t\t2. stdev\n",
        "\t\t3. data\n",
        "\t\"\"\"\n",
        "\tdef __init__(self,mu=0,sigma=1):\n",
        "\t\t#Mean value of the distribution\n",
        "\t\tself.mean = mu\n",
        "\t\t#Sandard deviation of the distribution\n",
        "\t\tself.stdev = sigma\n",
        "\t\t#List of floats extracted from input file\n",
        "\t\tself.data = []\n",
        "\n",
        "\t\n",
        "\tdef read_data_file(self,file_name):\n",
        "\t\t\"\"\"\n",
        "\t\tMethod to read data from a txt file(file_name) and store in self.data.\n",
        "\t\tThe txt file should have one number (float) per line.\n",
        "\n",
        "\t\tArgs:\n",
        "\t\t\tName of the file to read data from.\n",
        "\n",
        "\t\tReturns:\n",
        "\t\t\tNo return value\n",
        "\t\t\"\"\"\n",
        "\t\twith open(file_name) as file:\n",
        "\t\t#file_name: name of the txt file to read data from\n",
        "\t\t\tdata_list = []\n",
        "\t\t\t#Returns one line from the file\n",
        "\t\t\tline = file.readline()\n",
        "\n",
        "\t\t\twhile line:\n",
        "\t\t\t\t#Add data to the list\n",
        "\t\t\t\tdata_list.append(int(line))\n",
        "\t\t\t\tline = file.readline()\n",
        "\n",
        "\t\t#Close the file\n",
        "\t\tfile.close()\n",
        "\t\t#store the data in the class attribute\n",
        "\t\tself.data = data_list"
      ],
      "execution_count": 1,
      "outputs": []
    },
    {
      "cell_type": "code",
      "metadata": {
        "id": "BF9gkYP2A0PQ"
      },
      "source": [
        "\"\"\"\n",
        "Bernoulli Distribution\n",
        "\"\"\"\n",
        "# Author: Ashwin Raj <rajashwin733@gmail.com>\n",
        "# License: GNU General Public License v3.0\n",
        "\n",
        "import math\n",
        "\n",
        "class Bernoulli(Distribution):\n",
        "\t\"\"\"\n",
        "\tBernoulli distribution class for calculating bernoulli distribution\n",
        "\tBernoulli class inherits from distribution class of generalDistribution.py module\n",
        "\n",
        "\tNotation:\n",
        "\t\tX ~ Ber(p)\n",
        "\n",
        "\tAttributes:\n",
        "\t\t1. p(probability of success on a single trial)\n",
        "\n",
        "\tParameters:\n",
        "\t\t0 ≤ p ≤ 1\n",
        "\t\tq = 1 - p\n",
        "\n",
        "\tSupport:\n",
        "\t\tk ∈ {0,1}\n",
        "\t\"\"\"\n",
        "\tdef __init__(self,prob=0.5):\n",
        "\t\t#Default value of p = 0.5\n",
        "\t\tself.p = prob\n",
        "\n",
        "\t\tDistribution.__init__(self,self.calculate_mean(),self.calculate_stdev())\n",
        "\n",
        "\tdef calculate_mean(self):\n",
        "\t\t\"\"\"\n",
        "\t\tMethod to calculate the mean\n",
        "        \n",
        "\t\tArgs:\n",
        "\t\t\tnone\n",
        "        \n",
        "\t\tReturns: \n",
        "\t\t\tself.mean(float): Mean of the data set\n",
        "\t\t\"\"\"\n",
        "\t\tself.mean = self.p\n",
        "\t\treturn self.mean\n",
        "\n",
        "\tdef calculate_stdev(self):\n",
        "\t\t\"\"\"\n",
        "\t\tMethod to calculate the standard deviation\n",
        "        \n",
        "\t\tArgs: \n",
        "\t\t\tnone\n",
        "        \n",
        "\t\tReturns: \n",
        "\t\t\tself.stdev(float): Standard deviation of the data set\n",
        "\t\t\"\"\"\n",
        "        \t#q = 1-p\n",
        "\t\tvariance = self.p * (1 - self.p)\n",
        "\t\t\n",
        "\t\t#Standard deviation = sqrt(variance)\n",
        "\t\tself.stdev = math.sqrt(variance)\n",
        "\t\treturn self.stdev\n",
        "\n",
        "\tdef replace_stats_with_data(self):\n",
        "\t\t\"\"\"\n",
        "\t\tMethod to calculate p from the data set\n",
        "        \n",
        "\t\tArgs: \n",
        "\t\t\tnone\n",
        "        \n",
        "\t\tReturns: \n",
        "\t\t\tself.p(float): Value of p\n",
        "\t\t\"\"\"\n",
        "\t\tself.n = len(self.data) \n",
        "\t\tself.p = 1.0 * sum(self.data) / self.n\n",
        "\n",
        "\t\t#Calculate mean and standard deviation\n",
        "\t\tself.mean = self.calculate_mean()\n",
        "\t\tself.stdev = self.calculate_stdev()\n",
        "\t\treturn self.p\n",
        "\n",
        "\tdef pdf(self,x):\n",
        "\t\t\"\"\"\n",
        "\t\tMethod to calculate probability density function for bernoulli distribution\n",
        "        \n",
        "\t\tArgs:\n",
        "\t\t\tk(float): Number of times for a specific outcome within n trials\n",
        "\n",
        "\t\tReturns:\n",
        "\t\t\tpdf(float): Probability density function for bernoulli distribution\n",
        "\t\t\"\"\"\n",
        "\t\tpdf = ((self.p ** x) * ((1 - self.p) ** x))\n",
        "\t\t\"\"\"\n",
        "\t\tf(x;p) = p^(k) (1-p)^(1-k)\n",
        "\t\t\"\"\"\n",
        "\t\treturn pdf\n",
        "\n",
        "\tdef __add__(self,other):\n",
        "\t\t\"\"\"\n",
        "\t\tMethod to add together two bernoulli distributions with equal p\n",
        "        \n",
        "\t\tArgs:\n",
        "\t\t\tother(bernoulli distribution): Bernoulli instance\n",
        "            \n",
        "\t\tReturns:\n",
        "\t\t\tresult(bernoulli distribution): Sum of bernoulli distribution\n",
        "\t\t\"\"\"\n",
        "\t\tresult = Bernoulli()\n",
        "\n",
        "\t\t#Calculate sum of the success probability of the two bernoulli instances\n",
        "\t\tresult.p = self.p + other.p\n",
        "\t\t#Calculate the mean of the two bernoulli instances\t\n",
        "\t\tresult.calculate_mean()\n",
        "\t\t#Calculate the standard deviations of the two bernoulli instances\n",
        "\t\tresult.calculate_stdev()\n",
        "\t\treturn result\n",
        "\n",
        "\tdef __repr__(self):\n",
        "\t\t\"\"\"\n",
        "\t\tMethod to output the characteristics of the bernoulli instance\n",
        "        \n",
        "\t\tArgs:\n",
        "\t\t\tnone\n",
        "        \n",
        "\t\tReturns:\n",
        "\t\t\toutput(string): Characteristics of the distribution\n",
        "\t\t\"\"\"\n",
        "\t\treturn \" p: {}, mean: {}, standard deviation: {}\".format(self.p,self.mean,self.stdev)"
      ],
      "execution_count": 2,
      "outputs": []
    },
    {
      "cell_type": "code",
      "metadata": {
        "id": "Ee7CxTupH4SP"
      },
      "source": [
        "testBernoulli = Bernoulli(0.6)"
      ],
      "execution_count": 3,
      "outputs": []
    },
    {
      "cell_type": "code",
      "metadata": {
        "colab": {
          "base_uri": "https://localhost:8080/"
        },
        "id": "-SwPjh2aIUTE",
        "outputId": "56a8c1a2-6372-42a3-a8e8-56a3da54ec7b"
      },
      "source": [
        "testBernoulli"
      ],
      "execution_count": 4,
      "outputs": [
        {
          "output_type": "execute_result",
          "data": {
            "text/plain": [
              " p: 0.6, mean: 0.6, standard deviation: 0.4898979485566356"
            ]
          },
          "metadata": {
            "tags": []
          },
          "execution_count": 4
        }
      ]
    },
    {
      "cell_type": "code",
      "metadata": {
        "colab": {
          "base_uri": "https://localhost:8080/"
        },
        "id": "6pQDcLKlInzl",
        "outputId": "7a4f4724-4159-4b3a-b7c0-63eca57ef0cb"
      },
      "source": [
        "testBernoulli.pdf(3)"
      ],
      "execution_count": 5,
      "outputs": [
        {
          "output_type": "execute_result",
          "data": {
            "text/plain": [
              "0.013824000000000001"
            ]
          },
          "metadata": {
            "tags": []
          },
          "execution_count": 5
        }
      ]
    }
  ]
}