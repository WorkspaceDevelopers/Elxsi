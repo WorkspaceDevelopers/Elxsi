{
  "nbformat": 4,
  "nbformat_minor": 0,
  "metadata": {
    "colab": {
      "name": "batesDistribution",
      "provenance": [],
      "authorship_tag": "ABX9TyNPqG2R7mB67XlDrAHTLA6W"
    },
    "kernelspec": {
      "name": "python3",
      "display_name": "Python 3"
    },
    "language_info": {
      "name": "python"
    }
  },
  "cells": [
    {
      "cell_type": "code",
      "metadata": {
        "id": "7IoWBRjI7pOL"
      },
      "source": [
        "\"\"\"\n",
        "General Distribution\n",
        "(General parent class for to act as a base class)\n",
        "\"\"\"\n",
        "# Author: Ashwin Raj <rajashwin733@gmail.com>\n",
        "# License: GNU General Public License v3.0\n",
        "\n",
        "class Distribution:\n",
        "\t\"\"\"\n",
        "\tGeneric Distribution class for calculating probability distribution\n",
        "\tAttributes:\n",
        "\t\t1. mean\n",
        "\t\t2. stdev\n",
        "\t\t3. data\n",
        "\t\"\"\"\n",
        "\tdef __init__(self,mu=0,sigma=1):\n",
        "\t\t#Mean value of the distribution\n",
        "\t\tself.mean = mu\n",
        "\t\t#Sandard deviation of the distribution\n",
        "\t\tself.stdev = sigma\n",
        "\t\t#List of floats extracted from input file\n",
        "\t\tself.data = []\n",
        "\n",
        "\t\n",
        "\tdef read_data_file(self,file_name):\n",
        "\t\t\"\"\"\n",
        "\t\tMethod to read data from a txt file(file_name) and store in self.data.\n",
        "\t\tThe txt file should have one number (float) per line.\n",
        "\n",
        "\t\tArgs:\n",
        "\t\t\tName of the file to read data from.\n",
        "\n",
        "\t\tReturns:\n",
        "\t\t\tNo return value\n",
        "\t\t\"\"\"\n",
        "\t\twith open(file_name) as file:\n",
        "\t\t#file_name: name of the txt file to read data from\n",
        "\t\t\tdata_list = []\n",
        "\t\t\t#Returns one line from the file\n",
        "\t\t\tline = file.readline()\n",
        "\n",
        "\t\t\twhile line:\n",
        "\t\t\t\t#Add data to the list\n",
        "\t\t\t\tdata_list.append(int(line))\n",
        "\t\t\t\tline = file.readline()\n",
        "\n",
        "\t\t#Close the file\n",
        "\t\tfile.close()\n",
        "\t\t#store the data in the class attribute\n",
        "\t\tself.data = data_list"
      ],
      "execution_count": 1,
      "outputs": []
    },
    {
      "cell_type": "code",
      "metadata": {
        "id": "k51KF3XE8yZV"
      },
      "source": [
        "\"\"\"\n",
        "Bates Distribution\n",
        "(Also known as Rectangular Mean Distribution)\n",
        "\"\"\"\n",
        "# Author: Ashwin Raj <rajashwin733@gmail.com>\n",
        "# License: GNU General Public License v3.0\n",
        "\n",
        "import math\n",
        "\n",
        "class Bates(Distribution):\n",
        "\t\"\"\"\n",
        "\tBates distribution class for calculating bates distribution\n",
        "\tBates class inherits from distribution class of generalDistribution.py module\n",
        "\n",
        "\tNotation:\n",
        "\t\tX ~ Bates(n,a,b)\n",
        "\n",
        "\tAttributes:\n",
        "\t\t1. n (sample size, k>0)\n",
        "\t\t2. a (lower bound, a>0)\n",
        "\t\t3. b (upper bound, b>0)\n",
        "\n",
        "\tParameters:\n",
        "\t\t-∞ < a < b < +∞\n",
        "\n",
        "\tSupport:\n",
        "\t\tx ∈ [a,b]\n",
        "\t\"\"\"\t\n",
        "\tdef __init__(self,sampleSize=12,lowerBound=0,upperBound=1):\n",
        "\t\t#Default value of n = 12\n",
        "\t\tself.n = sampleSize\n",
        "\t\t#Default value of a = 0\n",
        "\t\tself.a = lowerBound\n",
        "\t\t#Default value of b = 1\n",
        "\t\tself.b = upperBound\n",
        "\n",
        "\t\tDistribution.__init__(self,self.calculate_mean(),self.calculate_stdev())\n",
        "\n",
        "\tdef calculate_mean(self):\n",
        "\t\t\"\"\"\n",
        "\t\tMethod to calculate the mean of the input dataset\n",
        "\t\t\n",
        "\t\tArgs:\n",
        "\t\t\tnone\n",
        "\n",
        "\t\tReturns:\n",
        "\t\t\tself.mean(float): Mean of the input dataset\n",
        "\t\t\"\"\"\n",
        "\t\tself.mean = (self.a + self.b) / 2\n",
        "\t\treturn self.mean\n",
        "\n",
        "\tdef calculate_stdev(self):\n",
        "\t\t\"\"\"\n",
        "\t\tMethod to calculate the standard deviation\n",
        "        \n",
        "\t\tArgs: \n",
        "\t\t\tnone\n",
        "        \n",
        "\t\tReturns: \n",
        "\t\t\tself.stdev(float): Standard deviation of the data set\n",
        "\n",
        "\t\tRaises:\n",
        "\t\t\tZeroDivisionError(string): Raised when division by zero\n",
        "\t\t\"\"\"\n",
        "\t\ttry:\n",
        "\t\t\t\"\"\"\n",
        "\t\t\t\t    (b - a)^(2)\n",
        "\t\t\tVariance = -------------\n",
        "\t\t\t\t\t12n\n",
        "\t\t\t\"\"\"\n",
        "\t\t\tvariance = (self.b - self.a) ** 2 / (12 * self.n)\n",
        "\n",
        "\t\t\t#standard deviation = sqrt(variance)\n",
        "\t\t\tself.stdev = math.sqrt(variance)\n",
        "\t\t\treturn self.stdev\n",
        "\n",
        "\t\t#If division by zero occurs, raise an error\n",
        "\t\texcept ZeroDivisionError as error:\t\n",
        "\t\t\traise\n",
        "\n",
        "\tdef pdf(self,x):\n",
        "\t\t\"\"\"\n",
        "\t\tMethod to calculate probability density function for bates distribution\n",
        "        \n",
        "\t\tArgs:\n",
        "\t\t\tx(float): Random variable\n",
        "\n",
        "\t\tReturns:\n",
        "\t\t\tpdf(float): Probability density function for bates distribution\n",
        "\n",
        "\t\tRaises:\n",
        "\t\t\tZeroDivisionError(string): Raised when division by zero\n",
        "\t\t\tValueError(string): Raised when value error occurs\n",
        "\t\t\"\"\"\n",
        "\t\ttry:\n",
        "\t\t\t#r = n[(x-a)/(b-a)]\n",
        "\t\t\tr = self.n * ((x - self.a) / (self.b - self.a))\n",
        "\t\t\t#i = greatest integer ≤ r\n",
        "\t\t\ti = math.ceil(r)\n",
        "\t\t\t#nCk = binomial coefficient\n",
        "\t\t\tnCk = math.factorial(int(self.n)) / (math.factorial(int(r)) * math.factorial(int(self.n - r)))\n",
        "\n",
        "\t\t\tpartA = self.n / ((self.b - self.a) * math.factorial(int(self.n - 1)))\n",
        "\t\t\tpartB = 0\t#Lower bound value of partB\n",
        "\n",
        "\t\t\t#Value of Σ[(-1)^k·nCk·(r-k)^(n-1)]\n",
        "\t\t\tfor k in range(0,i):\n",
        "\t\t\t\tpartB += ((-1)**k) * nCk * ((r-k)**(self.n-1))\n",
        "\n",
        "\t\t\t\"\"\"\n",
        "\t\t\t\t\t    n       i\n",
        "\t\t\tf(x;a,b,n) =  ------------  Σ[(-1)^k·nCk·(r-k)^(n-1)]\n",
        "\t\t\t\t       (b-a)(n-1)! k=0\n",
        "\t\t\t\"\"\"\n",
        "\t\t\treturn partA * partB\n",
        "\n",
        "\t\t#If division by zero occurs, raise an error\n",
        "\t\texcept ZeroDivisionError as error:\t\n",
        "\t\t\traise\n",
        "\n",
        "\t\t#If value error occurs, raise an error\n",
        "\t\texcept ValueError as error:\n",
        "\t\t\traise\n",
        "\n",
        "\tdef __add__(self,other):\n",
        "\t\t\"\"\"\n",
        "\t\tMethod to add together two bates distributions with equal p\n",
        "        \n",
        "\t\tArgs:\n",
        "\t\t\tother(bates distribution): Bates instance\n",
        "            \n",
        "\t\tReturns:\n",
        "\t\t\tresult(bates distribution): Sum of bates distribution\n",
        "\t\t\"\"\"\n",
        "\t\tresult = Bates()\n",
        "\n",
        "\t\t#Calculate the sample size for the sum of the bates instances\n",
        "\t\tresult.n = self.n + other.n\n",
        "\n",
        "\t\t#Calculate the lower bound and upper bound of the resultant bates instance\n",
        "\t\tresult.a = self.a + other.a\n",
        "\t\tresult.b = self.b + other.b\n",
        "\n",
        "\t\t#Calculate the mean of the two bates instances\n",
        "\t\tresult.calculate_mean()\n",
        "\t\t#Calculate the standard deviation of the two bates instances\n",
        "\t\tresult.calculate_stdev()\n",
        "\t\treturn result\n",
        "\n",
        "\tdef __repr__(self):\n",
        "\t\t\"\"\"\n",
        "\t\tMethod to output the characteristics of the bates instance\n",
        "        \n",
        "\t\tArgs:\n",
        "\t\t\tnone\n",
        "        \n",
        "\t\tReturns:\n",
        "\t\t\toutput(string): Characteristics of the distribution\n",
        "\t\t\"\"\"\n",
        "\t\treturn \"Number of random variables: {}, Lower Bound: {}, Upper Bound: {}, Mean: {}, Standard Deviation: {}\".format(self.n,self.a,self.b,self.mean,self.stdev)"
      ],
      "execution_count": 2,
      "outputs": []
    },
    {
      "cell_type": "code",
      "metadata": {
        "id": "isqwhnTpAFqy"
      },
      "source": [
        "testBates = Bates(5,1,3)"
      ],
      "execution_count": 3,
      "outputs": []
    },
    {
      "cell_type": "code",
      "metadata": {
        "colab": {
          "base_uri": "https://localhost:8080/"
        },
        "id": "Gunn62VSAVNq",
        "outputId": "31379895-6b8d-448a-9dd6-008133184395"
      },
      "source": [
        "testBates"
      ],
      "execution_count": 4,
      "outputs": [
        {
          "output_type": "execute_result",
          "data": {
            "text/plain": [
              "Number of random variables: 5, Lower Bound: 1, Upper Bound: 3, Mean: 2.0, Standard Deviation: 0.2581988897471611"
            ]
          },
          "metadata": {
            "tags": []
          },
          "execution_count": 4
        }
      ]
    },
    {
      "cell_type": "code",
      "metadata": {
        "colab": {
          "base_uri": "https://localhost:8080/"
        },
        "id": "vSNfrBKDAeo9",
        "outputId": "01abf6bc-09f9-41aa-c02b-4321bcb320c6"
      },
      "source": [
        "testBates.pdf(2)"
      ],
      "execution_count": 5,
      "outputs": [
        {
          "output_type": "execute_result",
          "data": {
            "text/plain": [
              "106.4453125"
            ]
          },
          "metadata": {
            "tags": []
          },
          "execution_count": 5
        }
      ]
    }
  ]
}