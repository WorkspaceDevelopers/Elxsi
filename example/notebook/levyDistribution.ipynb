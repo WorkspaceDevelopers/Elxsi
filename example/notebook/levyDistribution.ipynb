{
  "nbformat": 4,
  "nbformat_minor": 0,
  "metadata": {
    "colab": {
      "name": "levyDistribution",
      "provenance": [],
      "authorship_tag": "ABX9TyOgcFON5Yn9BTWI3WLbigti"
    },
    "kernelspec": {
      "name": "python3",
      "display_name": "Python 3"
    },
    "language_info": {
      "name": "python"
    }
  },
  "cells": [
    {
      "cell_type": "code",
      "metadata": {
        "id": "XjEWhYEvtV4i"
      },
      "source": [
        "\"\"\"\n",
        "General Distribution\n",
        "(General parent class for to act as a base class)\n",
        "\"\"\"\n",
        "# Author: Ashwin Raj <rajashwin733@gmail.com>\n",
        "# License: GNU General Public License v3.0\n",
        "\n",
        "class Distribution:\n",
        "\t\"\"\"\n",
        "\tGeneric Distribution class for calculating probability distribution\n",
        "\tAttributes:\n",
        "\t\t1. mean\n",
        "\t\t2. stdev\n",
        "\t\t3. data\n",
        "\t\"\"\"\n",
        "\tdef __init__(self,mu=0,sigma=1):\n",
        "\t\t#Mean value of the distribution\n",
        "\t\tself.mean = mu\n",
        "\t\t#Sandard deviation of the distribution\n",
        "\t\tself.stdev = sigma\n",
        "\t\t#List of floats extracted from input file\n",
        "\t\tself.data = []\n",
        "\n",
        "\t\n",
        "\tdef read_data_file(self,file_name):\n",
        "\t\t\"\"\"\n",
        "\t\tMethod to read data from a txt file(file_name) and store in self.data.\n",
        "\t\tThe txt file should have one number (float) per line.\n",
        "\n",
        "\t\tArgs:\n",
        "\t\t\tName of the file to read data from.\n",
        "\n",
        "\t\tReturns:\n",
        "\t\t\tNo return value\n",
        "\t\t\"\"\"\n",
        "\t\twith open(file_name) as file:\n",
        "\t\t#file_name: name of the txt file to read data from\n",
        "\t\t\tdata_list = []\n",
        "\t\t\t#Returns one line from the file\n",
        "\t\t\tline = file.readline()\n",
        "\n",
        "\t\t\twhile line:\n",
        "\t\t\t\t#Add data to the list\n",
        "\t\t\t\tdata_list.append(int(line))\n",
        "\t\t\t\tline = file.readline()\n",
        "\n",
        "\t\t#Close the file\n",
        "\t\tfile.close()\n",
        "\t\t#store the data in the class attribute\n",
        "\t\tself.data = data_list"
      ],
      "execution_count": 1,
      "outputs": []
    },
    {
      "cell_type": "code",
      "metadata": {
        "id": "3WhpRS-Ntg2G"
      },
      "source": [
        "\"\"\"\n",
        "Lévy Distribution\n",
        "(Special case of the Inverse-Gamma Distribution)\n",
        "\"\"\"\n",
        "# Author: Ashwin Raj <rajashwin733@gmail.com>\n",
        "# License: GNU General Public License v3.0\n",
        "\n",
        "import math\n",
        "\n",
        "class Levy(Distribution):\n",
        "\t\"\"\"\n",
        "\tLévy distribution class for calculating lévy distribution\n",
        "\tLévy class inherits from distribution class of generalDistribution.py module\n",
        "\n",
        "\tNotation:\n",
        "\t\tX ∼ Lévy(c,μ)\n",
        "\n",
        "\tAttributes:\n",
        "\t\t1. a (location parameter, x≥a)\n",
        "\t\t2. c (scale parameter, c>0)\n",
        "\n",
        "\tParameters:\n",
        "\t\tμ location\n",
        "\t\tc > 0 scale\n",
        "\n",
        "\tSupport:\n",
        "\t\tx ∈ [μ,∞)\n",
        "\t\"\"\"\n",
        "\tdef __init__(self,scaleParameter=1,locationParameter=2):\n",
        "\t\t#Default value of c = 1\n",
        "\t\tself.c = scaleParameter\n",
        "\t\t#Default value of a = 2\n",
        "\t\tself.a = locationParameter\n",
        "\n",
        "\t\tDistribution.__init__(self,self.calculate_mean(),self.calculate_stdev())\n",
        "\n",
        "\tdef calculate_mean(self):\n",
        "\t\t\"\"\"\n",
        "\t\tMethod to calculate the mean\n",
        "\t\t\n",
        "\t\tArgs:\n",
        "\t\t\tnone\n",
        "\n",
        "\t\tReturns:\n",
        "\t\t\tself.mean(float): Mean of the input dataset\n",
        "\t\t\"\"\"\n",
        "\t\t#Mean value of a lévy distribution is infinity\n",
        "\t\tself.mean = \"∞\"\n",
        "\t\treturn self.mean\n",
        "\n",
        "\tdef calculate_stdev(self):\n",
        "\t\t\"\"\"\n",
        "\t\tMethod to calculate the standard deviation\n",
        "        \n",
        "\t\tArgs: \n",
        "\t\t\tnone\n",
        "        \n",
        "\t\tReturns: \n",
        "\t\t\tself.stdev(float): Standard deviation of the data set\n",
        "\t\t\"\"\"\n",
        "\t\t#Standard deviation of a lévy distribution is infinity\n",
        "\t\tself.stdev = \"∞\"\n",
        "\t\treturn self.stdev\n",
        "\n",
        "\tdef pdf(self,x):\n",
        "\t\t\"\"\"\n",
        "\t\tMethod to calculate probability density function for lévy distribution\n",
        "        \n",
        "\t\tArgs:\n",
        "\t\t\tx(float): Random variable\n",
        "\n",
        "\t\tReturns:\n",
        "\t\t\tpdf(float): Probability density function for lévy distribution\n",
        "\n",
        "\t\tRaises:\n",
        "\t\t\tZeroDivisionError(string): Raised when division by zero\n",
        "\t\t\tValueError(string): Raised when value error occurs\n",
        "\t\t\"\"\"\n",
        "\t\ttry:\n",
        "\t\t\t#Exponent with base e = -(c/2(x-μ))\n",
        "\t\t\tpowE = (-1.0 * self.c) / (2 * (x - self.a))\n",
        "\n",
        "\t\t\t#Numerator of the operand2\n",
        "\t\t\toperand2Numerator = math.exp(powE)\n",
        "\t\t\t#Denominator of the operand2\n",
        "\t\t\toperand2Denominator = (x - self.a) ** (3 / 2)\n",
        "\t\t\t\"\"\"\n",
        "\t\t\t\t\t\t -(c/2(x-μ))\n",
        "\t\t\t\t\t\te\n",
        "\t\t\tf(x;μ,c) = √(c/2π) --------------\n",
        "\t\t\t\t\t    (x-μ)^(3/2)\n",
        "\t\t\t\"\"\"\n",
        "\t\t\toperand1 = math.sqrt(self.c / (2 * math.pi))\n",
        "\t\t\toperand2 = operand2Numerator / operand2Denominator\n",
        "\t\t\treturn operand1 * operand2\n",
        "\n",
        "\t\t#If division by zero occurs, raise an error\n",
        "\t\texcept ZeroDivisionError as error:\t\n",
        "\t\t\traise\n",
        "\n",
        "\t\t#If value error occurs, raise an error\n",
        "\t\texcept ValueError as error:\n",
        "\t\t\traise\n",
        "\n",
        "\tdef __add__(self,other):\n",
        "\t\t\"\"\"\n",
        "\t\tMethod to add together two lévy distributions with equal p\n",
        "        \n",
        "\t\tArgs:\n",
        "\t\t\tother(lévy distribution): Lévy instance\n",
        "            \n",
        "\t\tReturns:\n",
        "\t\t\tresult(lévy distribution): Sum of lévy distribution\n",
        "\t\t\"\"\"\n",
        "\t\tresult = Levy()\n",
        "\n",
        "\t\t#Calculate the scale parameter of the sum of two instances\n",
        "\t\tresult.c = self.c + other.c\n",
        "\t\t#Calculate the location parameter of the sum of two instances\n",
        "\t\tresult.a = self.a + other.a\n",
        "\n",
        "\t\t#Calculate the mean of the two lévy instances\n",
        "\t\tresult.calculate_mean()\n",
        "\t\t#Calculate the standard deviation of the two lévy instances\n",
        "\t\tresult.calculate_stdev()\n",
        "\t\treturn result\n",
        "\n",
        "\tdef __repr__(self):\n",
        "\t\t\"\"\"\n",
        "\t\tMethod to output the characteristics of the lévy instance\n",
        "        \n",
        "\t\tArgs:\n",
        "\t\t\tnone\n",
        "        \n",
        "\t\tReturns:\n",
        "\t\t\toutput(string): Characteristics of the distribution\n",
        "\t\t\"\"\"\n",
        "\t\treturn \"c: {}, μ: {}, Mean: {}, Standard Deviation: {}\".format(self.c,self.a,self.mean,self.stdev)"
      ],
      "execution_count": 2,
      "outputs": []
    },
    {
      "cell_type": "code",
      "metadata": {
        "id": "I78Gvy6Utrqn"
      },
      "source": [
        "levyTest = Levy(2,3)"
      ],
      "execution_count": 3,
      "outputs": []
    },
    {
      "cell_type": "code",
      "metadata": {
        "colab": {
          "base_uri": "https://localhost:8080/"
        },
        "id": "V4jreUZyuqK9",
        "outputId": "e27f5272-509a-4e10-9c0c-65993dc96a16"
      },
      "source": [
        "levyTest"
      ],
      "execution_count": 4,
      "outputs": [
        {
          "output_type": "execute_result",
          "data": {
            "text/plain": [
              "c: 2, μ: 3, Mean: ∞, Standard Deviation: ∞"
            ]
          },
          "metadata": {
            "tags": []
          },
          "execution_count": 4
        }
      ]
    },
    {
      "cell_type": "code",
      "metadata": {
        "colab": {
          "base_uri": "https://localhost:8080/"
        },
        "id": "y8tZb1gvuw_W",
        "outputId": "48caad2c-307a-4200-a2b1-f93ec59d2b4f"
      },
      "source": [
        "levyTest.pdf(6)"
      ],
      "execution_count": 5,
      "outputs": [
        {
          "output_type": "execute_result",
          "data": {
            "text/plain": [
              "0.07779977737854327"
            ]
          },
          "metadata": {
            "tags": []
          },
          "execution_count": 5
        }
      ]
    }
  ]
}