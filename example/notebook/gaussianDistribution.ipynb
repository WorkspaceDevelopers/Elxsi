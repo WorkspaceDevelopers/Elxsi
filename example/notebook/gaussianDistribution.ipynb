{
  "nbformat": 4,
  "nbformat_minor": 0,
  "metadata": {
    "colab": {
      "name": "gaussianDistribution",
      "provenance": [],
      "authorship_tag": "ABX9TyOKfUFgehkr18axmxKhVFhd"
    },
    "kernelspec": {
      "name": "python3",
      "display_name": "Python 3"
    },
    "language_info": {
      "name": "python"
    }
  },
  "cells": [
    {
      "cell_type": "code",
      "metadata": {
        "id": "D1LGTOcclmva"
      },
      "source": [
        "\"\"\"\n",
        "General Distribution\n",
        "(General parent class for to act as a base class)\n",
        "\"\"\"\n",
        "# Author: Ashwin Raj <rajashwin733@gmail.com>\n",
        "# License: GNU General Public License v3.0\n",
        "\n",
        "class Distribution:\n",
        "\t\"\"\"\n",
        "\tGeneric Distribution class for calculating probability distribution\n",
        "\tAttributes:\n",
        "\t\t1. mean\n",
        "\t\t2. stdev\n",
        "\t\t3. data\n",
        "\t\"\"\"\n",
        "\tdef __init__(self,mu=0,sigma=1):\n",
        "\t\t#Mean value of the distribution\n",
        "\t\tself.mean = mu\n",
        "\t\t#Sandard deviation of the distribution\n",
        "\t\tself.stdev = sigma\n",
        "\t\t#List of floats extracted from input file\n",
        "\t\tself.data = []\n",
        "\n",
        "\t\n",
        "\tdef read_data_file(self,file_name):\n",
        "\t\t\"\"\"\n",
        "\t\tMethod to read data from a txt file(file_name) and store in self.data.\n",
        "\t\tThe txt file should have one number (float) per line.\n",
        "\n",
        "\t\tArgs:\n",
        "\t\t\tName of the file to read data from.\n",
        "\n",
        "\t\tReturns:\n",
        "\t\t\tNo return value\n",
        "\t\t\"\"\"\n",
        "\t\twith open(file_name) as file:\n",
        "\t\t#file_name: name of the txt file to read data from\n",
        "\t\t\tdata_list = []\n",
        "\t\t\t#Returns one line from the file\n",
        "\t\t\tline = file.readline()\n",
        "\n",
        "\t\t\twhile line:\n",
        "\t\t\t\t#Add data to the list\n",
        "\t\t\t\tdata_list.append(int(line))\n",
        "\t\t\t\tline = file.readline()\n",
        "\n",
        "\t\t#Close the file\n",
        "\t\tfile.close()\n",
        "\t\t#store the data in the class attribute\n",
        "\t\tself.data = data_list"
      ],
      "execution_count": 1,
      "outputs": []
    },
    {
      "cell_type": "code",
      "metadata": {
        "id": "bmzXntAUlrWW"
      },
      "source": [
        "\"\"\"\n",
        "Gaussian Distribution\n",
        "(Also known as Normal Distribution)\n",
        "\"\"\"\n",
        "# Author: Ashwin Raj <rajashwin733@gmail.com>\n",
        "# License: GNU General Public License v3.0\n",
        "\n",
        "import math\n",
        "\n",
        "class Gaussian(Distribution):\n",
        "\t\"\"\"\n",
        "\tGaussian distribution class for calculating gaussian distribution\n",
        "\tGaussian class inherits from distribution class of generalDistribution.py module\n",
        "\n",
        "\tNotation:\n",
        "\t\tX ~ N(μ,σ)\n",
        "\n",
        "\tAttributes:\n",
        "\t\t1. mean (mean value of the distribution)\n",
        "\t\t2. stdev (standard deviation of the distribution)\n",
        "\n",
        "\tParameters:\n",
        "\t\tμ ∈ ℝ = mean (location)\n",
        "\t\tσ > 0 = variance (squared scale)\n",
        "\n",
        "\tSupport:\n",
        "\t\tx ∈ ℝ\n",
        "\t\"\"\"\t\n",
        "\tdef __init__(self,mu=0,sigma=1):\n",
        "\t\t#Default value of mu = 0 and sigma = 1\n",
        "\t\tDistribution.__init__(self,mu,sigma)\n",
        "\n",
        "\tdef calculate_mean(self):\n",
        "\t\t\"\"\"\n",
        "\t\tMethod to calculate the mean of the input dataset\n",
        "\t\t\n",
        "\t\tArgs:\n",
        "\t\t\tnone\n",
        "\n",
        "\t\tReturns:\n",
        "\t\t\tself.mean(float): Mean of the input dataset\n",
        "\t\t\"\"\"\n",
        "\t\tavg = 1.0 * sum(self.data)/len(self.data)\n",
        "\t\t\n",
        "\t\t#Mean = μ\n",
        "\t\tself.mean = avg\n",
        "\t\treturn self.mean\n",
        "\n",
        "\tdef calculate_stdev(self,sample=True):\n",
        "\t\t\"\"\"\n",
        "\t\tMethod to calculate the standard deviation of the input dataset\n",
        "\t\t\n",
        "\t\tArgs:\n",
        "\t\t\tsample(Bool): Check whether the data represents a sample or a population\n",
        "\n",
        "\t\tReturns:\n",
        "\t\t\tself.stdev(float): Standard Deviation of the input dataset\n",
        "\t\t\"\"\"\n",
        "\n",
        "\t\tif sample:\n",
        "\t\t\t#Value of n, if data represents sample\n",
        "\t\t\tn = len(self.data) - 1\n",
        "\t\telse:\n",
        "\t\t\t#Value of n, if data represents population\n",
        "\t\t\tn = len(self.data)\n",
        "\n",
        "\t\tmean = self.mean\n",
        "\t\t#Initializing value of sigma\n",
        "\t\tsigma = 0\n",
        "\t\tfor d in self.data:\n",
        "\t\t\t#For each number, subtract the mean and square the result\n",
        "\t\t\tsigma += (d-mean)**2\n",
        "\n",
        "\t\tsigma = math.sqrt(sigma/n)\n",
        "\t\t#Standard deviation = σ\n",
        "\t\tself.stdev = sigma\n",
        "\t\treturn self.stdev\n",
        "\n",
        "\tdef pdf(self,x):\n",
        "\t\t\"\"\"\n",
        "\t\tMethod to calculate probability density function for gaussian distribution\n",
        "\t\t\n",
        "\t\tArgs:\n",
        "\t\t\tx(float): Point for calculating pdf\n",
        "\t\t\t\t\t\n",
        "\t\tReturns:\n",
        "\t\t\tpdf(float): Probability density function for gaussian distribution\n",
        "\t\t\"\"\"\n",
        "\t\tpdf = (1.0 / (self.stdev * math.sqrt(2 * math.pi))) * math.exp(-0.5 * ((x - self.mean) / self.stdev) ** 2)\n",
        "\t\t\"\"\"\n",
        "\t\t\t      1\t    -(1/2)((x-μ)/σ)^(2)\n",
        "\t\tf(x;μ,σ) = ------- e\n",
        "\t\t\t    σ √2π\n",
        "\t\t\"\"\"\n",
        "\t\treturn pdf\n",
        "\n",
        "\tdef __add__(self, other):\n",
        "\t\t\n",
        "\t\t\"\"\"\n",
        "\t\tMethod to add two Gaussian distributions\n",
        "\t\t\n",
        "\t\tArgs:\n",
        "\t\t\tother(gaussian distribution): Gaussian instance\n",
        "\t\t\t\n",
        "\t\tReturns:\n",
        "\t\t\tresult(gaussian distribution): Sum of gaussian distributions\t\n",
        "\t\t\"\"\"\n",
        "\t\tresult = Gaussian()\n",
        "\n",
        "\t\t#Calculate the mean of the two gaussian instances\n",
        "\t\tresult.mean = self.mean + other.mean\n",
        "\t\t#Calculate the standard deviations of the two gaussian instances\n",
        "\t\tresult.stdev = math.sqrt(self.stdev ** 2 + other.stdev ** 2)\n",
        "\t\t\n",
        "\t\treturn result\n",
        "\t\t\n",
        "\tdef __repr__(self):\n",
        "\t\n",
        "\t\t\"\"\"\n",
        "\t\tMethod to output the characteristics of the gaussian instance\n",
        "\t\t\n",
        "\t\tArgs:\n",
        "\t\t\tnone\n",
        "\t\t\n",
        "\t\tReturns:\n",
        "\t\t\toutput(string): Characteristics of the distribution\n",
        "\t\t\"\"\"\n",
        "\t\treturn \"Mean: {}, Standard Deviation: {}\".format(self.mean, self.stdev)"
      ],
      "execution_count": 2,
      "outputs": []
    },
    {
      "cell_type": "code",
      "metadata": {
        "id": "Grq8IDQpmSPw"
      },
      "source": [
        "gaussianTest = Gaussian(2,3)"
      ],
      "execution_count": 3,
      "outputs": []
    },
    {
      "cell_type": "code",
      "metadata": {
        "colab": {
          "base_uri": "https://localhost:8080/"
        },
        "id": "bnWLygYKmiyZ",
        "outputId": "31087f57-256a-4bc5-bbbb-dcc0ba8a0fc5"
      },
      "source": [
        "gaussianTest"
      ],
      "execution_count": 4,
      "outputs": [
        {
          "output_type": "execute_result",
          "data": {
            "text/plain": [
              "Mean: 2, Standard Deviation: 3"
            ]
          },
          "metadata": {
            "tags": []
          },
          "execution_count": 4
        }
      ]
    },
    {
      "cell_type": "code",
      "metadata": {
        "colab": {
          "base_uri": "https://localhost:8080/"
        },
        "id": "8VqeZ9r_mWCv",
        "outputId": "16924052-19cd-4f06-f14d-72d0da8aaf55"
      },
      "source": [
        "gaussianTest.pdf(3)"
      ],
      "execution_count": 5,
      "outputs": [
        {
          "output_type": "execute_result",
          "data": {
            "text/plain": [
              "0.12579440923099774"
            ]
          },
          "metadata": {
            "tags": []
          },
          "execution_count": 5
        }
      ]
    }
  ]
}