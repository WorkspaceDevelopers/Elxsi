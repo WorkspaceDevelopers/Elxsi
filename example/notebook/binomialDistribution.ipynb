{
  "nbformat": 4,
  "nbformat_minor": 0,
  "metadata": {
    "colab": {
      "name": "binomialDistribution",
      "provenance": [],
      "collapsed_sections": [],
      "authorship_tag": "ABX9TyMj58QUzJXKvKpV4ZgMMt3J"
    },
    "kernelspec": {
      "name": "python3",
      "display_name": "Python 3"
    },
    "language_info": {
      "name": "python"
    }
  },
  "cells": [
    {
      "cell_type": "code",
      "metadata": {
        "id": "UPKDFqdAJ6ju"
      },
      "source": [
        "\"\"\"\n",
        "General Distribution\n",
        "(General parent class for to act as a base class)\n",
        "\"\"\"\n",
        "# Author: Ashwin Raj <rajashwin733@gmail.com>\n",
        "# License: GNU General Public License v3.0\n",
        "\n",
        "class Distribution:\n",
        "\t\"\"\"\n",
        "\tGeneric Distribution class for calculating probability distribution\n",
        "\tAttributes:\n",
        "\t\t1. mean\n",
        "\t\t2. stdev\n",
        "\t\t3. data\n",
        "\t\"\"\"\n",
        "\tdef __init__(self,mu=0,sigma=1):\n",
        "\t\t#Mean value of the distribution\n",
        "\t\tself.mean = mu\n",
        "\t\t#Sandard deviation of the distribution\n",
        "\t\tself.stdev = sigma\n",
        "\t\t#List of floats extracted from input file\n",
        "\t\tself.data = []\n",
        "\n",
        "\t\n",
        "\tdef read_data_file(self,file_name):\n",
        "\t\t\"\"\"\n",
        "\t\tMethod to read data from a txt file(file_name) and store in self.data.\n",
        "\t\tThe txt file should have one number (float) per line.\n",
        "\n",
        "\t\tArgs:\n",
        "\t\t\tName of the file to read data from.\n",
        "\n",
        "\t\tReturns:\n",
        "\t\t\tNo return value\n",
        "\t\t\"\"\"\n",
        "\t\twith open(file_name) as file:\n",
        "\t\t#file_name: name of the txt file to read data from\n",
        "\t\t\tdata_list = []\n",
        "\t\t\t#Returns one line from the file\n",
        "\t\t\tline = file.readline()\n",
        "\n",
        "\t\t\twhile line:\n",
        "\t\t\t\t#Add data to the list\n",
        "\t\t\t\tdata_list.append(int(line))\n",
        "\t\t\t\tline = file.readline()\n",
        "\n",
        "\t\t#Close the file\n",
        "\t\tfile.close()\n",
        "\t\t#store the data in the class attribute\n",
        "\t\tself.data = data_list"
      ],
      "execution_count": 1,
      "outputs": []
    },
    {
      "cell_type": "code",
      "metadata": {
        "id": "4JltGNcuKA9B"
      },
      "source": [
        "\"\"\"\n",
        "Binomial Distribution\n",
        "\"\"\"\n",
        "# Author: Ashwin Raj <rajashwin733@gmail.com>\n",
        "# License: GNU General Public License v3.0\n",
        "\n",
        "import math\n",
        "\n",
        "class Binomial(Distribution):\n",
        "\t\"\"\"\n",
        "\tBinomial distribution class for calculating binomial distribution\n",
        "\tBinomial class inherits from distribution class of generalDistribution.py module\n",
        "\t\n",
        "\tNotation:\n",
        "\t\tX ~ Bin(n, p)\n",
        "\n",
        "\tAttributes:\n",
        "\t\t1. p (probability of success on a single trial)\n",
        "\t\t2. n (number of trials)\n",
        "\n",
        "\tParameters:\n",
        "\t\tn ∈ {0,1,2...} - number of trials\n",
        "\t\tp ∈ [0,1] - success probability for each trial\n",
        "\t\tq = 1-p\n",
        "\n",
        "\tSupport:\n",
        "\t\tk ∈ {0,1,...,n} - number of successess\n",
        "\t\"\"\"\n",
        "\tdef __init__(self,prob=0.5,size=20):\n",
        "\t\t#Default value of p = 0.5\n",
        "\t\tself.p = prob\n",
        "\t\t#Default value of n = 20\n",
        "\t\tself.n = size\n",
        "\n",
        "\t\tDistribution.__init__(self,self.calculate_mean(),self.calculate_stdev())\n",
        "\n",
        "\tdef calculate_mean(self):\n",
        "\t\t\"\"\"\n",
        "\t\tMethod to calculate the mean\n",
        "        \n",
        "\t\tArgs: \n",
        "\t\t\tnone\n",
        "        \n",
        "\t\tReturns: \n",
        "\t\t\tself.mean(float): Mean of the data set\n",
        "\t\t\"\"\"\n",
        "\t\t#Mean = np\n",
        "\t\tself.mean = self.n * self.p\n",
        "\t\treturn self.mean\n",
        "\n",
        "\tdef calculate_stdev(self):\n",
        "\t\t\"\"\"\n",
        "\t\tMethod to calculate the standard deviation\n",
        "        \n",
        "\t\tArgs: \n",
        "\t\t\tnone\n",
        "        \n",
        "\t\tReturns: \n",
        "\t\t\tself.stdev(float): Standard deviation of the data set\n",
        "\t\t\"\"\"\n",
        "\t\t#Variance = npq\n",
        "\t\tvariance = self.n * self.p * (1 - self.p)\n",
        "\n",
        "\t\t#Standard deviation = sqrt(variance)\n",
        "\t\tself.stdev = math.sqrt(variance)\n",
        "\t\treturn self.stdev\n",
        "\n",
        "\tdef replace_stats_with_data(self):\n",
        "\t\t\"\"\"\n",
        "\t\tMethod to calculate p and n from the data set\n",
        "        \n",
        "\t\tArgs: \n",
        "\t\t\tnone\n",
        "        \n",
        "\t\tReturns: \n",
        "\t\t\tself.p(float): Value of p\n",
        "\t\t\tself.n(float): Value of n    \n",
        "\t\t\"\"\"\n",
        "\t\tself.n = len(self.data)\n",
        "\t\tself.p = 1.0 * sum(self.data) / self.n\n",
        "\n",
        "\t\t#Calculate mean and standard deviation\n",
        "\t\tself.mean = self.calculate_mean()\n",
        "\t\tself.stdev = self.calculate_stdev()\n",
        "\t\treturn self.p, self.n\n",
        "\n",
        "\tdef pdf(self,k):\n",
        "\t\t\"\"\"\n",
        "\t\tMethod to calculate probability density function for binomial distribution\n",
        "        \n",
        "\t\tArgs:\n",
        "\t\t\tk(float): Number of times for a specific outcome within n trials\n",
        "\n",
        "\t\tReturns:\n",
        "\t\t\tpdf(float): Probability density function for binomial distribution\n",
        "        \t\"\"\"\n",
        "        \t#Value of a = ((n!)/((n-x)! * x!))\n",
        "\t\ta = math.factorial(self.n) / (math.factorial(k) * (math.factorial(self.n - k)))\n",
        "\n",
        "\t\t#Value of b = (p**x) * (1-p)**(n-x)\n",
        "\t\tb = (self.p ** k) * (1 - self.p) ** (self.n - k)\n",
        "\t\t\"\"\"\n",
        "\t\tf(x;n,p) = nCk p^(k) q^(n-k), for k = 0,1,2,...,n\n",
        "\n",
        "\t\twhere,\t\t\t n!\n",
        "\t\t\t\tnCk = ---------\n",
        "\t\t\t\t      k! (n-k)!\n",
        "\t\t\"\"\"\n",
        "\t\treturn a * b\n",
        "\n",
        "\tdef __add__(self,other):\n",
        "\t\t\"\"\"\n",
        "\t\tMethod to add together two binomial distributions with equal p\n",
        "        \n",
        "\t\tArgs:\n",
        "\t\t\tother(binomial distribution): Binomial instance\n",
        "            \n",
        "\t\tReturns:\n",
        "\t\t\tresult(binomial distribution): Sum of binomial distribution\n",
        "\n",
        "\t\tRaises:\n",
        "\t\t\tassertionError(string): Raised when values of p are not equal\n",
        "        \t\"\"\"\n",
        "\t\t#Check if success probabilities of both binomial distributions are the same\n",
        "\t\ttry:\n",
        "\t\t\tassert self.p == other.p, 'p values are not equal'\n",
        "\n",
        "\t\t#If values are not same, raise an error\n",
        "\t\texcept AssertionError as error:\n",
        "\t\t\traise\n",
        "\n",
        "\t\tresult = Binomial()\n",
        "\n",
        "\t\t#Calculate sum of the number of trials of the two binomial instances\n",
        "\t\tresult.n = self.n + other.n\n",
        "\t\t#Success probability of the resultant binomial distribution (same as the two distributions)\n",
        "\t\tresult.p = self.p\n",
        "\n",
        "\t\t#Calculate the mean and standard deviation of the two binomial instances\t\n",
        "\t\tresult.calculate_mean()\n",
        "\t\tresult.calculate_stdev()\n",
        "\n",
        "\t\treturn result\n",
        "\n",
        "\tdef __repr__(self):\n",
        "\t\t\"\"\"\n",
        "\t\tMethod to output the characteristics of the binomial instance\n",
        "        \n",
        "\t\tArgs:\n",
        "\t\t\tnone\n",
        "        \n",
        "\t\tReturns:\n",
        "\t\t\toutput(string): Characteristics of the distribution\n",
        "        \t\"\"\"\n",
        "\t\treturn \"p: {}, n: {}, mean: {}, standard deviation: {}\".format(self.p,self.n,self.mean,self.stdev)"
      ],
      "execution_count": 2,
      "outputs": []
    },
    {
      "cell_type": "code",
      "metadata": {
        "id": "c8gXSCNuKHnt"
      },
      "source": [
        "testBinomial = Binomial(0.7,10)"
      ],
      "execution_count": 3,
      "outputs": []
    },
    {
      "cell_type": "code",
      "metadata": {
        "colab": {
          "base_uri": "https://localhost:8080/"
        },
        "id": "KyLXKTumKXWM",
        "outputId": "939c146b-c8ab-467f-f0b6-0c9016ac6663"
      },
      "source": [
        "testBinomial"
      ],
      "execution_count": 4,
      "outputs": [
        {
          "output_type": "execute_result",
          "data": {
            "text/plain": [
              "p: 0.7, n: 10, mean: 7.0, standard deviation: 1.449137674618944"
            ]
          },
          "metadata": {
            "tags": []
          },
          "execution_count": 4
        }
      ]
    },
    {
      "cell_type": "code",
      "metadata": {
        "colab": {
          "base_uri": "https://localhost:8080/"
        },
        "id": "mL594tUyKTMX",
        "outputId": "64e817d8-16d7-4ba9-a7f0-1cc5b2c31b33"
      },
      "source": [
        "testBinomial.pdf(3)"
      ],
      "execution_count": 5,
      "outputs": [
        {
          "output_type": "execute_result",
          "data": {
            "text/plain": [
              "0.009001692000000007"
            ]
          },
          "metadata": {
            "tags": []
          },
          "execution_count": 5
        }
      ]
    }
  ]
}