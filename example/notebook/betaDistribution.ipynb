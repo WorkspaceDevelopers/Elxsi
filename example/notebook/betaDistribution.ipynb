{
  "nbformat": 4,
  "nbformat_minor": 0,
  "metadata": {
    "colab": {
      "name": "betaDistribution",
      "provenance": [],
      "authorship_tag": "ABX9TyP0SmHbq3VYyg/S7ZVBm1DW"
    },
    "kernelspec": {
      "name": "python3",
      "display_name": "Python 3"
    },
    "language_info": {
      "name": "python"
    }
  },
  "cells": [
    {
      "cell_type": "code",
      "metadata": {
        "id": "FOHsF-GTJK0S"
      },
      "source": [
        "\"\"\"\n",
        "General Distribution\n",
        "(General parent class for to act as a base class)\n",
        "\"\"\"\n",
        "# Author: Ashwin Raj <rajashwin733@gmail.com>\n",
        "# License: GNU General Public License v3.0\n",
        "\n",
        "class Distribution:\n",
        "\t\"\"\"\n",
        "\tGeneric Distribution class for calculating probability distribution\n",
        "\tAttributes:\n",
        "\t\t1. mean\n",
        "\t\t2. stdev\n",
        "\t\t3. data\n",
        "\t\"\"\"\n",
        "\tdef __init__(self,mu=0,sigma=1):\n",
        "\t\t#Mean value of the distribution\n",
        "\t\tself.mean = mu\n",
        "\t\t#Sandard deviation of the distribution\n",
        "\t\tself.stdev = sigma\n",
        "\t\t#List of floats extracted from input file\n",
        "\t\tself.data = []\n",
        "\n",
        "\t\n",
        "\tdef read_data_file(self,file_name):\n",
        "\t\t\"\"\"\n",
        "\t\tMethod to read data from a txt file(file_name) and store in self.data.\n",
        "\t\tThe txt file should have one number (float) per line.\n",
        "\n",
        "\t\tArgs:\n",
        "\t\t\tName of the file to read data from.\n",
        "\n",
        "\t\tReturns:\n",
        "\t\t\tNo return value\n",
        "\t\t\"\"\"\n",
        "\t\twith open(file_name) as file:\n",
        "\t\t#file_name: name of the txt file to read data from\n",
        "\t\t\tdata_list = []\n",
        "\t\t\t#Returns one line from the file\n",
        "\t\t\tline = file.readline()\n",
        "\n",
        "\t\t\twhile line:\n",
        "\t\t\t\t#Add data to the list\n",
        "\t\t\t\tdata_list.append(int(line))\n",
        "\t\t\t\tline = file.readline()\n",
        "\n",
        "\t\t#Close the file\n",
        "\t\tfile.close()\n",
        "\t\t#store the data in the class attribute\n",
        "\t\tself.data = data_list"
      ],
      "execution_count": 1,
      "outputs": []
    },
    {
      "cell_type": "code",
      "metadata": {
        "id": "qVbkEWZUJQOt"
      },
      "source": [
        "\"\"\"\n",
        "Beta Distribution\n",
        "(Also known as Normal Distribution)\n",
        "\"\"\"\n",
        "# Author: Ashwin Raj <rajashwin733@gmail.com>\n",
        "# License: GNU General Public License v3.0\n",
        "\n",
        "import math\n",
        "\n",
        "class Beta(Distribution):\n",
        "\t\"\"\"\n",
        "\tBeta distribution class for calculating beta distribution\n",
        "\tBeta class inherits from distribution class of generalDistribution.py module\n",
        "\n",
        "\tNotation:\n",
        "\t\tX ~ Beta(α, β)\n",
        "\n",
        "\tAttributes:\n",
        "\t\t1. alpha (shape parameter)\n",
        "\t\t2. beta (shape parameter)\n",
        "\n",
        "\tParameters:\n",
        "\t\tα > 0 shape (real)\n",
        "\t\tβ > 0 shape (real)\n",
        "\n",
        "\tSupport:\n",
        "\t\tx ∈ [0,1]\n",
        "\t\tx ∈ (0,1)\n",
        "\t\"\"\"\t\n",
        "\tdef __init__(self,xShapeParam=0,yShapeParam=1):\n",
        "\t\t#Default value of alpha = 0\n",
        "\t\tself.alpha = xShapeParam\n",
        "\t\t#Default value of beta = 1\n",
        "\t\tself.beta = yShapeParam\n",
        "\n",
        "\t\tDistribution.__init__(self,self.calculate_mean(),self.calculate_stdev())\n",
        "\n",
        "\tdef calculate_mean(self):\n",
        "\t\t\"\"\"\n",
        "\t\tMethod to calculate the mean of the input dataset\n",
        "\t\t\n",
        "\t\tArgs:\n",
        "\t\t\tnone\n",
        "\n",
        "\t\tReturns:\n",
        "\t\t\tself.mean(float): Mean of the input dataset\n",
        "\n",
        "\t\tRaises:\n",
        "\t\t\tZeroDivisionError(string): Raised when division by zero\n",
        "\t\t\"\"\"\n",
        "\t\t#Check mean for divison by zero error\n",
        "\t\ttry:\n",
        "\t\t\tself.mean = self.alpha / (self.alpha + self.beta)\n",
        "\t\t\t\"\"\"\n",
        "\t\t\t\t  α\n",
        "\t\t\tMean = --------\n",
        "\t\t\t\tα + β\n",
        "\t\t\t\"\"\"\n",
        "\t\t\treturn self.mean\n",
        "\n",
        "\t\t#If division by zero occurs, raise an error\n",
        "\t\texcept ZeroDivisionError as error:\t\n",
        "\t\t\traise\n",
        "\n",
        "\tdef calculate_stdev(self):\n",
        "\t\t\"\"\"\n",
        "\t\tMethod to calculate the standard deviation\n",
        "        \n",
        "\t\tArgs: \n",
        "\t\t\tnone\n",
        "        \n",
        "\t\tReturns: \n",
        "\t\t\tself.stdev(float): Standard deviation of the data set\n",
        "\n",
        "\t\tRaises:\n",
        "\t\t\tZeroDivisionError(string): Raised when division by zero\n",
        "\t\t\tValueError(string): Raised when negative number passed for square root\n",
        "\t\t\"\"\"\n",
        "\t\t#Check stdev for divison by zero error and value error\n",
        "\t\ttry:\n",
        "\t\t\t#Dividing the expression to calculate standard deviation for convenience\n",
        "\t\t\tnumerator = self.alpha * self.beta\n",
        "\t\t\tdenominator = ((self.alpha + self.beta) ** 2) * (self.alpha + self.beta + 1)\n",
        "\t\t\t\"\"\"\n",
        "\t\t\t\t\t   α β\n",
        "\t\t\tVariance = -------------------\n",
        "\t\t\t\t    (α+β)^(2) (α+β+1)\n",
        "\t\t\t\"\"\"\n",
        "\t\t\tvariance = numerator / denominator\n",
        "\n",
        "\t\t\t#Standard deviation = sqrt(variance)\n",
        "\t\t\tself.stdev = math.sqrt(variance)\n",
        "\t\t\treturn self.stdev\n",
        "\n",
        "\t\t#If division by zero occurs, raise an error\n",
        "\t\texcept ZeroDivisionError as error:\t\n",
        "\t\t\traise\n",
        "\n",
        "\t\t#If negative number passed for calculating square root, raise an error\n",
        "\t\texcept ValueError as error:\n",
        "\t\t\traise\n",
        "\n",
        "\tdef pdf(self,x,lowerBound=0,upperBound=1):\n",
        "\t\t\"\"\"\n",
        "\t\tMethod to calculate probability density function for beta distribution\n",
        "        \n",
        "\t\tArgs:\n",
        "\t\t\tlowerBound(float): lower bound\n",
        "\t\t\tupperBound(float): upper bound\n",
        "\n",
        "\t\tReturns:\n",
        "\t\t\tpdf(float): Probability density function for beta distribution\n",
        "\t\t\"\"\"\n",
        "\t\ttry:\n",
        "\t\t\t#Gamma value of sum of the shape parameters\n",
        "\t\t\tgammaSum = self.alpha + self.beta\n",
        "\t\t\t#normalizingConstant = B(alpha,beta)\n",
        "\t\t\tnormalizingConstant = (math.gamma(self.alpha) * math.gamma(self.beta)) / math.gamma(gammaSum)\n",
        "\n",
        "\t\t\t#Returns power to be used in calculating the pdf\n",
        "\t\t\tpowDenom = self.alpha + self.beta - 1\n",
        "\t\t\tpw1 = self.alpha - 1\n",
        "\t\t\tpw2 = self.beta - 1\n",
        "\t\t\t\"\"\"\n",
        "\t\t\t\t     x^(α-1) (1-x)^(β-1)\n",
        "\t\t\tf(x;α,β) = ----------------------\n",
        "\t\t\t\t\t   B(α,β)\n",
        "\n",
        "\t\t\twhere,\t\t\t   Γ(α) Γ(β)\n",
        "\t\t\t\t\tB(α,β) = -------------, and Γ is the gamma function\n",
        "\t\t\t\t\t\t    Γ(α,β)\n",
        "\t\t\t\"\"\"\n",
        "\t\t\t#Calculate the numerator and denominator of the pdf\n",
        "\t\t\tpdfDenominator = normalizingConstant * ((upperBound - lowerBound) ** powDenom)\n",
        "\t\t\tpdfNumerator = ((x - lowerBound) ** pw1) * ((upperBound - x) ** pw2)\n",
        "\t\t\treturn pdfNumerator / pdfDenominator\n",
        "\n",
        "\t\t#If division by zero occurs, raise an error\n",
        "\t\texcept ZeroDivisionError as error:\t\n",
        "\t\t\traise\n",
        "\n",
        "\t\t#If negative number passed for calculating square root, raise an error\n",
        "\t\texcept ValueError as error:\n",
        "\t\t\traise\n",
        "\n",
        "\tdef __add__(self,other):\n",
        "\t\t\"\"\"\n",
        "\t\tMethod to add together two beta distributions with equal p\n",
        "        \n",
        "\t\tArgs:\n",
        "\t\t\tother(beta distribution): Beta instance\n",
        "            \n",
        "\t\tReturns:\n",
        "\t\t\tresult(beta distribution): Sum of beta distribution\n",
        "\t\t\"\"\"\n",
        "\t\tresult = Beta()\n",
        "\n",
        "\t\t#Calculate the shape parameters for the sum of the beta instance\n",
        "\t\tresult.alpha = self.alpha + other.alpha\n",
        "\t\tresult.beta = self.beta + other.beta\n",
        "\n",
        "\t\t#Calculate the mean of the two beta instances\n",
        "\t\tresult.calculate_mean()\n",
        "\t\t#Calculate the standard deviations of the two beta instances\n",
        "\t\tresult.calculate_stdev()\n",
        "\t\treturn result\n",
        "\n",
        "\tdef __repr__(self):\n",
        "\t\t\"\"\"\n",
        "\t\tMethod to output the characteristics of the beta instance\n",
        "        \n",
        "\t\tArgs:\n",
        "\t\t\tnone\n",
        "        \n",
        "\t\tReturns:\n",
        "\t\t\toutput(string): Characteristics of the distribution\n",
        "\t\t\"\"\"\n",
        "\t\treturn \"alpha: {}, beta: {}, mean: {}, standard deviation: {}\".format(self.alpha,self.beta,self.mean,self.stdev)"
      ],
      "execution_count": 2,
      "outputs": []
    },
    {
      "cell_type": "code",
      "metadata": {
        "id": "CYPwi5s0JZTw"
      },
      "source": [
        "testBeta = Beta(0.5,0.7)"
      ],
      "execution_count": 3,
      "outputs": []
    },
    {
      "cell_type": "code",
      "metadata": {
        "colab": {
          "base_uri": "https://localhost:8080/"
        },
        "id": "-kgtLytoJnEs",
        "outputId": "a4c29d0f-bc84-4ed4-ec48-f60b3f5a1bb3"
      },
      "source": [
        "testBeta"
      ],
      "execution_count": 4,
      "outputs": [
        {
          "output_type": "execute_result",
          "data": {
            "text/plain": [
              "alpha: 0.5, beta: 0.7, mean: 0.4166666666666667, standard deviation: 0.332385014673944"
            ]
          },
          "metadata": {
            "tags": []
          },
          "execution_count": 4
        }
      ]
    },
    {
      "cell_type": "code",
      "metadata": {
        "colab": {
          "base_uri": "https://localhost:8080/"
        },
        "id": "0_Plp9elJo7-",
        "outputId": "4391fd23-61ab-4814-b9d7-39fa4de284a8"
      },
      "source": [
        "testBeta.pdf(3)"
      ],
      "execution_count": 5,
      "outputs": [
        {
          "output_type": "execute_result",
          "data": {
            "text/plain": [
              "(0.11000271926075576-0.1514057539931704j)"
            ]
          },
          "metadata": {
            "tags": []
          },
          "execution_count": 5
        }
      ]
    }
  ]
}