{
  "nbformat": 4,
  "nbformat_minor": 0,
  "metadata": {
    "colab": {
      "name": "yuleSimonDistribution",
      "provenance": [],
      "authorship_tag": "ABX9TyNGW8oMxFJ2i2pf6VRRNlTD"
    },
    "kernelspec": {
      "name": "python3",
      "display_name": "Python 3"
    },
    "language_info": {
      "name": "python"
    }
  },
  "cells": [
    {
      "cell_type": "code",
      "metadata": {
        "id": "Aj-HK6BCSBoa"
      },
      "source": [
        "\"\"\"\n",
        "General Distribution\n",
        "(General parent class for to act as a base class)\n",
        "\"\"\"\n",
        "# Author: Ashwin Raj <rajashwin733@gmail.com>\n",
        "# License: GNU General Public License v3.0\n",
        "\n",
        "class Distribution:\n",
        "\t\"\"\"\n",
        "\tGeneric Distribution class for calculating probability distribution\n",
        "\tAttributes:\n",
        "\t\t1. mean\n",
        "\t\t2. stdev\n",
        "\t\t3. data\n",
        "\t\"\"\"\n",
        "\tdef __init__(self,mu=0,sigma=1):\n",
        "\t\t#Mean value of the distribution\n",
        "\t\tself.mean = mu\n",
        "\t\t#Sandard deviation of the distribution\n",
        "\t\tself.stdev = sigma\n",
        "\t\t#List of floats extracted from input file\n",
        "\t\tself.data = []\n",
        "\n",
        "\t\n",
        "\tdef read_data_file(self,file_name):\n",
        "\t\t\"\"\"\n",
        "\t\tMethod to read data from a txt file(file_name) and store in self.data.\n",
        "\t\tThe txt file should have one number (float) per line.\n",
        "\n",
        "\t\tArgs:\n",
        "\t\t\tName of the file to read data from.\n",
        "\n",
        "\t\tReturns:\n",
        "\t\t\tNo return value\n",
        "\t\t\"\"\"\n",
        "\t\twith open(file_name) as file:\n",
        "\t\t#file_name: name of the txt file to read data from\n",
        "\t\t\tdata_list = []\n",
        "\t\t\t#Returns one line from the file\n",
        "\t\t\tline = file.readline()\n",
        "\n",
        "\t\t\twhile line:\n",
        "\t\t\t\t#Add data to the list\n",
        "\t\t\t\tdata_list.append(int(line))\n",
        "\t\t\t\tline = file.readline()\n",
        "\n",
        "\t\t#Close the file\n",
        "\t\tfile.close()\n",
        "\t\t#store the data in the class attribute\n",
        "\t\tself.data = data_list"
      ],
      "execution_count": 1,
      "outputs": []
    },
    {
      "cell_type": "code",
      "metadata": {
        "id": "DiBZCcqzSE1A"
      },
      "source": [
        "\"\"\"\n",
        "Yule Simon Distribution\n",
        "(Also known as Yule distribution)\n",
        "\"\"\"\n",
        "# Author: Ashwin Raj <rajashwin733@gmail.com>\n",
        "# License: GNU General Public License v3.0\n",
        "\n",
        "import math\n",
        "\n",
        "class YuleSimon(Distribution):\n",
        "\t\"\"\"\n",
        "\tYule Simon distribution class for calculating yule simon distribution\n",
        "\tYule Simon class inherits from distribution class of generalDistribution.py module\n",
        "\n",
        "\tNotation:\n",
        "\t\tX ∼ Yule(ρ)\n",
        "\n",
        "\tAttributes:\n",
        "\t\t1. shape parameter\n",
        "\n",
        "\tParameters:\n",
        "\t\tρ > 0 shape(real)\n",
        "\n",
        "\tSupport:\n",
        "\t\tk ∈ {1,2,...}\n",
        "\t\"\"\"\n",
        "\tdef __init__(self,shapeParameter=1):\n",
        "\t\t#Default value of rho = 1\n",
        "\t\tself.rho = shapeParameter\n",
        "\n",
        "\t\tDistribution.__init__(self,self.calculate_mean(),self.calculate_stdev())\n",
        "\n",
        "\tdef calculate_mean(self):\n",
        "\t\t\"\"\"\n",
        "\t\tMethod to calculate the mean\n",
        "\t\t\n",
        "\t\tArgs:\n",
        "\t\t\tnone\n",
        "\n",
        "\t\tReturns:\n",
        "\t\t\tself.mean(float/string): Mean of the input dataset\n",
        "\t\t\"\"\"\n",
        "\t\t#For ρ > 1\n",
        "\t\tif (self.rho > 1):\n",
        "\t\t\t\"\"\"\n",
        "\t\t\t\t ρ\n",
        "\t\t\tMean = -----, for ρ>1\n",
        "\t\t\t\tρ-1\n",
        "\t\t\t\"\"\"\n",
        "\t\t\tself.mean = self.rho / (self.rho - 1)\n",
        "\n",
        "\t\t#Otherwise\n",
        "\t\telse:\n",
        "\t\t\tself.mean = \"Undefined\"\n",
        "\t\t\n",
        "\t\treturn self.mean\n",
        "\n",
        "\tdef calculate_stdev(self):\n",
        "\t\t\"\"\"\n",
        "\t\tMethod to calculate the standard deviation\n",
        "\t\t\n",
        "\t\tArgs:\n",
        "\t\t\tnone\n",
        "\n",
        "\t\tReturns:\n",
        "\t\t\tself.stdev(float/string): Standard deviation of the input dataset\n",
        "\t\t\"\"\"\n",
        "\t\t#For ρ > 2\n",
        "\t\tif (self.rho > 2):\n",
        "\t\t\t\"\"\"\n",
        "\t\t\t\t\t ρ^(2)\n",
        "\t\t\tVariance = ----------------\n",
        "\t\t\t\t   (ρ-1)^(2) (ρ-2)\n",
        "\t\t\t\"\"\"\n",
        "\t\t\tvariance = (self.rho ** 2) / (((self.rho - 1)**2) * (self.rho - 2))\n",
        "\t\t\t#Standard deviation = sqrt(variance)\n",
        "\t\t\tself.stdev = math.sqrt(variance)\n",
        "\n",
        "\t\t#Otherwise\n",
        "\t\telse:\n",
        "\t\t\tself.stdev = \"Undefined\"\n",
        "\t\treturn self.stdev\n",
        "\n",
        "\tdef pdf(self,x):\n",
        "\t\t\"\"\"\n",
        "\t\tMethod to calculate probability density function for yule simon distribution\n",
        "        \n",
        "\t\tArgs:\n",
        "\t\t\tx(float): Random variable\n",
        "\n",
        "\t\tReturns:\n",
        "\t\t\tpdf(float): Probability density function for yule simon distribution\n",
        "\n",
        "\t\tRaises:\n",
        "\t\t\tZeroDivisionError(string): Raised when division by zero\n",
        "\t\t\tValueError(string): Raised when value error occurs\n",
        "\t\t\"\"\"\n",
        "\t\ttry:\n",
        "\t\t\t#Splitting the pdf expression for convenience\n",
        "\t\t\tpdfNumerator = self.rho * math.gamma(x) * math.gamma(self.rho + 1)\n",
        "\t\t\tpdfDenominator = math.gamma(x + self.rho + 1)\n",
        "\t\t\t\"\"\"\n",
        "\t\t\t\t\t      ρ Γ(x) Γ(ρ+1)\n",
        "\t\t\tf(x;ρ) = ρB(x,ρ+1) = ---------------, x ≥ 1; ρ > 0\n",
        "\t\t\t\t\t\tΓ(x+ρ+1)\n",
        "\t\t\t\"\"\"\n",
        "\t\t\treturn pdfNumerator / pdfDenominator\n",
        "\n",
        "\t\t#If division by zero occurs, raise an error\n",
        "\t\texcept ZeroDivisionError as error:\t\n",
        "\t\t\traise\n",
        "\n",
        "\t\t#If value error occurs, raise an error\n",
        "\t\texcept ValueError as error:\n",
        "\t\t\traise\n",
        "\n",
        "\tdef __repr__(self):\n",
        "\t\t\"\"\"\n",
        "\t\tMethod to output the characteristics of the yule simon instance\n",
        "        \n",
        "\t\tArgs:\n",
        "\t\t\tnone\n",
        "        \n",
        "\t\tReturns:\n",
        "\t\t\toutput(string): Characteristics of the distribution\n",
        "\t\t\"\"\"\n",
        "\t\treturn \"ρ:{}, Mean:{}, Standard Deviation:{}\".format(self.rho,self.mean,self.stdev)"
      ],
      "execution_count": 2,
      "outputs": []
    },
    {
      "cell_type": "code",
      "metadata": {
        "id": "lWhstS01TxFh"
      },
      "source": [
        "yuleSimonTest = YuleSimon(3)"
      ],
      "execution_count": 3,
      "outputs": []
    },
    {
      "cell_type": "code",
      "metadata": {
        "colab": {
          "base_uri": "https://localhost:8080/"
        },
        "id": "t-_rw0nYSZLO",
        "outputId": "29c8350f-b027-4fbf-967f-6ef4efa2519c"
      },
      "source": [
        "yuleSimonTest"
      ],
      "execution_count": 4,
      "outputs": [
        {
          "output_type": "execute_result",
          "data": {
            "text/plain": [
              "ρ:3, Mean:1.5, Standard Deviation:1.5"
            ]
          },
          "metadata": {
            "tags": []
          },
          "execution_count": 4
        }
      ]
    },
    {
      "cell_type": "code",
      "metadata": {
        "colab": {
          "base_uri": "https://localhost:8080/"
        },
        "id": "CWDW49SfT6Qu",
        "outputId": "1e65c724-1d12-4250-a8b1-9e4b6172034f"
      },
      "source": [
        "yuleSimonTest.pdf(3)"
      ],
      "execution_count": 5,
      "outputs": [
        {
          "output_type": "execute_result",
          "data": {
            "text/plain": [
              "0.05"
            ]
          },
          "metadata": {
            "tags": []
          },
          "execution_count": 5
        }
      ]
    }
  ]
}