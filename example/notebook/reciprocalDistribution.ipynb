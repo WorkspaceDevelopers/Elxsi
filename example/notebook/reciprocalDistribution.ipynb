{
  "nbformat": 4,
  "nbformat_minor": 0,
  "metadata": {
    "colab": {
      "name": "reciprocalDistribution",
      "provenance": [],
      "authorship_tag": "ABX9TyOm6gQbUcJMin5aR8VKIDl6"
    },
    "kernelspec": {
      "name": "python3",
      "display_name": "Python 3"
    },
    "language_info": {
      "name": "python"
    }
  },
  "cells": [
    {
      "cell_type": "code",
      "metadata": {
        "id": "gc_MVJ2EFY4m"
      },
      "source": [
        "\"\"\"\n",
        "General Distribution\n",
        "(General parent class for to act as a base class)\n",
        "\"\"\"\n",
        "# Author: Ashwin Raj <rajashwin733@gmail.com>\n",
        "# License: GNU General Public License v3.0\n",
        "\n",
        "class Distribution:\n",
        "\t\"\"\"\n",
        "\tGeneric Distribution class for calculating probability distribution\n",
        "\tAttributes:\n",
        "\t\t1. mean\n",
        "\t\t2. stdev\n",
        "\t\t3. data\n",
        "\t\"\"\"\n",
        "\tdef __init__(self,mu=0,sigma=1):\n",
        "\t\t#Mean value of the distribution\n",
        "\t\tself.mean = mu\n",
        "\t\t#Sandard deviation of the distribution\n",
        "\t\tself.stdev = sigma\n",
        "\t\t#List of floats extracted from input file\n",
        "\t\tself.data = []\n",
        "\n",
        "\t\n",
        "\tdef read_data_file(self,file_name):\n",
        "\t\t\"\"\"\n",
        "\t\tMethod to read data from a txt file(file_name) and store in self.data.\n",
        "\t\tThe txt file should have one number (float) per line.\n",
        "\n",
        "\t\tArgs:\n",
        "\t\t\tName of the file to read data from.\n",
        "\n",
        "\t\tReturns:\n",
        "\t\t\tNo return value\n",
        "\t\t\"\"\"\n",
        "\t\twith open(file_name) as file:\n",
        "\t\t#file_name: name of the txt file to read data from\n",
        "\t\t\tdata_list = []\n",
        "\t\t\t#Returns one line from the file\n",
        "\t\t\tline = file.readline()\n",
        "\n",
        "\t\t\twhile line:\n",
        "\t\t\t\t#Add data to the list\n",
        "\t\t\t\tdata_list.append(int(line))\n",
        "\t\t\t\tline = file.readline()\n",
        "\n",
        "\t\t#Close the file\n",
        "\t\tfile.close()\n",
        "\t\t#store the data in the class attribute\n",
        "\t\tself.data = data_list"
      ],
      "execution_count": 1,
      "outputs": []
    },
    {
      "cell_type": "code",
      "metadata": {
        "id": "y2nh-v1KFdLw"
      },
      "source": [
        "\"\"\"\n",
        "Reciprocal Distribution\n",
        "(Also known as the Log-Uniform distribution)\n",
        "\"\"\"\n",
        "# Author: Ashwin Raj <rajashwin733@gmail.com>\n",
        "# License: GNU General Public License v3.0\n",
        "\n",
        "import math\n",
        "\n",
        "class Reciprocal(Distribution):\n",
        "\t\"\"\"\n",
        "\tReciprocal distribution class for calculating reciprocal distribution\n",
        "\tReciprocal class inherits from distribution class of generalDistribution.py module\n",
        "\n",
        "\tNotation:\n",
        "\t\tln(X) ∼ U(ln(a),ln(b))\n",
        "\n",
        "\tAttributes:\n",
        "\t\t1. lowerBound\n",
        "\t\t2. upperBound\n",
        "\n",
        "\tParameters:\n",
        "\t\t0 < a < b,\n",
        "\t\ta,b ∈ ℝ\n",
        "\n",
        "\tSupport:\n",
        "\t\t[a,b]\n",
        "\t\"\"\"\n",
        "\tdef __init__(self,lowerBound=1,upperBound=1):\n",
        "\t\t#Default value of a = 1 \n",
        "\t\tself.a = lowerBound\n",
        "\t\t#Default value of b = 1\n",
        "\t\tself.b = upperBound\n",
        "\n",
        "\t\tDistribution.__init__(self,self.calculate_mean(),self.calculate_stdev())\n",
        "\n",
        "\tdef calculate_mean(self):\n",
        "\t\t\"\"\"\n",
        "\t\tMethod to calculate the mean\n",
        "\t\t\n",
        "\t\tArgs:\n",
        "\t\t\tnone\n",
        "\n",
        "\t\tReturns:\n",
        "\t\t\tself.mean(float): Mean of the input dataset\n",
        "\n",
        "\t\tRaises:\n",
        "        \tZeroDivisionError(string): Raised when division by zero\n",
        "        \tValueError(string): Raised when value error occurs\n",
        "\t\t\"\"\"\n",
        "\t\ttry:\n",
        "\t\t\t#Split the expression to calculate mean into two parts for convenience\n",
        "\t\t\tavgNumerator = self.b - self.a\n",
        "\t\t\tavgDenominator = math.log(float(self.b / self.a))\n",
        "\t\t\t\"\"\"\n",
        "\t\t\t\t b - a\n",
        "\t\t\tMean = ---------\n",
        "\t\t\t\tln(b/a)\n",
        "\t\t\t\"\"\"\n",
        "\t\t\tself.mean = avgNumerator / avgDenominator\n",
        "\t\t\treturn self.mean\n",
        "\n",
        "\t\t#If division by zero occurs, raise an error\n",
        "\t\texcept ZeroDivisionError as error:\t\n",
        "\t\t\traise\n",
        "\n",
        "\t\t#If value error occurs, raise an error\n",
        "\t\texcept ValueError as error:\n",
        "\t\t\traise\n",
        "\n",
        "\tdef calculate_stdev(self):\n",
        "\t\t\"\"\"\n",
        "\t\tMethod to calculate the standard deviation\n",
        "\t\t\n",
        "\t\tArgs:\n",
        "\t\t\tnone\n",
        "\n",
        "\t\tReturns:\n",
        "\t\t\tself.stdev(float): Standard deviation of the input dataset\n",
        "\n",
        "\t\tRaises:\n",
        "\t\t\tZeroDivisionError(string): Raised when division by zero\n",
        "\t\t\tValueError(string): Raised when value error occurs\n",
        "\t\t\"\"\"\n",
        "\t\ttry:\n",
        "\t\t\t#Split the expression to calculate variance into two parts for convenience\n",
        "\t\t\tvarNumerator = (self.b ** 2) - (self.a ** 2)\n",
        "\t\t\tvarDenominator = 2 * math.log(float(self.b / self.a))\n",
        "\t\t\t\"\"\"\n",
        "\t\t\t\t    b^(2) - a^(2)       b - a\n",
        "\t\t\tVariance = --------------- - (---------)^(2)\n",
        "\t\t\t\t      2 ln(b/a)\t       ln(b/a)\n",
        "\t\t\t\"\"\"\n",
        "\t\t\tvariance = (varNumerator / varDenominator) - (self.mean ** 2)\n",
        "\n",
        "\t\t\t#Standard deviation = sqrt(variance)\n",
        "\t\t\tself.stdev = math.sqrt(variance)\n",
        "\t\t\treturn self.stdev\n",
        "\n",
        "\t\t#If division by zero occurs, raise an error\n",
        "\t\texcept ZeroDivisionError as error:\t\n",
        "\t\t\traise\n",
        "\n",
        "\t\t#If value error occurs, raise an error\n",
        "\t\texcept ValueError as error:\n",
        "\t\t\traise\n",
        "\n",
        "\tdef pdf(self,x):\n",
        "\t\t\"\"\"\n",
        "\t\tMethod to calculate probability density function for reciprocal distribution\n",
        "        \n",
        "\t\tArgs:\n",
        "\t\t\tx(float): Random variable\n",
        "\n",
        "\t\tReturns:\n",
        "\t\t\tpdf(float): Probability density function for reciprocal distribution\n",
        "\n",
        "\t\tRaises:\n",
        "\t\t\tZeroDivisionError(string): Raised when division by zero\n",
        "\t\t\tValueError(string): Raised when value error occurs\n",
        "\t\t\"\"\"\n",
        "\t\ttry:\n",
        "\t\t\t\"\"\"\n",
        "\t\t\t\t\t1\n",
        "\t\t\tf(x;a,b) = -----------, for a ≤ x ≤ b and, a > 0\n",
        "\t\t\t\t    x ln(b/a)\n",
        "\t\t\t\"\"\"\n",
        "\t\t\treturn 1 / (x * math.log(float(self.b / self.a)))\n",
        "\n",
        "\t\t#If division by zero occurs, raise an error\n",
        "\t\texcept ZeroDivisionError as error:\t\n",
        "\t\t\traise\n",
        "\n",
        "\t\t#If value error occurs, raise an error\n",
        "\t\texcept ValueError as error:\n",
        "\t\t\traise\n",
        "\n",
        "\tdef __repr__(self):\n",
        "\t\t\"\"\"\n",
        "\t\tMethod to output the characteristics of the reciprocal instance\n",
        "        \n",
        "\t\tArgs:\n",
        "\t\t\tnone\n",
        "        \n",
        "\t\tReturns:\n",
        "\t\t\toutput(string): Characteristics of the distribution\n",
        "\t\t\"\"\"\n",
        "\t\treturn \"a:{}, b:{}, Mean:{}, Standard Deviation:{}\".format(self.a,self.b,self.mean,self.stdev)"
      ],
      "execution_count": 2,
      "outputs": []
    },
    {
      "cell_type": "code",
      "metadata": {
        "id": "Z5DXuE5sHCvY"
      },
      "source": [
        "reciprocalTest = Reciprocal(2,3)"
      ],
      "execution_count": 3,
      "outputs": []
    },
    {
      "cell_type": "code",
      "metadata": {
        "colab": {
          "base_uri": "https://localhost:8080/"
        },
        "id": "DhfFjGthHUs1",
        "outputId": "ca6e4ddf-1d6f-4231-d156-092f1f3cecc5"
      },
      "source": [
        "reciprocalTest"
      ],
      "execution_count": 4,
      "outputs": [
        {
          "output_type": "execute_result",
          "data": {
            "text/plain": [
              "a:2, b:3, Mean:2.4663034623764317, Standard Deviation:0.28828091752855295"
            ]
          },
          "metadata": {
            "tags": []
          },
          "execution_count": 4
        }
      ]
    },
    {
      "cell_type": "code",
      "metadata": {
        "colab": {
          "base_uri": "https://localhost:8080/"
        },
        "id": "-BkdKM9kHXol",
        "outputId": "0b13ef2e-0cef-41d7-e316-4560b1de72dd"
      },
      "source": [
        "reciprocalTest.pdf(3)"
      ],
      "execution_count": 5,
      "outputs": [
        {
          "output_type": "execute_result",
          "data": {
            "text/plain": [
              "0.8221011541254772"
            ]
          },
          "metadata": {
            "tags": []
          },
          "execution_count": 5
        }
      ]
    }
  ]
}