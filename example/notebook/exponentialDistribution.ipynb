{
  "nbformat": 4,
  "nbformat_minor": 0,
  "metadata": {
    "colab": {
      "name": "exponentialDistribution",
      "provenance": [],
      "collapsed_sections": [],
      "authorship_tag": "ABX9TyMoTLskHYccqCCsbjMkoCoF"
    },
    "kernelspec": {
      "name": "python3",
      "display_name": "Python 3"
    },
    "language_info": {
      "name": "python"
    }
  },
  "cells": [
    {
      "cell_type": "code",
      "metadata": {
        "id": "7jk4aHi-WLu0"
      },
      "source": [
        "\"\"\"\n",
        "General Distribution\n",
        "(General parent class for to act as a base class)\n",
        "\"\"\"\n",
        "# Author: Ashwin Raj <rajashwin733@gmail.com>\n",
        "# License: GNU General Public License v3.0\n",
        "\n",
        "class Distribution:\n",
        "\t\"\"\"\n",
        "\tGeneric Distribution class for calculating probability distribution\n",
        "\tAttributes:\n",
        "\t\t1. mean\n",
        "\t\t2. stdev\n",
        "\t\t3. data\n",
        "\t\"\"\"\n",
        "\tdef __init__(self,mu=0,sigma=1):\n",
        "\t\t#Mean value of the distribution\n",
        "\t\tself.mean = mu\n",
        "\t\t#Sandard deviation of the distribution\n",
        "\t\tself.stdev = sigma\n",
        "\t\t#List of floats extracted from input file\n",
        "\t\tself.data = []\n",
        "\n",
        "\t\n",
        "\tdef read_data_file(self,file_name):\n",
        "\t\t\"\"\"\n",
        "\t\tMethod to read data from a txt file(file_name) and store in self.data.\n",
        "\t\tThe txt file should have one number (float) per line.\n",
        "\n",
        "\t\tArgs:\n",
        "\t\t\tName of the file to read data from.\n",
        "\n",
        "\t\tReturns:\n",
        "\t\t\tNo return value\n",
        "\t\t\"\"\"\n",
        "\t\twith open(file_name) as file:\n",
        "\t\t#file_name: name of the txt file to read data from\n",
        "\t\t\tdata_list = []\n",
        "\t\t\t#Returns one line from the file\n",
        "\t\t\tline = file.readline()\n",
        "\n",
        "\t\t\twhile line:\n",
        "\t\t\t\t#Add data to the list\n",
        "\t\t\t\tdata_list.append(int(line))\n",
        "\t\t\t\tline = file.readline()\n",
        "\n",
        "\t\t#Close the file\n",
        "\t\tfile.close()\n",
        "\t\t#store the data in the class attribute\n",
        "\t\tself.data = data_list"
      ],
      "execution_count": 1,
      "outputs": []
    },
    {
      "cell_type": "code",
      "metadata": {
        "id": "p4E1QjELetR5"
      },
      "source": [
        "\"\"\"\n",
        "Exponential Distribution\n",
        "\"\"\"\n",
        "# Author: Ashwin Raj <rajashwin733@gmail.com>\n",
        "# License: GNU General Public License v3.0\n",
        "\n",
        "import math\n",
        "\n",
        "class Exponential(Distribution):\n",
        "\t\"\"\"\n",
        "\tExponential distribution class for calculating exponential distribution\n",
        "\tExponential class inherits from distribution class of generalDistribution.py module\n",
        "\n",
        "\tNotation:\n",
        "\t\tX ~ Exp(λ)\n",
        "\n",
        "\tAttributes:\n",
        "\t\t1. lamda (rate parameter)\n",
        "\n",
        "\tParameters:\n",
        "\t\tλ > 0, rate, or inverse scale\n",
        "\n",
        "\tSupport:\n",
        "\t\tx ∈ [0,∞)\n",
        "\t\"\"\"\n",
        "\tdef __init__(self,rateParameter = 1):\n",
        "\t\t#Default value of lamda = 1\n",
        "\t\tself.lamda = rateParameter\n",
        "\n",
        "\t\tDistribution.__init__(self,self.calculate_mean(),self.calculate_stdev())\n",
        "\n",
        "\tdef calculate_mean(self):\n",
        "\t\t\"\"\"\n",
        "\t\tMethod to calculate the mean\n",
        "        \n",
        "\t\tArgs: \n",
        "\t\t\tnone\n",
        "        \n",
        "\t\tReturns: \n",
        "\t\t\tself.mean(float): Mean of the data set\n",
        "\n",
        "\t\tRaises:\n",
        "\t\t\tZeroDivisionError(string): Raised when division by zero\n",
        "\t\t\"\"\"\n",
        "\t\ttry:\n",
        "\t\t\t#Mean = 1/λ\n",
        "\t\t\tself.mean = 1.0 * (1 / self.lamda)\n",
        "\t\t\treturn self.mean\n",
        "\n",
        "\t\t#If divided by zero, raise an error\n",
        "\t\texcept ZeroDivisionError as error:\n",
        "\t\t\traise\n",
        "\n",
        "\tdef calculate_stdev(self):\n",
        "\t\t\"\"\"\n",
        "\t\tMethod to calculate the standard deviation\n",
        "        \n",
        "\t\tArgs: \n",
        "\t\t\tnone\n",
        "        \n",
        "\t\tReturns: \n",
        "\t\t\tself.stdev(float): Standard deviation of the data set\n",
        "\n",
        "\t\tRaises:\n",
        "\t\t\tZeroDivisionError(string): Raised when division by zero\n",
        "\t\t\"\"\"\n",
        "\t\ttry:\n",
        "\t\t\t#Standard deviation = 1/λ\n",
        "\t\t\tself.stdev = 1.0 * (1 / self.lamda)\n",
        "\t\t\treturn self.stdev\n",
        "\t\t\t\n",
        "\t\t#If divided by zero, raise an error\n",
        "\t\texcept ZeroDivisionError as error:\t\n",
        "\t\t\traise\n",
        "\n",
        "\tdef pdf(self,x):\n",
        "\t\t\"\"\"\n",
        "\t\tMethod to calculate probability density function for exponential distribution\n",
        "\n",
        "\t\tArgs:\n",
        "\t\t\tx(float): Random variable\n",
        "\n",
        "\t\tReturns:\n",
        "\t\t\tself.lamda(float): Probability density function for exponential distribution\n",
        "\t\t\"\"\"\n",
        "\t\t#For random variable less than zero\n",
        "\t\tif x < 0:\n",
        "\t\t\treturn 0\n",
        "\n",
        "\t\t#Otherwise,\n",
        "\t\telse:\n",
        "\t\t\tpower = -1.0 * self.lamda * x\n",
        "\t\t\t\"\"\"\n",
        "\t\t\tf(x;λ) = λ e^(-λ/x)\n",
        "\t\t\t\"\"\"\n",
        "\t\t\treturn self.lamda * math.exp(power)\n",
        "\n",
        "\tdef __add__(self,other):\n",
        "\t\t\"\"\"\n",
        "\t\tMethod to add together two exponential distributions with equal p\n",
        "        \n",
        "\t\tArgs:\n",
        "\t\t\tother(exponential distribution): Exponential instance\n",
        "            \n",
        "\t\tReturns:\n",
        "\t\t\tresult(exponential distribution): Sum of eponential distribution\n",
        "\t\t\"\"\"\n",
        "\t\tresult = Exponential()\n",
        "\n",
        "\t\t#Calculate the sum of the rate parameter of the two exponential instances\n",
        "\t\tresult.lamda = self.lamda + other.lamda\n",
        "\t\t\n",
        "\t\t#Calculate the mean and standard deviation of the result\n",
        "\t\tresult.calculate_mean()\n",
        "\t\tresult.calculate_stdev()\n",
        "\t\treturn result\n",
        "\n",
        "\tdef __repr__(self):\n",
        "\t\t\"\"\"\n",
        "\t\tMethod to output the characteristics of the exponential instance\n",
        "        \n",
        "\t\tArgs:\n",
        "\t\t\tnone\n",
        "        \n",
        "\t\tReturns:\n",
        "\t\t\toutput(string): Characteristics of the distribution\n",
        "\t\t\"\"\"\n",
        "\t\treturn \"lamda: {}, mean: {}, standard deviation: {}\".format(self.lamda,self.mean,self.stdev)"
      ],
      "execution_count": 2,
      "outputs": []
    },
    {
      "cell_type": "code",
      "metadata": {
        "id": "L4Lmfqp0e-f_"
      },
      "source": [
        "testExponential = Exponential(2)"
      ],
      "execution_count": 3,
      "outputs": []
    },
    {
      "cell_type": "code",
      "metadata": {
        "colab": {
          "base_uri": "https://localhost:8080/"
        },
        "id": "N1VdgYWBfGsJ",
        "outputId": "e84ad6bc-fa59-430b-d700-4017bb397b12"
      },
      "source": [
        "testExponential"
      ],
      "execution_count": 4,
      "outputs": [
        {
          "output_type": "execute_result",
          "data": {
            "text/plain": [
              "lamda: 2, mean: 0.5, standard deviation: 0.5"
            ]
          },
          "metadata": {
            "tags": []
          },
          "execution_count": 4
        }
      ]
    },
    {
      "cell_type": "code",
      "metadata": {
        "colab": {
          "base_uri": "https://localhost:8080/"
        },
        "id": "Cj-89S-5fLdD",
        "outputId": "a13a4365-4a3b-43e6-ba6d-d1eea5ccc2c2"
      },
      "source": [
        "testExponential.pdf(3)"
      ],
      "execution_count": 5,
      "outputs": [
        {
          "output_type": "execute_result",
          "data": {
            "text/plain": [
              "0.004957504353332717"
            ]
          },
          "metadata": {
            "tags": []
          },
          "execution_count": 5
        }
      ]
    }
  ]
}