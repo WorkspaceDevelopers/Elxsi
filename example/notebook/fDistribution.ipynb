{
  "nbformat": 4,
  "nbformat_minor": 0,
  "metadata": {
    "colab": {
      "name": "fDistribution",
      "provenance": [],
      "authorship_tag": "ABX9TyPnrtvByu1SoouD3FAfp4CU"
    },
    "kernelspec": {
      "name": "python3",
      "display_name": "Python 3"
    },
    "language_info": {
      "name": "python"
    }
  },
  "cells": [
    {
      "cell_type": "code",
      "metadata": {
        "id": "0bSAfyjliITu"
      },
      "source": [
        "\"\"\"\n",
        "General Distribution\n",
        "(General parent class for to act as a base class)\n",
        "\"\"\"\n",
        "# Author: Ashwin Raj <rajashwin733@gmail.com>\n",
        "# License: GNU General Public License v3.0\n",
        "\n",
        "class Distribution:\n",
        "\t\"\"\"\n",
        "\tGeneric Distribution class for calculating probability distribution\n",
        "\tAttributes:\n",
        "\t\t1. mean\n",
        "\t\t2. stdev\n",
        "\t\t3. data\n",
        "\t\"\"\"\n",
        "\tdef __init__(self,mu=0,sigma=1):\n",
        "\t\t#Mean value of the distribution\n",
        "\t\tself.mean = mu\n",
        "\t\t#Sandard deviation of the distribution\n",
        "\t\tself.stdev = sigma\n",
        "\t\t#List of floats extracted from input file\n",
        "\t\tself.data = []\n",
        "\n",
        "\t\n",
        "\tdef read_data_file(self,file_name):\n",
        "\t\t\"\"\"\n",
        "\t\tMethod to read data from a txt file(file_name) and store in self.data.\n",
        "\t\tThe txt file should have one number (float) per line.\n",
        "\n",
        "\t\tArgs:\n",
        "\t\t\tName of the file to read data from.\n",
        "\n",
        "\t\tReturns:\n",
        "\t\t\tNo return value\n",
        "\t\t\"\"\"\n",
        "\t\twith open(file_name) as file:\n",
        "\t\t#file_name: name of the txt file to read data from\n",
        "\t\t\tdata_list = []\n",
        "\t\t\t#Returns one line from the file\n",
        "\t\t\tline = file.readline()\n",
        "\n",
        "\t\t\twhile line:\n",
        "\t\t\t\t#Add data to the list\n",
        "\t\t\t\tdata_list.append(int(line))\n",
        "\t\t\t\tline = file.readline()\n",
        "\n",
        "\t\t#Close the file\n",
        "\t\tfile.close()\n",
        "\t\t#store the data in the class attribute\n",
        "\t\tself.data = data_list"
      ],
      "execution_count": 1,
      "outputs": []
    },
    {
      "cell_type": "code",
      "metadata": {
        "id": "667LkiOniTkA"
      },
      "source": [
        "\"\"\"\n",
        "F Distribution\n",
        "(Also known as Snedecor's F Distribution or the Fisher–Snedecor Distribution)\n",
        "\"\"\"\n",
        "# Author: Ashwin Raj <rajashwin733@gmail.com>\n",
        "# License: GNU General Public License v3.0\n",
        "\n",
        "import math\n",
        "\n",
        "class F(Distribution):\n",
        "\t\"\"\"\n",
        "\tF distribution class for calculating F distribution\n",
        "\tF class inherits from distribution class of generalDistribution.py module\n",
        "\n",
        "\tNotation:\n",
        "\t\tX ∼ F(d1,d2)\n",
        "\n",
        "\tAttributes:\n",
        "\t\t1. d1 (degree of freedom)\n",
        "\t\t2. d2 (degree of freedom)\n",
        "\n",
        "\tParameters:\n",
        "\t\td1,d2 > 0 deg. of freedom\n",
        "\n",
        "\tSupport:\n",
        "\t\tx ∈ (0,+∞), if d1 = 1\n",
        "\t\tx ∈ [0,+∞), otherwise\n",
        "\t\"\"\"\n",
        "\tdef __init__(self,degreeOfFreedomD1=4,degreeOfFreedomD2=4):\n",
        "\t\t#Default value of d1 = 4\n",
        "\t\tself.d1 = degreeOfFreedomD1\n",
        "\t\t#Default value of d2 = 4\n",
        "\t\tself.d2 = degreeOfFreedomD2\n",
        "\n",
        "\t\tDistribution.__init__(self,self.calculate_mean(),self.calculate_stdev())\n",
        "\n",
        "\tdef calculate_mean(self):\n",
        "\t\t\"\"\"\n",
        "\t\tMethod to calculate the mean\n",
        "\t\t\n",
        "\t\tArgs:\n",
        "\t\t\tnone\n",
        "\n",
        "\t\tReturns:\n",
        "\t\t\tself.mean(float): Mean of the input dataset\n",
        "\n",
        "\t\tRaises:\n",
        "\t\t\tZeroDivisionError(string): Raised when division by zero\n",
        "\t\t\"\"\"\n",
        "\t\ttry:\n",
        "\t\t\t\"\"\"\n",
        "\t\t\t\t  d2\n",
        "\t\t\tmean = --------, for d2>2\n",
        "\t\t\t\td2 - 2\n",
        "\t\t\t\"\"\"\n",
        "\t\t\tself.mean = self.d2 / (self.d2 - 2)\n",
        "\t\t\treturn self.mean\n",
        "\n",
        "\t\t#If division by zero occurs, raise an error\n",
        "\t\texcept ZeroDivisionError as error:\t\n",
        "\t\t\traise\n",
        "\n",
        "\tdef calculate_stdev(self):\n",
        "\t\t\"\"\"\n",
        "\t\tMethod to calculate the standard deviation\n",
        "        \n",
        "\t\tArgs: \n",
        "\t\t\tnone\n",
        "        \n",
        "\t\tReturns: \n",
        "\t\t\tself.stdev(float): Standard deviation of the data set\n",
        "\n",
        "\t\tRaises:\n",
        "\t\t\tZeroDivisionError(string): Raised when division by zero\n",
        "\t\t\tValueError(string): Raised when value error occurs\n",
        "\t\t\"\"\"\n",
        "\t\ttry:\n",
        "\t\t\t#Numerator of the variance\n",
        "\t\t\tvarNumerator = (2 * (self.d2) ** 2) * (self.d1 + self.d2 - 2)\n",
        "\t\t\t#Denominator of the variance\n",
        "\t\t\tvarDenominator = (self.d1 * ((self.d2 - 2) ** 2) * (self.d2 - 4))\n",
        "\t\t\t\"\"\"\n",
        "\t\t\t\t     2d2^(2) (d1+d2-2)\n",
        "\t\t\tVariance = ---------------------, for d2>4\n",
        "\t\t\t\t    d1(d2-2)^(2) (d2-4)\n",
        "\t\t\t\"\"\"\n",
        "\t\t\tvariance = varNumerator / varDenominator\n",
        "\n",
        "\t\t\t#Standard deviation = sqrt(variance)\n",
        "\t\t\tself.stdev = math.sqrt(variance)\n",
        "\t\t\treturn self.stdev\n",
        "\n",
        "\t\t#If division by zero occurs, raise an error\n",
        "\t\texcept ZeroDivisionError as error:\t\n",
        "\t\t\traise\n",
        "\n",
        "\t\t#If value error occurs, raise an error\n",
        "\t\texcept ValueError as error:\n",
        "\t\t\traise\n",
        "\n",
        "\tdef pdf(self,x):\n",
        "\t\t\"\"\"\n",
        "\t\tMethod to calculate probability density function for F distribution\n",
        "        \n",
        "\t\tArgs:\n",
        "\t\t\tx(float): Random variable\n",
        "\n",
        "\t\tReturns:\n",
        "\t\t\tpdf(float): Probability density function for F distribution\n",
        "\n",
        "\t\tRaises:\n",
        "\t\t\tZeroDivisionError(string): Raised when division by zero\n",
        "\t\t\tValueError(string): Raised when value error occurs\n",
        "\t\t\"\"\"\n",
        "\t\ttry:\n",
        "\t\t\t#Numerator of the pdf\n",
        "\t\t\tpdfNumerator = math.gamma((self.d1 + self.d2) / 2) * ((self.d1 / self.d2) ** (self.d1 / 2)) * (x ** ((self.d1 / 2) - 1))\n",
        "\t\t\t#Denominator of the pdf\n",
        "\t\t\tpdfDenominator = math.gamma(self.d1 / 2) * math.gamma(self.d2 / 2) * (1 + ((self.d1 * x) / self.d2)) ** ((self.d1 + self.d2) / 2)\n",
        "\t\t\t\"\"\"\n",
        "\t\t\t\t\tΓ(d1+d2 / 2) (d1/d2)^(d1/2) x^(d1/2 - 1)\n",
        "\t\t\tf(x;d1,d2) = ----------------------------------------------, x>0\n",
        "\t\t\t\t\tΓ(d1/2) Γ(d2/2) (1 + d1x/d2)^(d1+d2 / 2)\n",
        "\t\t\t\"\"\"\n",
        "\t\t\treturn pdfNumerator / pdfDenominator\n",
        "\n",
        "\t\t#If division by zero occurs, raise an error\n",
        "\t\texcept ZeroDivisionError as error:\t\n",
        "\t\t\traise\n",
        "\n",
        "\t\t#If value error occurs, raise an error\n",
        "\t\texcept ValueError as error:\n",
        "\t\t\traise\n",
        "\n",
        "\tdef __repr__(self):\n",
        "\t\t\"\"\"\n",
        "\t\tMethod to output the characteristics of the F instance\n",
        "        \n",
        "\t\tArgs:\n",
        "\t\t\tnone\n",
        "        \n",
        "\t\tReturns:\n",
        "\t\t\toutput(string): Characteristics of the distribution\n",
        "\t\t\"\"\"\n",
        "\t\treturn \"d1: {}, d2: {}, Mean: {}, Standard Deviation: {}\".format(self.d1,self.d2,self.mean,self.stdev)"
      ],
      "execution_count": 2,
      "outputs": []
    },
    {
      "cell_type": "code",
      "metadata": {
        "id": "9igF76VQiTmc"
      },
      "source": [
        "fTest = F(5,6)"
      ],
      "execution_count": 3,
      "outputs": []
    },
    {
      "cell_type": "code",
      "metadata": {
        "colab": {
          "base_uri": "https://localhost:8080/"
        },
        "id": "fHE-J0JclckS",
        "outputId": "89df817f-9756-4ca9-8b56-8fd774b4ad55"
      },
      "source": [
        "fTest"
      ],
      "execution_count": 4,
      "outputs": [
        {
          "output_type": "execute_result",
          "data": {
            "text/plain": [
              "d1: 5, d2: 6, Mean: 1.5, Standard Deviation: 2.0124611797498106"
            ]
          },
          "metadata": {
            "tags": []
          },
          "execution_count": 4
        }
      ]
    },
    {
      "cell_type": "code",
      "metadata": {
        "id": "HPMdiM8GlhNt",
        "colab": {
          "base_uri": "https://localhost:8080/"
        },
        "outputId": "c6f6c464-4c59-4cf6-8763-875951d05d5e"
      },
      "source": [
        "fTest.pdf(3)"
      ],
      "execution_count": 5,
      "outputs": [
        {
          "output_type": "execute_result",
          "data": {
            "text/plain": [
              "0.0660001760772998"
            ]
          },
          "metadata": {
            "tags": []
          },
          "execution_count": 5
        }
      ]
    }
  ]
}