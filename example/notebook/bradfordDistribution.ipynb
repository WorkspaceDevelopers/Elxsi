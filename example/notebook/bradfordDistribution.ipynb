{
  "nbformat": 4,
  "nbformat_minor": 0,
  "metadata": {
    "colab": {
      "name": "bradfordDistribution",
      "provenance": [],
      "collapsed_sections": [],
      "authorship_tag": "ABX9TyPTznB0V1chV2X6CmOwc8y6"
    },
    "kernelspec": {
      "name": "python3",
      "display_name": "Python 3"
    },
    "language_info": {
      "name": "python"
    }
  },
  "cells": [
    {
      "cell_type": "code",
      "metadata": {
        "id": "iP9VzbzeNa7E"
      },
      "source": [
        "\"\"\"\n",
        "General Distribution\n",
        "(General parent class for to act as a base class)\n",
        "\"\"\"\n",
        "# Author: Ashwin Raj <rajashwin733@gmail.com>\n",
        "# License: GNU General Public License v3.0\n",
        "\n",
        "class Distribution:\n",
        "\t\"\"\"\n",
        "\tGeneric Distribution class for calculating probability distribution\n",
        "\tAttributes:\n",
        "\t\t1. mean\n",
        "\t\t2. stdev\n",
        "\t\t3. data\n",
        "\t\"\"\"\n",
        "\tdef __init__(self,mu=0,sigma=1):\n",
        "\t\t#Mean value of the distribution\n",
        "\t\tself.mean = mu\n",
        "\t\t#Sandard deviation of the distribution\n",
        "\t\tself.stdev = sigma\n",
        "\t\t#List of floats extracted from input file\n",
        "\t\tself.data = []\n",
        "\n",
        "\t\n",
        "\tdef read_data_file(self,file_name):\n",
        "\t\t\"\"\"\n",
        "\t\tMethod to read data from a txt file(file_name) and store in self.data.\n",
        "\t\tThe txt file should have one number (float) per line.\n",
        "\n",
        "\t\tArgs:\n",
        "\t\t\tName of the file to read data from.\n",
        "\n",
        "\t\tReturns:\n",
        "\t\t\tNo return value\n",
        "\t\t\"\"\"\n",
        "\t\twith open(file_name) as file:\n",
        "\t\t#file_name: name of the txt file to read data from\n",
        "\t\t\tdata_list = []\n",
        "\t\t\t#Returns one line from the file\n",
        "\t\t\tline = file.readline()\n",
        "\n",
        "\t\t\twhile line:\n",
        "\t\t\t\t#Add data to the list\n",
        "\t\t\t\tdata_list.append(int(line))\n",
        "\t\t\t\tline = file.readline()\n",
        "\n",
        "\t\t#Close the file\n",
        "\t\tfile.close()\n",
        "\t\t#store the data in the class attribute\n",
        "\t\tself.data = data_list"
      ],
      "execution_count": 1,
      "outputs": []
    },
    {
      "cell_type": "code",
      "metadata": {
        "id": "NnnjGGrENcgk"
      },
      "source": [
        "\"\"\"\n",
        "Bradford Distribution\n",
        "(Also known as the Bradford Law of Scattering)\n",
        "\"\"\"\n",
        "# Author: Ashwin Raj <rajashwin733@gmail.com>\n",
        "# License: GNU General Public License v3.0\n",
        "\n",
        "import math\n",
        "\n",
        "class Bradford(Distribution):\n",
        "\t\"\"\"\n",
        "\tBradford distribution class for calculating bradford distribution\n",
        "\tBradford class inherits from distribution class of generalDistribution.py module\n",
        "\n",
        "\tNotation:\n",
        "\t\tX ~ Bradford(θ,min,max)\n",
        "\n",
        "\tAttributes:\n",
        "\t\t1. θ (theta)\n",
        "\t\t2. min (minimum value)\n",
        "\t\t3. max (maximum value)\n",
        "\n",
        "\tParameters:\n",
        "\t\t0 < θ, min < max\n",
        "\n",
        "\tSupport:\n",
        "\t\tmin <= x <= max \n",
        "\t\"\"\"\t\n",
        "\tdef __init__(self,theta=0,minVal=1,maxVal=1):\n",
        "\t\t#Default value of theta = 0\n",
        "\t\tself.theta = theta\n",
        "\t\t#Default value of min = 1\n",
        "\t\tself.min = minVal\n",
        "\t\t#Default value of max = 1\n",
        "\t\tself.max = maxVal\n",
        "\n",
        "\t\tDistribution.__init__(self,self.calculate_mean(),self.calculate_stdev())\n",
        "\n",
        "\tdef calculate_mean(self):\n",
        "\t\t\"\"\"\n",
        "\t\tMethod to calculate the mean of the input dataset\n",
        "\t\t\n",
        "\t\tArgs:\n",
        "\t\t\tnone\n",
        "\n",
        "\t\tReturns:\n",
        "\t\t\tself.mean(float): Mean of the input dataset\n",
        "\n",
        "\t\tRaises:\n",
        "\t\t\tZeroDivisionError(string): Raised when division by zero\n",
        "\t\t\tValueError(string): Raised when value error occurs\n",
        "\t\t\"\"\"\n",
        "\t\ttry:\n",
        "\t\t\t#k = log(θ + 1)\n",
        "\t\t\tk = math.log(self.theta + 1)\n",
        "\n",
        "\t\t\t#Divided the formulae for mean into 2 parts: avgNumerator and avgDenominator\n",
        "\t\t\tavgNumerator = (self.theta * (self.max - self.min)) + (k * ((self.min * (self.theta + 1)) - self.max))\n",
        "\t\t\tavgDenominator = self.theta * k\n",
        "\t\t\t\"\"\"\n",
        "\t\t\t\tθ(max - min) + k[min(θ + 1) - max]\n",
        "\t\t\tMean = ------------------------------------\n",
        "\t\t\t\t\t     θk\n",
        "\t\t\t\"\"\"\n",
        "\t\t\tself.mean = avgNumerator / avgDenominator\n",
        "\t\t\treturn self.mean\n",
        "\n",
        "\t\t#If division by zero occurs, raise an error\n",
        "\t\texcept ZeroDivisionError as error:\t\n",
        "\t\t\traise\n",
        "\n",
        "\t\t#If value error occurs, raise an error\n",
        "\t\texcept ValueError as error:\n",
        "\t\t\traise\n",
        "\n",
        "\tdef calculate_stdev(self):\n",
        "\t\t\"\"\"\n",
        "\t\tMethod to calculate the standard deviation of the input dataset\n",
        "\t\t\n",
        "\t\tArgs:\n",
        "\t\t\tnone\n",
        "\n",
        "\t\tReturns:\n",
        "\t\t\tself.stdev(float): Standard deviation of the input dataset\n",
        "\n",
        "\t\tRaises:\n",
        "\t\t\tZeroDivisionError(string): Raised when division by zero\n",
        "\t\t\tValueError(string): Raised when value error occurs\n",
        "\t\t\"\"\"\n",
        "\t\ttry:\n",
        "\t\t\t#k = log(θ + 1)\n",
        "\t\t\tk = math.log(self.theta + 1)\n",
        "\n",
        "\t\t\t#Divided the formulae for mean into 2 parts: varNumerator and varDenominator\n",
        "\t\t\tvarNumerator = ((self.max - self.min)**2) *((self.theta * (k - 2)) + (2 * k))\n",
        "\t\t\tvarDenominator = 2 * self.theta * (k)**2\n",
        "\t\t\t\"\"\"\n",
        "\t\t\t\t\t\t     (max - min)^2 + [θ(k - 2) + 2k]\n",
        "\t\t\tStandard deviation =  sqrt  [-------------------------------]\n",
        "\t\t\t\t\t\t\t         2θk^2\n",
        "\t\t\t\"\"\"\n",
        "\t\t\tvariance = varNumerator / varDenominator\n",
        "\n",
        "\t\t\t#Standard deviation = sqrt(variance)\n",
        "\t\t\tself.stdev = math.sqrt(variance)\n",
        "\n",
        "\t\t#If division by zero occurs, raise an error\n",
        "\t\texcept ZeroDivisionError as error:\t\n",
        "\t\t\traise\n",
        "\n",
        "\t\t#If value error occurs, raise an error\n",
        "\t\texcept ValueError as error:\n",
        "\t\t\traise\n",
        "\n",
        "\tdef pdf(self,x):\n",
        "\t\t\"\"\"\n",
        "\t\tMethod to calculate probability density function for bradford distribution\n",
        "\t        \n",
        "\t\tArgs:\n",
        "\t\t\tx(float): Random variable\n",
        "\n",
        "\t\tReturns:\n",
        "\t\t\tpdf(float): Probability density function for bradford distribution\n",
        "\n",
        "\t\tRaises:\n",
        "\t\t\tZeroDivisionError(string): Raised when division by zero\n",
        "\t\t\tValueError(string): Raised when value error occurs\n",
        "\t\t\"\"\"\n",
        "\t\ttry:\n",
        "\t\t\t#Divided the formulae for mean into 2 parts: pdfNumerator and pdfDenominator\n",
        "\t\t\tpdfNumerator = self.theta\n",
        "\t\t\tpdfDenominator = ((self.theta * (x - self.min)) + self.max -self.min) * math.log(self.theta + 1)\n",
        "\t\t\t\"\"\"\n",
        "\t\t\t\t\t\t\t       θ\n",
        "\t\t\tStandard deviation =  ----------------------------------\n",
        "\t\t\t\t\t      (θ(x - min) + max - min)log(θ + 1) \n",
        "\t\t\t\"\"\"\n",
        "\t\t\treturn pdfNumerator / pdfDenominator\n",
        "\n",
        "\t\t#If division by zero occurs, raise an error\n",
        "\t\texcept ZeroDivisionError as error:\t\n",
        "\t\t\traise\n",
        "\n",
        "\t\t#If value error occurs, raise an error\n",
        "\t\texcept ValueError as error:\n",
        "\t\t\traise\n",
        "\n",
        "\n",
        "\tdef __add__(self,other):\n",
        "\t\t\"\"\"\n",
        "\t\tMethod to add together two bradford distributions with equal p\n",
        "        \n",
        "\t\tArgs:\n",
        "\t\t\tother(bradford distribution): Bradford instance\n",
        "            \n",
        "\t\tReturns:\n",
        "\t\t\tresult(bradford distribution): Sum of bradford distribution\n",
        "\t\t\"\"\"\n",
        "\t\tresult = Bradford()\n",
        "\n",
        "\t\t#Calculate the value of theta, min and max of the two bradford instances\n",
        "\t\tresult.theta = self.theta + other.theta\n",
        "\t\tresult.min = self.min + other.min\n",
        "\t\tresult.max = self.max + other.max\n",
        "\n",
        "\t\t#Calculate the mean and standard deviation of the resultant bradford instances\n",
        "\t\tresult.calculate_mean()\n",
        "\t\tresult.calculate_stdev()\n",
        "\t\treturn result\n",
        "\n",
        "\tdef __repr__(self):\n",
        "\t\t\"\"\"\n",
        "\t\tMethod to output the characteristics of the bradford instance\n",
        "\n",
        "\t\tArgs:\n",
        "\t\t\tnone\n",
        "        \n",
        "\t\tReturns:\n",
        "\t\t\toutput(string): Characteristics of the distribution\n",
        "\t\t\"\"\"\n",
        "\t\treturn \"θ: {}, Min: {}, Max: {}, Mean: {}, Standard Deviation: {}\".format(self.theta,self.min,self.max,self.mean,self.stdev)"
      ],
      "execution_count": 2,
      "outputs": []
    },
    {
      "cell_type": "code",
      "metadata": {
        "id": "wv8mHFy_Nrjk"
      },
      "source": [
        "testBradford = Bradford(1,2,3)"
      ],
      "execution_count": 3,
      "outputs": []
    },
    {
      "cell_type": "code",
      "metadata": {
        "colab": {
          "base_uri": "https://localhost:8080/"
        },
        "id": "ypQG2_b7Ny2v",
        "outputId": "ae152df2-c1d4-4080-9370-012ab3a21a35"
      },
      "source": [
        "testBradford"
      ],
      "execution_count": 4,
      "outputs": [
        {
          "output_type": "execute_result",
          "data": {
            "text/plain": [
              "θ: 1, Min: 2, Max: 3, Mean: 2.442695040888964, Standard Deviation: None"
            ]
          },
          "metadata": {
            "tags": []
          },
          "execution_count": 4
        }
      ]
    },
    {
      "cell_type": "code",
      "metadata": {
        "colab": {
          "base_uri": "https://localhost:8080/"
        },
        "id": "hDrkvyocN04j",
        "outputId": "ecaec491-9db8-41ea-a706-9084e73331b5"
      },
      "source": [
        "testBradford.pdf(3)"
      ],
      "execution_count": 5,
      "outputs": [
        {
          "output_type": "execute_result",
          "data": {
            "text/plain": [
              "0.7213475204444817"
            ]
          },
          "metadata": {
            "tags": []
          },
          "execution_count": 5
        }
      ]
    }
  ]
}