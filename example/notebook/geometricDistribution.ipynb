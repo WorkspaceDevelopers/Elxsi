{
  "nbformat": 4,
  "nbformat_minor": 0,
  "metadata": {
    "colab": {
      "name": "geometricDistribution",
      "provenance": [],
      "authorship_tag": "ABX9TyOAuEfGVWXLAk5AqlMQNT8v"
    },
    "kernelspec": {
      "name": "python3",
      "display_name": "Python 3"
    },
    "language_info": {
      "name": "python"
    }
  },
  "cells": [
    {
      "cell_type": "code",
      "metadata": {
        "id": "Y9JfZLx1nUVO"
      },
      "source": [
        "\"\"\"\n",
        "General Distribution\n",
        "(General parent class for to act as a base class)\n",
        "\"\"\"\n",
        "# Author: Ashwin Raj <rajashwin733@gmail.com>\n",
        "# License: GNU General Public License v3.0\n",
        "\n",
        "class Distribution:\n",
        "\t\"\"\"\n",
        "\tGeneric Distribution class for calculating probability distribution\n",
        "\tAttributes:\n",
        "\t\t1. mean\n",
        "\t\t2. stdev\n",
        "\t\t3. data\n",
        "\t\"\"\"\n",
        "\tdef __init__(self,mu=0,sigma=1):\n",
        "\t\t#Mean value of the distribution\n",
        "\t\tself.mean = mu\n",
        "\t\t#Sandard deviation of the distribution\n",
        "\t\tself.stdev = sigma\n",
        "\t\t#List of floats extracted from input file\n",
        "\t\tself.data = []\n",
        "\n",
        "\t\n",
        "\tdef read_data_file(self,file_name):\n",
        "\t\t\"\"\"\n",
        "\t\tMethod to read data from a txt file(file_name) and store in self.data.\n",
        "\t\tThe txt file should have one number (float) per line.\n",
        "\n",
        "\t\tArgs:\n",
        "\t\t\tName of the file to read data from.\n",
        "\n",
        "\t\tReturns:\n",
        "\t\t\tNo return value\n",
        "\t\t\"\"\"\n",
        "\t\twith open(file_name) as file:\n",
        "\t\t#file_name: name of the txt file to read data from\n",
        "\t\t\tdata_list = []\n",
        "\t\t\t#Returns one line from the file\n",
        "\t\t\tline = file.readline()\n",
        "\n",
        "\t\t\twhile line:\n",
        "\t\t\t\t#Add data to the list\n",
        "\t\t\t\tdata_list.append(int(line))\n",
        "\t\t\t\tline = file.readline()\n",
        "\n",
        "\t\t#Close the file\n",
        "\t\tfile.close()\n",
        "\t\t#store the data in the class attribute\n",
        "\t\tself.data = data_list"
      ],
      "execution_count": 1,
      "outputs": []
    },
    {
      "cell_type": "code",
      "metadata": {
        "id": "HznnAmOOnX7P"
      },
      "source": [
        "\"\"\"\n",
        "Geometric Distribution\n",
        "\"\"\"\n",
        "# Author: Ashwin Raj <rajashwin733@gmail.com>\n",
        "# License: GNU General Public License v3.0\n",
        "\n",
        "import math\n",
        "\n",
        "class Geometric(Distribution):\n",
        "\t\"\"\"\n",
        "\tGeometric distribution class for calculating geometric distribution\n",
        "\tGeometric class inherits from distribution class of generalDistribution.py module\n",
        "\n",
        "\tNotation:\n",
        "\t\tX ∼ Geo(ρ)\n",
        "\n",
        "\tAttributes:\n",
        "\t\t1. ρ (shape parameter)\n",
        "\t\t2. trials (kTrials / kFailures)\n",
        "\n",
        "\tParameters:\n",
        "\t\t0 < ρ <= 1\n",
        "\n",
        "\tSupport:\n",
        "\t\tk trials where, k ∈ {1,2,3...}\n",
        "\t\tk failures where, k ∈ {0,1,2,3...}\n",
        "\t\"\"\"\t\n",
        "\tdef __init__(self,rho=1,trials=True):\n",
        "\t\t#Default value of p = 1\n",
        "\t\tself.p = rho\n",
        "\t\t#Default value of trials = True\n",
        "\t\tself.trial = trials\n",
        "\n",
        "\t\tDistribution.__init__(self,self.calculate_mean(),self.calculate_stdev())\n",
        "\n",
        "\tdef calculate_mean(self):\n",
        "\t\t\"\"\"\n",
        "\t\tMethod to calculate the mean\n",
        "        \n",
        "\t\tArgs: \n",
        "\t\t\tnone\n",
        "        \n",
        "\t\tReturns: \n",
        "\t\t\tself.mean(float): Mean of the data set\n",
        "\n",
        "\t\tRaises:\n",
        "\t\t\tZeroDivisionError(string): Raised when division by zero\n",
        "\t\t\tValueError(string): Raised when value error occurs\n",
        "\t\t\"\"\"\n",
        "\t\ttry:\n",
        "\t\t\t#Check if k trials where, k ∈ {1,2,3...}\n",
        "\t\t\tif self.trial is True:\n",
        "\t\t\t\t#Mean = 1 / ρ\n",
        "\t\t\t\tself.mean = 1 / self.p\n",
        "\t\t\t\treturn self.mean\n",
        "\n",
        "\t\t\t#Check if k failures where, k ∈ {0,1,2,3...}\n",
        "\t\t\telse:\n",
        "\t\t\t\t#Mean = (1 - ρ) / ρ\n",
        "\t\t\t\tself.mean = (1 - self.p) / self.p\n",
        "\t\t\t\treturn self.mean\n",
        "\n",
        "\t\t#If division by zero occurs, raise an error\n",
        "\t\texcept ZeroDivisionError as error:\t\n",
        "\t\t\traise\n",
        "\n",
        "\t\t#If value error occurs, raise an error\n",
        "\t\texcept ValueError as error:\n",
        "\t\t\traise\n",
        "\n",
        "\tdef calculate_stdev(self):\n",
        "\t\t\"\"\"\n",
        "\t\tMethod to calculate the standard deviation\n",
        "        \n",
        "\t\tArgs: \n",
        "\t\t\tnone\n",
        "        \n",
        "\t\tReturns: \n",
        "\t\t\tself.stdev(float): Standard deviation of the data set\n",
        "\n",
        "\t\tRaises:\n",
        "\t\t\tZeroDivisionError(string): Raised when division by zero\n",
        "\t\t\tValueError(string): Raised when value error occurs\n",
        "\t\t\"\"\"\n",
        "\t\ttry:\n",
        "\t\t\t#Variance = (1 - ρ) / ρ^2\n",
        "\t\t\tvariance = (1 - self.p) / (self.p ** 2)\n",
        "\t\t\t#Standard deviation = sqrt(variance)\n",
        "\t\t\tself.stdev = math.sqrt(variance)\n",
        "\n",
        "\t\t#If division by zero occurs, raise an error\n",
        "\t\texcept ZeroDivisionError as error:\t\n",
        "\t\t\traise\n",
        "\n",
        "\t\t#If value error occurs, raise an error\n",
        "\t\texcept ValueError as error:\n",
        "\t\t\traise\n",
        "\n",
        "\tdef pdf(self,x=1):\n",
        "\t\t\"\"\"\n",
        "\t\tMethod to calculate probability density function for geometric distribution\n",
        "        \n",
        "\t\tArgs:\n",
        "\t\t\tx(float): Random variable\n",
        "\n",
        "\t\tReturns:\n",
        "\t\t\tpdf(float): Probability density function for geometric distribution\n",
        "\t\t\"\"\"\n",
        "\t\t#If k trials\n",
        "\t\tif self.trial is True:\n",
        "\t\t\t#pdf = (1-ρ)^(k-1) ρ\n",
        "\t\t\treturn ((1 - self.p) ** (x-1)) * self.p\n",
        "\n",
        "\t\t#If k failures\n",
        "\t\telse:\n",
        "\t\t\t#pdf = (1-ρ)^k ρ\n",
        "\t\t\treturn ((1 - self.p) ** x) * self.p\n",
        "\n",
        "\tdef __add__(self,other):\n",
        "\t\t\"\"\"\n",
        "\t\tMethod to add together two geometric distributions\n",
        "        \n",
        "\t\tArgs:\n",
        "\t\t\tother(geometric distribution): Geometric instance\n",
        "            \n",
        "\t\tReturns:\n",
        "\t\t\tresult(geometric distribution): Sum of geometric distribution\n",
        "\t\t\"\"\"\n",
        "\t\tresult = Geometric()\n",
        "\n",
        "\t\t#Calculate the value of ρ of the sum of two instances\n",
        "\t\tresult.p = self.p + other.p\n",
        "\n",
        "\t\t#Calculate the mean of the two geometric instances\n",
        "\t\tresult.calculate_mean()\n",
        "\t\t#Calculate the standard deviations of the two geometric instances\n",
        "\t\tresult.calculate_stdev()\n",
        "\t\treturn result\n",
        "\n",
        "\tdef __repr__(self):\n",
        "\t\t\"\"\"\n",
        "\t\tMethod to output the characteristics of the geometric instance\n",
        "        \n",
        "\t\tArgs:\n",
        "\t\t\tnone\n",
        "        \n",
        "\t\tReturns:\n",
        "\t\t\toutput(string): Characteristics of the distribution\n",
        "\t\t\"\"\"\n",
        "\t\treturn \"ρ: {}, Mean: {}, Standard Deviation: {}\".format(self.p,self.mean,self.stdev)"
      ],
      "execution_count": 2,
      "outputs": []
    },
    {
      "cell_type": "code",
      "metadata": {
        "id": "cNypNBrhoxF9"
      },
      "source": [
        "testGeometric = Geometric(0.2,False)"
      ],
      "execution_count": 3,
      "outputs": []
    },
    {
      "cell_type": "code",
      "metadata": {
        "colab": {
          "base_uri": "https://localhost:8080/"
        },
        "id": "lEo61GxfpLuo",
        "outputId": "cdad585b-4960-4651-92b4-3c04f9399f09"
      },
      "source": [
        "testGeometric"
      ],
      "execution_count": 4,
      "outputs": [
        {
          "output_type": "execute_result",
          "data": {
            "text/plain": [
              "ρ: 0.2, Mean: 4.0, Standard Deviation: None"
            ]
          },
          "metadata": {
            "tags": []
          },
          "execution_count": 4
        }
      ]
    },
    {
      "cell_type": "code",
      "metadata": {
        "colab": {
          "base_uri": "https://localhost:8080/"
        },
        "id": "QlMq3ukepOKR",
        "outputId": "15ecf84f-8417-4049-f9bf-522e9265f33b"
      },
      "source": [
        "testGeometric.pdf(3)"
      ],
      "execution_count": 5,
      "outputs": [
        {
          "output_type": "execute_result",
          "data": {
            "text/plain": [
              "0.10240000000000003"
            ]
          },
          "metadata": {
            "tags": []
          },
          "execution_count": 5
        }
      ]
    }
  ]
}