{
  "nbformat": 4,
  "nbformat_minor": 0,
  "metadata": {
    "colab": {
      "name": "tDistribution",
      "provenance": [],
      "authorship_tag": "ABX9TyP3wNFeLjDZFe4GnCeVKrXM"
    },
    "kernelspec": {
      "name": "python3",
      "display_name": "Python 3"
    },
    "language_info": {
      "name": "python"
    }
  },
  "cells": [
    {
      "cell_type": "code",
      "metadata": {
        "id": "HZy4qHuaHuTk"
      },
      "source": [
        "\"\"\"\n",
        "General Distribution\n",
        "(General parent class for to act as a base class)\n",
        "\"\"\"\n",
        "# Author: Ashwin Raj <rajashwin733@gmail.com>\n",
        "# License: GNU General Public License v3.0\n",
        "\n",
        "class Distribution:\n",
        "\t\"\"\"\n",
        "\tGeneric Distribution class for calculating probability distribution\n",
        "\tAttributes:\n",
        "\t\t1. mean\n",
        "\t\t2. stdev\n",
        "\t\t3. data\n",
        "\t\"\"\"\n",
        "\tdef __init__(self,mu=0,sigma=1):\n",
        "\t\t#Mean value of the distribution\n",
        "\t\tself.mean = mu\n",
        "\t\t#Sandard deviation of the distribution\n",
        "\t\tself.stdev = sigma\n",
        "\t\t#List of floats extracted from input file\n",
        "\t\tself.data = []\n",
        "\n",
        "\t\n",
        "\tdef read_data_file(self,file_name):\n",
        "\t\t\"\"\"\n",
        "\t\tMethod to read data from a txt file(file_name) and store in self.data.\n",
        "\t\tThe txt file should have one number (float) per line.\n",
        "\n",
        "\t\tArgs:\n",
        "\t\t\tName of the file to read data from.\n",
        "\n",
        "\t\tReturns:\n",
        "\t\t\tNo return value\n",
        "\t\t\"\"\"\n",
        "\t\twith open(file_name) as file:\n",
        "\t\t#file_name: name of the txt file to read data from\n",
        "\t\t\tdata_list = []\n",
        "\t\t\t#Returns one line from the file\n",
        "\t\t\tline = file.readline()\n",
        "\n",
        "\t\t\twhile line:\n",
        "\t\t\t\t#Add data to the list\n",
        "\t\t\t\tdata_list.append(int(line))\n",
        "\t\t\t\tline = file.readline()\n",
        "\n",
        "\t\t#Close the file\n",
        "\t\tfile.close()\n",
        "\t\t#store the data in the class attribute\n",
        "\t\tself.data = data_list"
      ],
      "execution_count": 1,
      "outputs": []
    },
    {
      "cell_type": "code",
      "metadata": {
        "id": "Pi5tStHRHv2Y"
      },
      "source": [
        "\"\"\"\n",
        "T Distribution\n",
        "(Also known as Student's t-Distribution)\n",
        "\"\"\"\n",
        "# Author: Ashwin Raj <rajashwin733@gmail.com>\n",
        "# License: GNU General Public License v3.0\n",
        "\n",
        "import math\n",
        "\n",
        "class T(Distribution):\n",
        "\t\"\"\"\n",
        "\tT distribution class for calculating T distribution\n",
        "\tT class inherits from distribution class of generalDistribution.py module\n",
        "\n",
        "\tNotation:\n",
        "\t\tX ∼ T(v)\n",
        "\n",
        "\tAttributes:\n",
        "\t\t1. v (degree of freedom)\n",
        "\n",
        "\tParameters:\n",
        "\t\tv > 0 degree of freedom (real)\n",
        "\n",
        "\tSupport:\n",
        "\t\tx ∈ (-∞,∞)\n",
        "\t\"\"\"\n",
        "\tdef __init__(self,degreeOfFreedom=4):\n",
        "\t\t#Default value of v = 4\n",
        "\t\tself.v = degreeOfFreedom\n",
        "\n",
        "\t\tDistribution.__init__(self,self.calculate_mean(),self.calculate_stdev())\n",
        "\n",
        "\tdef calculate_mean(self):\n",
        "\t\t\"\"\"\n",
        "\t\tMethod to calculate the mean\n",
        "\t\t\n",
        "\t\tArgs:\n",
        "\t\t\tnone\n",
        "\n",
        "\t\tReturns:\n",
        "\t\t\tself.mean(float/string): Mean of the input dataset\n",
        "\t\t\"\"\"\n",
        "\t\t#For v>1\n",
        "\t\tif(self.v > 1):\n",
        "\t\t\tself.mean = 0\n",
        "\n",
        "\t\t#Otherwise undefined\n",
        "\t\telse:\n",
        "\t\t\tself.mean = \"Undefined\"\n",
        "\t\t\n",
        "\t\treturn self.mean\n",
        "\n",
        "\tdef calculate_stdev(self):\n",
        "\t\t\"\"\"\n",
        "\t\tMethod to calculate the standard deviation\n",
        "        \n",
        "\t\tArgs: \n",
        "\t\t\tnone\n",
        "        \n",
        "\t\tReturns: \n",
        "\t\t\tself.stdev(float/string): Standard deviation of the data set\n",
        "\t\t\"\"\"\n",
        "\t\t#For v>2\n",
        "\t\tif(self.v > 2):\n",
        "\t\t\tvariance = self.v / (self.v - 2)\n",
        "\t\t\t#Standard deviation = sqrt(variance)\n",
        "\t\t\tself.stdev = math.sqrt(variance)\n",
        "\n",
        "\t\t#For 1<v<=2\n",
        "\t\telif(self.v > 1 and self.v<=2):\n",
        "\t\t\tself.stdev = \"∞\"\n",
        "\n",
        "\t\t#Otherwise undefined\n",
        "\t\telse:\n",
        "\t\t\tself.stdev = \"Undefined\"\n",
        "\n",
        "\t\treturn self.stdev\n",
        "\n",
        "\tdef pdf(self,x):\n",
        "\t\t\"\"\"\n",
        "\t\tMethod to calculate probability density function for T distribution\n",
        "        \n",
        "\t\tArgs:\n",
        "\t\t\tx(float): Random variable\n",
        "\n",
        "\t\tReturns:\n",
        "\t\t\tpdf(float): Probability density function for T distribution\n",
        "\n",
        "\t\tRaises:\n",
        "\t\t\tZeroDivisionError(string): Raised when division by zero\n",
        "\t\t\tValueError(string): Raised when value error occurs\n",
        "\t\t\"\"\"\n",
        "\t\ttry:\n",
        "\t\t\t#Numerator part of operandOne\n",
        "\t\t\tpartOneNumerator = math.gamma((self.v + 1) / 2)\n",
        "\t\t\t#Denominator part of operandTwo\n",
        "\t\t\tpartOneDenominator = math.sqrt(self.v * math.pi) * math.gamma(self.v / 2)\n",
        "\n",
        "\t\t\t#Operand two raised to the power powPartTwo\n",
        "\t\t\tpowPartTwo = -1.0 * ((self.v + 1) / 2)\n",
        "\t\t\t\"\"\"\n",
        "\t\t\t\t  Γ(v+1 / 2)\t\t  -(v+1 / 2)\n",
        "\t\t\tf(x;v) = ------------ (1+(x^(2)/v))\n",
        "\t\t\t\t  √vπ Γ(v/2)\n",
        "\t\t\t\"\"\"\n",
        "\t\t\t#Operand one of the pdf expression\n",
        "\t\t\toperandOne = partOneNumerator / partOneDenominator\n",
        "\t\t\t#Operand two of the pdf expression\n",
        "\t\t\toperandTwo = (1 + ((x ** 2) / self.v)) ** powPartTwo\n",
        "\t\t\treturn operandOne * operandTwo\n",
        "\n",
        "\t\t#If division by zero occurs, raise an error\n",
        "\t\texcept ZeroDivisionError as error:\t\n",
        "\t\t\traise\n",
        "\n",
        "\t\t#If value error occurs, raise an error\n",
        "\t\texcept ValueError as error:\n",
        "\t\t\traise\n",
        "\n",
        "\tdef __repr__(self):\n",
        "\t\t\"\"\"\n",
        "\t\tMethod to output the characteristics of the F instance\n",
        "        \n",
        "\t\tArgs:\n",
        "\t\t\tnone\n",
        "        \n",
        "\t\tReturns:\n",
        "\t\t\toutput(string): Characteristics of the distribution\n",
        "\t\t\"\"\"\n",
        "\t\treturn \"v: {}, Mean: {}, Standard Deviation: {}\".format(self.v,self.mean,self.stdev)"
      ],
      "execution_count": 2,
      "outputs": []
    },
    {
      "cell_type": "code",
      "metadata": {
        "id": "MGq2dATiImFi"
      },
      "source": [
        "tTest = T(2)"
      ],
      "execution_count": 3,
      "outputs": []
    },
    {
      "cell_type": "code",
      "metadata": {
        "colab": {
          "base_uri": "https://localhost:8080/"
        },
        "id": "fj2EFlETIryd",
        "outputId": "126c8184-fe34-4839-cf57-76e90bcf91b3"
      },
      "source": [
        "tTest"
      ],
      "execution_count": 4,
      "outputs": [
        {
          "output_type": "execute_result",
          "data": {
            "text/plain": [
              "v: 2, Mean: 0, Standard Deviation: ∞"
            ]
          },
          "metadata": {
            "tags": []
          },
          "execution_count": 4
        }
      ]
    },
    {
      "cell_type": "code",
      "metadata": {
        "colab": {
          "base_uri": "https://localhost:8080/"
        },
        "id": "aXtl1qtvIuLJ",
        "outputId": "68d122fe-26e7-44a5-b53d-b9dbd5b837ab"
      },
      "source": [
        "tTest.pdf(3)"
      ],
      "execution_count": 5,
      "outputs": [
        {
          "output_type": "execute_result",
          "data": {
            "text/plain": [
              "0.027410122234342152"
            ]
          },
          "metadata": {
            "tags": []
          },
          "execution_count": 5
        }
      ]
    }
  ]
}