{
  "nbformat": 4,
  "nbformat_minor": 0,
  "metadata": {
    "colab": {
      "name": "uniformDistribution",
      "provenance": [],
      "authorship_tag": "ABX9TyOM4jvwpfILPzw6KDgWh0ct"
    },
    "kernelspec": {
      "name": "python3",
      "display_name": "Python 3"
    },
    "language_info": {
      "name": "python"
    }
  },
  "cells": [
    {
      "cell_type": "code",
      "metadata": {
        "id": "34GDmXEtPOzr"
      },
      "source": [
        "\"\"\"\n",
        "General Distribution\n",
        "(General parent class for to act as a base class)\n",
        "\"\"\"\n",
        "# Author: Ashwin Raj <rajashwin733@gmail.com>\n",
        "# License: GNU General Public License v3.0\n",
        "\n",
        "class Distribution:\n",
        "\t\"\"\"\n",
        "\tGeneric Distribution class for calculating probability distribution\n",
        "\tAttributes:\n",
        "\t\t1. mean\n",
        "\t\t2. stdev\n",
        "\t\t3. data\n",
        "\t\"\"\"\n",
        "\tdef __init__(self,mu=0,sigma=1):\n",
        "\t\t#Mean value of the distribution\n",
        "\t\tself.mean = mu\n",
        "\t\t#Sandard deviation of the distribution\n",
        "\t\tself.stdev = sigma\n",
        "\t\t#List of floats extracted from input file\n",
        "\t\tself.data = []\n",
        "\n",
        "\t\n",
        "\tdef read_data_file(self,file_name):\n",
        "\t\t\"\"\"\n",
        "\t\tMethod to read data from a txt file(file_name) and store in self.data.\n",
        "\t\tThe txt file should have one number (float) per line.\n",
        "\n",
        "\t\tArgs:\n",
        "\t\t\tName of the file to read data from.\n",
        "\n",
        "\t\tReturns:\n",
        "\t\t\tNo return value\n",
        "\t\t\"\"\"\n",
        "\t\twith open(file_name) as file:\n",
        "\t\t#file_name: name of the txt file to read data from\n",
        "\t\t\tdata_list = []\n",
        "\t\t\t#Returns one line from the file\n",
        "\t\t\tline = file.readline()\n",
        "\n",
        "\t\t\twhile line:\n",
        "\t\t\t\t#Add data to the list\n",
        "\t\t\t\tdata_list.append(int(line))\n",
        "\t\t\t\tline = file.readline()\n",
        "\n",
        "\t\t#Close the file\n",
        "\t\tfile.close()\n",
        "\t\t#store the data in the class attribute\n",
        "\t\tself.data = data_list"
      ],
      "execution_count": 1,
      "outputs": []
    },
    {
      "cell_type": "code",
      "metadata": {
        "id": "BeI_cArZPU-X"
      },
      "source": [
        "\"\"\"\n",
        "Uniform Distribution\n",
        "(Also known as Rectangular Distribution)\n",
        "\"\"\"\n",
        "#Author: Ashwin Raj <rajashwin733@gmail.com>\n",
        "#License: GNU General Public License v3.0\n",
        "\n",
        "import math\n",
        "\n",
        "class Uniform(Distribution):\n",
        "\t\"\"\"\n",
        "\tUniform distribution class for calculating uniform distribution\n",
        "\tUniform class inherits from distribution class of generalDistribution.py module\n",
        "\n",
        "\tNotation:\n",
        "\t\tUnif(a,b)\n",
        "    \n",
        "\tAttributes:\n",
        "\t\t1. a (location parameter)\n",
        "\t\t2. b (scale parameter)\n",
        "\n",
        "\tParameters:\n",
        "\t\t-∞ < a < b < ∞\n",
        "\n",
        "\tSupport:\n",
        "\t\tx ∈ [a,b]\n",
        "\t\"\"\"\n",
        "\tdef __init__(self,locationParam=0,scaleParam=1):\n",
        "\t\t#Default value of a = 0\n",
        "\t\tself.a = locationParam\n",
        "\t\t#Default value of b = 1\n",
        "\t\tself.b = scaleParam\n",
        "\n",
        "\t\tDistribution.__init__(self,self.calculate_mean(),self.calculate_stdev())\n",
        "\n",
        "\tdef calculate_mean(self):\n",
        "\t\t\"\"\"\n",
        "\t\tMethod to calculate the mean\n",
        "        \n",
        "\t\tArgs: \n",
        "\t\t\tnone\n",
        "        \n",
        "\t\tReturns: \n",
        "\t\t\tself.mean(float): Mean of the data set\n",
        "\t\t\"\"\"\n",
        "\t\tself.mean = (self.a + self.b) / 2\n",
        "\t\t\"\"\"\n",
        "\t\t\t  1\n",
        "\t\tMean = -------\n",
        "\t\t\ta + b\n",
        "\t\t\"\"\"\n",
        "\t\treturn self.mean\n",
        "\n",
        "\tdef calculate_stdev(self):\n",
        "\t\t\"\"\"\n",
        "\t\tMethod to calculate the standard deviation\n",
        "        \n",
        "\t\tArgs: \n",
        "\t\t\tnone\n",
        "        \n",
        "\t\tReturns: \n",
        "\t\t\tself.stdev(float): Standard deviation of the data set\n",
        "\t\t\"\"\"\n",
        "\t\tvariance = ((self.b - self.a)**2) / 12\n",
        "\t\t\"\"\"\n",
        "\t\t\t    (b - a)^(2)\n",
        "\t\tVariance = -------------\n",
        "\t\t\t\t12\n",
        "\t\t\"\"\"\n",
        "\t\tself.stdev = math.sqrt(variance)\n",
        "\t\treturn self.stdev\n",
        "\n",
        "\tdef replace_stats_with_data(self):\n",
        "\t\t\"\"\"\n",
        "\t\tMethod to calculate p and n from the data set\n",
        "        \n",
        "\t\tArgs: \n",
        "\t\t\tnone\n",
        "        \n",
        "\t\tReturns: \n",
        "\t\t\tself.a(float): Value of a\n",
        "\t\t\tself.b(float): Value of b    \n",
        "\t\t\"\"\"\n",
        "\t\tself.a = min(self.data)\t#max value in the data file\n",
        "\t\tself.b = max(self.data)\t#min value in the data file\n",
        "\n",
        "\t\t#Calculate mean and standard deviation\n",
        "\t\tself.mean = self.calculate_mean()\n",
        "\t\tself.stdev = self.calculate_stdev()\n",
        "\t\treturn self.a, self.b\n",
        "\n",
        "\tdef pdf(self,x):\n",
        "\t\t\"\"\"\n",
        "\t\tMethod to calculate probability density function for uniform distribution\n",
        "        \n",
        "\t\tArgs:\n",
        "\t\t\tx(float): Random variable\n",
        "\n",
        "\t\tReturns:\n",
        "\t\t\tpdf(float): Probability density function for uniform distribution\n",
        "\t\t\"\"\"\n",
        "\t\t#For random variable ranging between a and b\n",
        "\t\tif(x < self.a or x > self.b):\n",
        "\t\t\treturn 0\n",
        "\n",
        "\t\t#Otherwise\n",
        "\t\telse:\n",
        "\t\t\t\"\"\"\n",
        "\t\t\t\t      1\n",
        "\t\t\tf(x;a,b) = -------\n",
        "\t\t\t\t    b - a\n",
        "\t\t\t\"\"\"\n",
        "\t\t\treturn 1 / (self.b - self.a)\n",
        "\n",
        "\tdef __add__(self,other):\n",
        "\t\t\"\"\"\n",
        "\t\tMethod to add together two uniform distributions with equal p\n",
        "        \n",
        "\t\tArgs:\n",
        "\t\t\tother(uniform distribution): Uniform instance\n",
        "            \n",
        "\t\tReturns:\n",
        "\t\t\tresult(uniform distribution): Sum of uniform distribution\n",
        "\t\t\"\"\"\n",
        "\t\tresult = Uniform()\n",
        "\n",
        "\t\tresult.a = self.a + other.a\n",
        "\t\tresult.b = self.b + other.b\n",
        "\n",
        "\t\t#Calculate the mean of the two uniform instances\n",
        "\t\tresult.calculate_mean()\n",
        "\t\t#Calculate the standard deviations of the two uniform instances\n",
        "\t\tresult.calculate_stdev()\n",
        "\n",
        "\t\treturn result\n",
        "\n",
        "\tdef __repr__(self):\n",
        "\t\t\"\"\"\n",
        "\t\tMethod to output the characteristics of the uniform instance\n",
        "        \n",
        "\t\tArgs:\n",
        "\t\t\tnone\n",
        "        \n",
        "\t\tReturns:\n",
        "\t\t\toutput(string): Characteristics of the distribution\n",
        "\t\t\"\"\"\n",
        "\t\treturn \"a: {}, b: {}, mean: {}, standard deviation: {}\".format(self.a,self.b,self.mean,self.stdev)"
      ],
      "execution_count": 2,
      "outputs": []
    },
    {
      "cell_type": "code",
      "metadata": {
        "id": "vNR3JybyRh7o"
      },
      "source": [
        "uniformTest = Uniform(2,7)"
      ],
      "execution_count": 3,
      "outputs": []
    },
    {
      "cell_type": "code",
      "metadata": {
        "colab": {
          "base_uri": "https://localhost:8080/"
        },
        "id": "BdI0pz8NRnMA",
        "outputId": "690f71f7-2d15-47af-aff3-037233770d1e"
      },
      "source": [
        "uniformTest"
      ],
      "execution_count": 4,
      "outputs": [
        {
          "output_type": "execute_result",
          "data": {
            "text/plain": [
              "a: 2, b: 7, mean: 4.5, standard deviation: 1.4433756729740645"
            ]
          },
          "metadata": {
            "tags": []
          },
          "execution_count": 4
        }
      ]
    },
    {
      "cell_type": "code",
      "metadata": {
        "colab": {
          "base_uri": "https://localhost:8080/"
        },
        "id": "WUnFTF7_Ro4e",
        "outputId": "bca64d1b-3960-41d5-a66a-fbb3601fae79"
      },
      "source": [
        "uniformTest.pdf(3)"
      ],
      "execution_count": 5,
      "outputs": [
        {
          "output_type": "execute_result",
          "data": {
            "text/plain": [
              "0.2"
            ]
          },
          "metadata": {
            "tags": []
          },
          "execution_count": 5
        }
      ]
    }
  ]
}