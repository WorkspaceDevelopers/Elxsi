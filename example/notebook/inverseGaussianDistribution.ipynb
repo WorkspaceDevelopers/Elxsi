{
  "nbformat": 4,
  "nbformat_minor": 0,
  "metadata": {
    "colab": {
      "name": "inverseGaussianDistribution",
      "provenance": [],
      "authorship_tag": "ABX9TyOJATkWdst86CJXxoJynLfI"
    },
    "kernelspec": {
      "name": "python3",
      "display_name": "Python 3"
    },
    "language_info": {
      "name": "python"
    }
  },
  "cells": [
    {
      "cell_type": "code",
      "metadata": {
        "id": "H6Nm4Lf5poHH"
      },
      "source": [
        "\"\"\"\n",
        "General Distribution\n",
        "(General parent class for to act as a base class)\n",
        "\"\"\"\n",
        "# Author: Ashwin Raj <rajashwin733@gmail.com>\n",
        "# License: GNU General Public License v3.0\n",
        "\n",
        "class Distribution:\n",
        "\t\"\"\"\n",
        "\tGeneric Distribution class for calculating probability distribution\n",
        "\tAttributes:\n",
        "\t\t1. mean\n",
        "\t\t2. stdev\n",
        "\t\t3. data\n",
        "\t\"\"\"\n",
        "\tdef __init__(self,mu=0,sigma=1):\n",
        "\t\t#Mean value of the distribution\n",
        "\t\tself.mean = mu\n",
        "\t\t#Sandard deviation of the distribution\n",
        "\t\tself.stdev = sigma\n",
        "\t\t#List of floats extracted from input file\n",
        "\t\tself.data = []\n",
        "\n",
        "\t\n",
        "\tdef read_data_file(self,file_name):\n",
        "\t\t\"\"\"\n",
        "\t\tMethod to read data from a txt file(file_name) and store in self.data.\n",
        "\t\tThe txt file should have one number (float) per line.\n",
        "\n",
        "\t\tArgs:\n",
        "\t\t\tName of the file to read data from.\n",
        "\n",
        "\t\tReturns:\n",
        "\t\t\tNo return value\n",
        "\t\t\"\"\"\n",
        "\t\twith open(file_name) as file:\n",
        "\t\t#file_name: name of the txt file to read data from\n",
        "\t\t\tdata_list = []\n",
        "\t\t\t#Returns one line from the file\n",
        "\t\t\tline = file.readline()\n",
        "\n",
        "\t\t\twhile line:\n",
        "\t\t\t\t#Add data to the list\n",
        "\t\t\t\tdata_list.append(int(line))\n",
        "\t\t\t\tline = file.readline()\n",
        "\n",
        "\t\t#Close the file\n",
        "\t\tfile.close()\n",
        "\t\t#store the data in the class attribute\n",
        "\t\tself.data = data_list"
      ],
      "execution_count": 1,
      "outputs": []
    },
    {
      "cell_type": "code",
      "metadata": {
        "id": "ZRvjTNwFpqG4"
      },
      "source": [
        "\"\"\"\n",
        "Inverse Gaussian Distribution\n",
        "(Also known as Wald Distribution or Normal-Inverse Gaussian Distribution)\n",
        "\"\"\"\n",
        "# Author: Ashwin Raj <rajashwin733@gmail.com>\n",
        "# License: GNU General Public License v3.0\n",
        "\n",
        "import math\n",
        "\n",
        "class InverseGaussian(Distribution):\n",
        "\t\"\"\"\n",
        "\tInverse gaussian distribution class for calculating inverse gaussian distribution\n",
        "\tInverse gaussian class inherits from distribution class of generalDistribution.py module\n",
        "\n",
        "\tNotation:\n",
        "\t\tX ∼ IG(μ,λ)\n",
        "\n",
        "\tAttributes:\n",
        "\t\t1. μ (location parameter, μ>0)\n",
        "\t\t2. λ (scale parameter, λ>0)\n",
        "\n",
        "\tParameters:\n",
        "\t\tμ >0\n",
        "\t\tλ > 0\n",
        "\n",
        "\tSupport:\n",
        "\t\tx ∈ (0,∞)\n",
        "\t\"\"\"\n",
        "\n",
        "\tdef __init__(self,locationParameter=1,scaleParameter=1):\n",
        "\t\t#Default value of mu = 1\n",
        "\t\tself.mu = locationParameter\n",
        "\t\t#Default value of lamda = 1\n",
        "\t\tself.lamda = scaleParameter\n",
        "\n",
        "\t\tDistribution.__init__(self,self.calculate_mean(),self.calculate_stdev())\n",
        "\n",
        "\tdef calculate_mean(self):\n",
        "\t\t\"\"\"\n",
        "\t\tMethod to calculate the mean\n",
        "\t\t\n",
        "\t\tArgs:\n",
        "\t\t\tnone\n",
        "\n",
        "\t\tReturns:\n",
        "\t\t\tself.mean(float): Mean of the input dataset\n",
        "\t\t\"\"\"\n",
        "\t\t#Mean value of an inverse gaussian distribution is the same as the value of μ\n",
        "\t\tself.mean = self.mu\n",
        "\t\treturn self.mean\n",
        "\n",
        "\tdef calculate_stdev(self):\n",
        "\t\t\"\"\"\n",
        "\t\tMethod to calculate the standard deviation\n",
        "        \n",
        "\t\tArgs: \n",
        "\t\t\tnone\n",
        "        \n",
        "\t\tReturns: \n",
        "\t\t\tself.stdev(float): Standard deviation of the data set\n",
        "\t\t\"\"\"\n",
        "\t\t#Variance = μ^(3) / λ\n",
        "\t\tvariance = (self.mu ** 3) / self.lamda\n",
        "\n",
        "\t\t#Standard deviation = sqrt(variance) \n",
        "\t\tself.stdev = math.sqrt(variance)\n",
        "\t\treturn self.stdev\n",
        "\n",
        "\tdef pdf(self,x):\n",
        "\t\t\"\"\"\n",
        "\t\tMethod to calculate probability density function for inverse gaussian distribution\n",
        "        \n",
        "\t\tArgs:\n",
        "\t\t\tx(float): Random variable\n",
        "\n",
        "\t\tReturns:\n",
        "\t\t\tpdf(float): Probability density function for inverse gaussian distribution\n",
        "\n",
        "\t\tRaises:\n",
        "\t\t\tZeroDivisionError(string): Raised when division by zero\n",
        "\t\t\tValueError(string): Raised when value error occurs\n",
        "\t\t\"\"\"\n",
        "\t\ttry:\n",
        "\t\t\t#Splitting the expression to calculate pdf for convenience\n",
        "\t\t\tpowNumerator = -1.0 * self.lamda * ((x - self.mu) ** 2)\n",
        "\t\t\tpowDenominator = 2 * (self.mu ** 2) * x\n",
        "\n",
        "\t\t\tpartOne = self.lamda / (2 * math.pi * (x ** 3))\n",
        "\t\t\tpowE = powNumerator / powDenominator\n",
        "\t\t\t\"\"\"\n",
        "\t\t\t\t\t λ\t\tλ (x-μ)^(2)\n",
        "\t\t\tf(x;μ,λ) = √(---------) exp[- --------------]\n",
        "\t\t\t\t     2 π x^(3)\t\t 2 μ^(2) x\n",
        "\t\t\t\"\"\"\n",
        "\t\t\toperand1 = math.sqrt(partOne)\n",
        "\t\t\toperand2 = math.exp(powE)\n",
        "\t\t\treturn operand1 * operand2\n",
        "\n",
        "\t\t#If division by zero occurs, raise an error\n",
        "\t\texcept ZeroDivisionError as error:\t\n",
        "\t\t\traise\n",
        "\n",
        "\t\t#If value error occurs, raise an error\n",
        "\t\texcept ValueError as error:\n",
        "\t\t\traise\n",
        "\n",
        "\tdef __repr__(self):\n",
        "\t\t\"\"\"\n",
        "\t\tMethod to output the characteristics of the inverse gaussian instance\n",
        "        \n",
        "\t\tArgs:\n",
        "\t\t\tnone\n",
        "        \n",
        "\t\tReturns:\n",
        "\t\t\toutput(string): Characteristics of the distribution\n",
        "\t\t\"\"\"\n",
        "\t\treturn \"μ: {}, λ: {}, Mean: {}, Standard Deviation: {}\".format(self.mu,self.lamda,self.mean,self.stdev)"
      ],
      "execution_count": 2,
      "outputs": []
    },
    {
      "cell_type": "code",
      "metadata": {
        "id": "FuM89mbtrCUc"
      },
      "source": [
        "inverseGaussianTest = InverseGaussian(2,3)"
      ],
      "execution_count": 3,
      "outputs": []
    },
    {
      "cell_type": "code",
      "metadata": {
        "colab": {
          "base_uri": "https://localhost:8080/"
        },
        "id": "7ceTQSVarNCK",
        "outputId": "74e83ca1-31e4-4629-e6c4-0ea456bc3f7a"
      },
      "source": [
        "inverseGaussianTest"
      ],
      "execution_count": 4,
      "outputs": [
        {
          "output_type": "execute_result",
          "data": {
            "text/plain": [
              "μ: 2, λ: 3, Mean: 2, Standard Deviation: 1.632993161855452"
            ]
          },
          "metadata": {
            "tags": []
          },
          "execution_count": 4
        }
      ]
    },
    {
      "cell_type": "code",
      "metadata": {
        "colab": {
          "base_uri": "https://localhost:8080/"
        },
        "id": "RKdYZkOwrPXp",
        "outputId": "cd1aeb7d-26e4-4826-a047-f944da1484bc"
      },
      "source": [
        "inverseGaussianTest.pdf(3)"
      ],
      "execution_count": 5,
      "outputs": [
        {
          "output_type": "execute_result",
          "data": {
            "text/plain": [
              "0.11735510892143318"
            ]
          },
          "metadata": {
            "tags": []
          },
          "execution_count": 5
        }
      ]
    }
  ]
}